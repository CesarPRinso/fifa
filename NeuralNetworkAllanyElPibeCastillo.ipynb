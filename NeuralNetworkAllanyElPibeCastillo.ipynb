{
 "cells": [
  {
   "cell_type": "code",
   "execution_count": 45,
   "metadata": {},
   "outputs": [],
   "source": [
    "import pandas as pd\n",
    "import tensorflow as tf\n",
    "from tensorflow import keras\n",
    "import matplotlib.pyplot as plt\n",
    "import random\n",
    "import numpy as np\n",
    "import seaborn as sns\n",
    "import math\n",
    "import os\n",
    "import tempfile\n",
    "import matplotlib as mpl\n",
    "from sklearn.metrics import confusion_matrix\n",
    "from sklearn.metrics import classification_report\n",
    "import numpy as np\n",
    "\n"
   ]
  },
  {
   "cell_type": "code",
   "execution_count": null,
   "metadata": {},
   "outputs": [],
   "source": []
  },
  {
   "cell_type": "code",
   "execution_count": 2,
   "metadata": {},
   "outputs": [],
   "source": [
    "mpl.rcParams['figure.figsize'] = (12, 10)\n",
    "colors = plt.rcParams['axes.prop_cycle'].by_key()['color']"
   ]
  },
  {
   "cell_type": "code",
   "execution_count": 3,
   "metadata": {},
   "outputs": [],
   "source": [
    "#Karpathy 1. fix random seed\n",
    "tf.random.set_seed(42)\n",
    "random.seed(42)\n",
    "np.random.seed(42)"
   ]
  },
  {
   "cell_type": "code",
   "execution_count": 4,
   "metadata": {},
   "outputs": [],
   "source": [
    "ATT_FILE_NAME = \"FootballPlayerPreparedCleanAttributes.csv\"\n",
    "ONE_HOT_ENCODED_CLASSES_FILE_NAME = \"FootballPlayerOneHotEncodedClasses.csv\""
   ]
  },
  {
   "cell_type": "code",
   "execution_count": 5,
   "metadata": {},
   "outputs": [],
   "source": [
    "att = pd.read_csv(ATT_FILE_NAME)\n",
    "target = pd.read_csv(ONE_HOT_ENCODED_CLASSES_FILE_NAME)"
   ]
  },
  {
   "cell_type": "code",
   "execution_count": 6,
   "metadata": {},
   "outputs": [],
   "source": [
    "from sklearn.model_selection import train_test_split"
   ]
  },
  {
   "cell_type": "code",
   "execution_count": 7,
   "metadata": {},
   "outputs": [
    {
     "data": {
      "text/html": [
       "<div>\n",
       "<style scoped>\n",
       "    .dataframe tbody tr th:only-of-type {\n",
       "        vertical-align: middle;\n",
       "    }\n",
       "\n",
       "    .dataframe tbody tr th {\n",
       "        vertical-align: top;\n",
       "    }\n",
       "\n",
       "    .dataframe thead th {\n",
       "        text-align: right;\n",
       "    }\n",
       "</style>\n",
       "<table border=\"1\" class=\"dataframe\">\n",
       "  <thead>\n",
       "    <tr style=\"text-align: right;\">\n",
       "      <th></th>\n",
       "      <th>Crossing</th>\n",
       "      <th>HeadingAccuracy</th>\n",
       "      <th>ShortPassing</th>\n",
       "      <th>Volleys</th>\n",
       "      <th>Dribbling</th>\n",
       "      <th>Curve</th>\n",
       "      <th>FKAccuracy</th>\n",
       "      <th>LongPassing</th>\n",
       "      <th>BallControl</th>\n",
       "      <th>Reactions</th>\n",
       "      <th>ShotPower</th>\n",
       "      <th>Stamina</th>\n",
       "      <th>LongShots</th>\n",
       "      <th>Aggression</th>\n",
       "      <th>Positioning</th>\n",
       "      <th>Vision</th>\n",
       "      <th>Composure</th>\n",
       "    </tr>\n",
       "  </thead>\n",
       "  <tbody>\n",
       "    <tr>\n",
       "      <th>count</th>\n",
       "      <td>16122.000000</td>\n",
       "      <td>16122.000000</td>\n",
       "      <td>16122.000000</td>\n",
       "      <td>16122.000000</td>\n",
       "      <td>16122.000000</td>\n",
       "      <td>16122.000000</td>\n",
       "      <td>16122.000000</td>\n",
       "      <td>16122.000000</td>\n",
       "      <td>16122.000000</td>\n",
       "      <td>16122.000000</td>\n",
       "      <td>16122.000000</td>\n",
       "      <td>16122.000000</td>\n",
       "      <td>16122.000000</td>\n",
       "      <td>16122.000000</td>\n",
       "      <td>16122.000000</td>\n",
       "      <td>16122.000000</td>\n",
       "      <td>16122.000000</td>\n",
       "    </tr>\n",
       "    <tr>\n",
       "      <th>mean</th>\n",
       "      <td>0.053537</td>\n",
       "      <td>0.064942</td>\n",
       "      <td>0.168294</td>\n",
       "      <td>-0.081373</td>\n",
       "      <td>0.122654</td>\n",
       "      <td>-0.030012</td>\n",
       "      <td>-0.132537</td>\n",
       "      <td>0.002751</td>\n",
       "      <td>0.076091</td>\n",
       "      <td>0.098800</td>\n",
       "      <td>0.125965</td>\n",
       "      <td>0.169170</td>\n",
       "      <td>-0.025506</td>\n",
       "      <td>0.136145</td>\n",
       "      <td>0.043417</td>\n",
       "      <td>0.060219</td>\n",
       "      <td>0.036497</td>\n",
       "    </tr>\n",
       "    <tr>\n",
       "      <th>std</th>\n",
       "      <td>0.344606</td>\n",
       "      <td>0.293820</td>\n",
       "      <td>0.268085</td>\n",
       "      <td>0.369549</td>\n",
       "      <td>0.301492</td>\n",
       "      <td>0.364944</td>\n",
       "      <td>0.358826</td>\n",
       "      <td>0.334822</td>\n",
       "      <td>0.282066</td>\n",
       "      <td>0.233806</td>\n",
       "      <td>0.326638</td>\n",
       "      <td>0.324097</td>\n",
       "      <td>0.379027</td>\n",
       "      <td>0.352347</td>\n",
       "      <td>0.349409</td>\n",
       "      <td>0.314939</td>\n",
       "      <td>0.274291</td>\n",
       "    </tr>\n",
       "    <tr>\n",
       "      <th>min</th>\n",
       "      <td>-1.000000</td>\n",
       "      <td>-1.000000</td>\n",
       "      <td>-1.000000</td>\n",
       "      <td>-1.000000</td>\n",
       "      <td>-1.000000</td>\n",
       "      <td>-1.000000</td>\n",
       "      <td>-1.000000</td>\n",
       "      <td>-1.000000</td>\n",
       "      <td>-1.000000</td>\n",
       "      <td>-1.000000</td>\n",
       "      <td>-1.000000</td>\n",
       "      <td>-1.000000</td>\n",
       "      <td>-1.000000</td>\n",
       "      <td>-1.000000</td>\n",
       "      <td>-1.000000</td>\n",
       "      <td>-1.000000</td>\n",
       "      <td>-1.000000</td>\n",
       "    </tr>\n",
       "    <tr>\n",
       "      <th>25%</th>\n",
       "      <td>-0.195122</td>\n",
       "      <td>-0.139241</td>\n",
       "      <td>0.013699</td>\n",
       "      <td>-0.375000</td>\n",
       "      <td>-0.012048</td>\n",
       "      <td>-0.325301</td>\n",
       "      <td>-0.428571</td>\n",
       "      <td>-0.189189</td>\n",
       "      <td>-0.070423</td>\n",
       "      <td>-0.066667</td>\n",
       "      <td>-0.086420</td>\n",
       "      <td>-0.014493</td>\n",
       "      <td>-0.301205</td>\n",
       "      <td>-0.097561</td>\n",
       "      <td>-0.166667</td>\n",
       "      <td>-0.146341</td>\n",
       "      <td>-0.162162</td>\n",
       "    </tr>\n",
       "    <tr>\n",
       "      <th>50%</th>\n",
       "      <td>0.097561</td>\n",
       "      <td>0.088608</td>\n",
       "      <td>0.205479</td>\n",
       "      <td>-0.075000</td>\n",
       "      <td>0.180723</td>\n",
       "      <td>-0.012048</td>\n",
       "      <td>-0.190476</td>\n",
       "      <td>0.054054</td>\n",
       "      <td>0.098592</td>\n",
       "      <td>0.093333</td>\n",
       "      <td>0.160494</td>\n",
       "      <td>0.188406</td>\n",
       "      <td>0.036145</td>\n",
       "      <td>0.170732</td>\n",
       "      <td>0.095238</td>\n",
       "      <td>0.097561</td>\n",
       "      <td>0.054054</td>\n",
       "    </tr>\n",
       "    <tr>\n",
       "      <th>75%</th>\n",
       "      <td>0.317073</td>\n",
       "      <td>0.265823</td>\n",
       "      <td>0.342466</td>\n",
       "      <td>0.200000</td>\n",
       "      <td>0.325301</td>\n",
       "      <td>0.253012</td>\n",
       "      <td>0.142857</td>\n",
       "      <td>0.243243</td>\n",
       "      <td>0.267606</td>\n",
       "      <td>0.253333</td>\n",
       "      <td>0.358025</td>\n",
       "      <td>0.391304</td>\n",
       "      <td>0.277108</td>\n",
       "      <td>0.390244</td>\n",
       "      <td>0.285714</td>\n",
       "      <td>0.292683</td>\n",
       "      <td>0.243243</td>\n",
       "    </tr>\n",
       "    <tr>\n",
       "      <th>max</th>\n",
       "      <td>1.000000</td>\n",
       "      <td>1.000000</td>\n",
       "      <td>1.000000</td>\n",
       "      <td>1.000000</td>\n",
       "      <td>1.000000</td>\n",
       "      <td>1.000000</td>\n",
       "      <td>1.000000</td>\n",
       "      <td>1.000000</td>\n",
       "      <td>1.000000</td>\n",
       "      <td>1.000000</td>\n",
       "      <td>1.000000</td>\n",
       "      <td>1.000000</td>\n",
       "      <td>1.000000</td>\n",
       "      <td>1.000000</td>\n",
       "      <td>1.000000</td>\n",
       "      <td>1.000000</td>\n",
       "      <td>1.000000</td>\n",
       "    </tr>\n",
       "  </tbody>\n",
       "</table>\n",
       "</div>"
      ],
      "text/plain": [
       "           Crossing  HeadingAccuracy  ShortPassing       Volleys  \\\n",
       "count  16122.000000     16122.000000  16122.000000  16122.000000   \n",
       "mean       0.053537         0.064942      0.168294     -0.081373   \n",
       "std        0.344606         0.293820      0.268085      0.369549   \n",
       "min       -1.000000        -1.000000     -1.000000     -1.000000   \n",
       "25%       -0.195122        -0.139241      0.013699     -0.375000   \n",
       "50%        0.097561         0.088608      0.205479     -0.075000   \n",
       "75%        0.317073         0.265823      0.342466      0.200000   \n",
       "max        1.000000         1.000000      1.000000      1.000000   \n",
       "\n",
       "          Dribbling         Curve    FKAccuracy   LongPassing   BallControl  \\\n",
       "count  16122.000000  16122.000000  16122.000000  16122.000000  16122.000000   \n",
       "mean       0.122654     -0.030012     -0.132537      0.002751      0.076091   \n",
       "std        0.301492      0.364944      0.358826      0.334822      0.282066   \n",
       "min       -1.000000     -1.000000     -1.000000     -1.000000     -1.000000   \n",
       "25%       -0.012048     -0.325301     -0.428571     -0.189189     -0.070423   \n",
       "50%        0.180723     -0.012048     -0.190476      0.054054      0.098592   \n",
       "75%        0.325301      0.253012      0.142857      0.243243      0.267606   \n",
       "max        1.000000      1.000000      1.000000      1.000000      1.000000   \n",
       "\n",
       "          Reactions     ShotPower       Stamina     LongShots    Aggression  \\\n",
       "count  16122.000000  16122.000000  16122.000000  16122.000000  16122.000000   \n",
       "mean       0.098800      0.125965      0.169170     -0.025506      0.136145   \n",
       "std        0.233806      0.326638      0.324097      0.379027      0.352347   \n",
       "min       -1.000000     -1.000000     -1.000000     -1.000000     -1.000000   \n",
       "25%       -0.066667     -0.086420     -0.014493     -0.301205     -0.097561   \n",
       "50%        0.093333      0.160494      0.188406      0.036145      0.170732   \n",
       "75%        0.253333      0.358025      0.391304      0.277108      0.390244   \n",
       "max        1.000000      1.000000      1.000000      1.000000      1.000000   \n",
       "\n",
       "        Positioning        Vision     Composure  \n",
       "count  16122.000000  16122.000000  16122.000000  \n",
       "mean       0.043417      0.060219      0.036497  \n",
       "std        0.349409      0.314939      0.274291  \n",
       "min       -1.000000     -1.000000     -1.000000  \n",
       "25%       -0.166667     -0.146341     -0.162162  \n",
       "50%        0.095238      0.097561      0.054054  \n",
       "75%        0.285714      0.292683      0.243243  \n",
       "max        1.000000      1.000000      1.000000  "
      ]
     },
     "execution_count": 7,
     "metadata": {},
     "output_type": "execute_result"
    }
   ],
   "source": [
    "att.describe()"
   ]
  },
  {
   "cell_type": "code",
   "execution_count": 8,
   "metadata": {},
   "outputs": [
    {
     "data": {
      "text/html": [
       "<div>\n",
       "<style scoped>\n",
       "    .dataframe tbody tr th:only-of-type {\n",
       "        vertical-align: middle;\n",
       "    }\n",
       "\n",
       "    .dataframe tbody tr th {\n",
       "        vertical-align: top;\n",
       "    }\n",
       "\n",
       "    .dataframe thead th {\n",
       "        text-align: right;\n",
       "    }\n",
       "</style>\n",
       "<table border=\"1\" class=\"dataframe\">\n",
       "  <thead>\n",
       "    <tr style=\"text-align: right;\">\n",
       "      <th></th>\n",
       "      <th>Poor:[46.0, 62.0]</th>\n",
       "      <th>Interm:[63.0, 66.0]</th>\n",
       "      <th>Good:[67.0, 71.0]</th>\n",
       "      <th>Excel:[72.0, 94.0]</th>\n",
       "    </tr>\n",
       "  </thead>\n",
       "  <tbody>\n",
       "    <tr>\n",
       "      <th>0</th>\n",
       "      <td>0.0</td>\n",
       "      <td>1.0</td>\n",
       "      <td>0.0</td>\n",
       "      <td>0.0</td>\n",
       "    </tr>\n",
       "    <tr>\n",
       "      <th>1</th>\n",
       "      <td>0.0</td>\n",
       "      <td>0.0</td>\n",
       "      <td>1.0</td>\n",
       "      <td>0.0</td>\n",
       "    </tr>\n",
       "    <tr>\n",
       "      <th>2</th>\n",
       "      <td>1.0</td>\n",
       "      <td>0.0</td>\n",
       "      <td>0.0</td>\n",
       "      <td>0.0</td>\n",
       "    </tr>\n",
       "    <tr>\n",
       "      <th>3</th>\n",
       "      <td>0.0</td>\n",
       "      <td>0.0</td>\n",
       "      <td>1.0</td>\n",
       "      <td>0.0</td>\n",
       "    </tr>\n",
       "    <tr>\n",
       "      <th>4</th>\n",
       "      <td>0.0</td>\n",
       "      <td>1.0</td>\n",
       "      <td>0.0</td>\n",
       "      <td>0.0</td>\n",
       "    </tr>\n",
       "  </tbody>\n",
       "</table>\n",
       "</div>"
      ],
      "text/plain": [
       "   Poor:[46.0, 62.0]  Interm:[63.0, 66.0]  Good:[67.0, 71.0]  \\\n",
       "0                0.0                  1.0                0.0   \n",
       "1                0.0                  0.0                1.0   \n",
       "2                1.0                  0.0                0.0   \n",
       "3                0.0                  0.0                1.0   \n",
       "4                0.0                  1.0                0.0   \n",
       "\n",
       "   Excel:[72.0, 94.0]  \n",
       "0                 0.0  \n",
       "1                 0.0  \n",
       "2                 0.0  \n",
       "3                 0.0  \n",
       "4                 0.0  "
      ]
     },
     "execution_count": 8,
     "metadata": {},
     "output_type": "execute_result"
    }
   ],
   "source": [
    "target.head()"
   ]
  },
  {
   "cell_type": "code",
   "execution_count": 9,
   "metadata": {},
   "outputs": [],
   "source": [
    "clases = np.argmax(target.to_numpy(),axis=1)"
   ]
  },
  {
   "cell_type": "code",
   "execution_count": 10,
   "metadata": {},
   "outputs": [
    {
     "data": {
      "text/plain": [
       "array([4296, 3868, 4353, 3605], dtype=int64)"
      ]
     },
     "execution_count": 10,
     "metadata": {},
     "output_type": "execute_result"
    }
   ],
   "source": [
    "np.bincount(clases) # contar cuantos elemntos tengo de cada clase en el conjunto de datos"
   ]
  },
  {
   "cell_type": "code",
   "execution_count": 11,
   "metadata": {},
   "outputs": [
    {
     "name": "stdout",
     "output_type": "stream",
     "text": [
      "Total: 16122. C1 4296, c2 3868, c3 4353, c4 3605\n"
     ]
    }
   ],
   "source": [
    "c1, c2,c3,c4= np.bincount(clases)\n",
    "total = c1+c2+c3+c4\n",
    "print(f\"Total: {total}. C1 {c1}, c2 {c2}, c3 {c3}, c4 {c4}\") #lo mismo de arriba"
   ]
  },
  {
   "cell_type": "code",
   "execution_count": null,
   "metadata": {},
   "outputs": [],
   "source": []
  },
  {
   "cell_type": "code",
   "execution_count": 12,
   "metadata": {},
   "outputs": [],
   "source": [
    "X_train,X_rem,y_train,y_rem = train_test_split(att,target,train_size=0.8)\n",
    "X_valid,X_test,y_valid,y_test = train_test_split(X_rem,y_rem,train_size=0.5)\n",
    "#80 % train   --- 10% val 10% test"
   ]
  },
  {
   "cell_type": "code",
   "execution_count": 13,
   "metadata": {},
   "outputs": [
    {
     "name": "stdout",
     "output_type": "stream",
     "text": [
      "Total: 12897. C1 3455, c2 3086, c3 3479, c4 2877\n"
     ]
    }
   ],
   "source": [
    "c1, c2,c3,c4= np.bincount(np.argmax(y_train.to_numpy(),axis=1))\n",
    "total = c1+c2+c3+c4\n",
    "print(f\"Total: {total}. C1 {c1}, c2 {c2}, c3 {c3}, c4 {c4}\")"
   ]
  },
  {
   "cell_type": "code",
   "execution_count": 61,
   "metadata": {},
   "outputs": [],
   "source": [
    "METRICS = [\n",
    "      keras.metrics.TruePositives(name='tp'),\n",
    "      keras.metrics.FalsePositives(name='fp'),\n",
    "      keras.metrics.TrueNegatives(name='tn'),\n",
    "      keras.metrics.FalseNegatives(name='fn'), \n",
    "      keras.metrics.CategoricalAccuracy(name='accuracy'),\n",
    "      keras.metrics.Precision(name='precision'),\n",
    "      keras.metrics.Recall(name='recall'),\n",
    "]\n",
    "\n",
    "METRICS2 = [\n",
    "\n",
    "      keras.metrics.CategoricalAccuracy(name='accuracy')\n",
    "\n",
    "\n",
    "]\n"
   ]
  },
  {
   "cell_type": "code",
   "execution_count": 15,
   "metadata": {},
   "outputs": [],
   "source": [
    "def plot_loss(history, label, n):\n",
    "  # Use a log scale on y-axis to show the wide range of values.\n",
    "  plt.semilogy(history.epoch, history.history['loss'],\n",
    "               color=colors[n], label='Train ' + label)\n",
    "  plt.semilogy(history.epoch, history.history['val_loss'],\n",
    "               color=colors[n], label='Val ' + label,\n",
    "               linestyle=\"--\")\n",
    "  plt.xlabel('Epoch')\n",
    "  plt.ylabel('Loss')"
   ]
  },
  {
   "cell_type": "code",
   "execution_count": 74,
   "metadata": {},
   "outputs": [],
   "source": [
    "def plot_metrics(history):\n",
    "  metrics = ['loss', 'precision', 'recall', 'accuracy']\n",
    "  for n, metric in enumerate(metrics):\n",
    "    name = metric.replace(\"_\",\" \").capitalize()\n",
    "    plt.subplot(2,2,n+1)\n",
    "    plt.plot(history.epoch, history.history[metric], color=colors[0], label='Train')\n",
    "    plt.plot(history.epoch, history.history['val_'+metric],\n",
    "             color=colors[0], linestyle=\"--\", label='Val')\n",
    "    plt.xlabel('Epoch')\n",
    "    plt.ylabel(name)\n",
    "    if metric == 'loss':\n",
    "      plt.ylim([0, plt.ylim()[1]])\n",
    "    elif metric == 'auc':\n",
    "      plt.ylim([0.8,1])\n",
    "    else:\n",
    "      plt.ylim([0,1])\n",
    "\n",
    "    plt.legend()"
   ]
  },
  {
   "cell_type": "code",
   "execution_count": 24,
   "metadata": {},
   "outputs": [],
   "source": [
    "def plot_cm(labels, predictions, p=0.5):\n",
    "  cm = confusion_matrix(labels,predictions)\n",
    "  plt.figure(figsize=(5,5))\n",
    "  sns.heatmap(cm, annot=True, fmt=\"d\")\n",
    "  plt.title('Confusion matrix')\n",
    "  plt.ylabel('Actual label')\n",
    "  plt.xlabel('Predicted label')\n"
   ]
  },
  {
   "cell_type": "markdown",
   "metadata": {},
   "source": [
    "Observamos el overfit del modelo"
   ]
  },
  {
   "cell_type": "code",
   "execution_count": null,
   "metadata": {},
   "outputs": [],
   "source": [
    "plt.plot(h_100x4x100.history['val_categorical_accuracy'])\n",
    "plt.plot(h_100x4x100.history['categorical_accuracy'])\n",
    "\n",
    "plt.title('model accuracy')\n",
    "plt.ylabel('accuracy')\n",
    "plt.xlabel('epoch')\n",
    "plt.legend(['val_accuracy','train_accuracy'], loc='upper left')\n",
    "plt.show()\n",
    "# \"Loss\""
   ]
  },
  {
   "cell_type": "code",
   "execution_count": null,
   "metadata": {},
   "outputs": [],
   "source": [
    "plt.plot(h_128128.history['val_categorical_accuracy'])\n",
    "plt.plot(h_nocapas.history['val_categorical_accuracy'])\n",
    "plt.plot(h_512512.history['val_categorical_accuracy'])\n",
    "\n",
    "plt.title('model accuracy')\n",
    "plt.ylabel('accuracy')\n",
    "plt.xlabel('epoch')\n",
    "plt.legend(['h28128', 'nocapas','512512'], loc='upper left')\n",
    "plt.show()\n",
    "# \"Loss\"\n"
   ]
  },
  {
   "cell_type": "code",
   "execution_count": 18,
   "metadata": {},
   "outputs": [],
   "source": [
    "def build_model(n_hidden=1, n_neurons_ocultas=[30], input_shape=(8,), \n",
    "                activation_o=\"relu\", optimizer=\"adam\", loss=\"categorical_crossentropy\", metrics=METRICS, \n",
    "                activation_s=\"soft_max\", n_neurons_salida=4):     \n",
    "    model = keras.models.Sequential()     \n",
    "    model.add(keras.layers.InputLayer(input_shape=input_shape))\n",
    "    if n_hidden != len(n_neurons_ocultas):\n",
    "        print(\"error, tamaño de la lista de n_neuronas no corresponde al umero de capas\")\n",
    "        return -1\n",
    "    for layer in range(n_hidden):         \n",
    "        model.add(keras.layers.Dense(n_neurons_ocultas[layer], activation=\"relu\"))     \n",
    "  \n",
    "    model.add(keras.layers.Dense(n_neurons_salida, activation=activation_s))  \n",
    "    model.compile(optimizer=optimizer,   \n",
    "              loss=loss,\n",
    "              metrics=metrics)    \n",
    "    return model"
   ]
  },
  {
   "cell_type": "code",
   "execution_count": 68,
   "metadata": {},
   "outputs": [
    {
     "name": "stdout",
     "output_type": "stream",
     "text": [
      "Model: \"sequential_16\"\n",
      "_________________________________________________________________\n",
      " Layer (type)                Output Shape              Param #   \n",
      "=================================================================\n",
      " dense_64 (Dense)            (None, 100)               1800      \n",
      "                                                                 \n",
      " dense_65 (Dense)            (None, 50)                5050      \n",
      "                                                                 \n",
      " dense_66 (Dense)            (None, 25)                1275      \n",
      "                                                                 \n",
      " dense_67 (Dense)            (None, 4)                 104       \n",
      "                                                                 \n",
      "=================================================================\n",
      "Total params: 8,229\n",
      "Trainable params: 8,229\n",
      "Non-trainable params: 0\n",
      "_________________________________________________________________\n",
      "Epoch 1/100\n",
      "51/51 [==============================] - 1s 10ms/step - loss: 1.1929 - tp: 12242.0000 - fp: 2066.0000 - tn: 75316.0000 - fn: 13552.0000 - accuracy: 0.6536 - precision: 0.8556 - recall: 0.4746 - val_loss: 0.9570 - val_tp: 493.0000 - val_fp: 123.0000 - val_tn: 4716.0000 - val_fn: 1120.0000 - val_accuracy: 0.5958 - val_precision: 0.8003 - val_recall: 0.3056\n",
      "Epoch 2/100\n",
      "51/51 [==============================] - 0s 3ms/step - loss: 0.7628 - tp: 6095.0000 - fp: 1798.0000 - tn: 36893.0000 - fn: 6802.0000 - accuracy: 0.6721 - precision: 0.7722 - recall: 0.4726 - val_loss: 0.6319 - val_tp: 1062.0000 - val_fp: 306.0000 - val_tn: 4533.0000 - val_fn: 551.0000 - val_accuracy: 0.7390 - val_precision: 0.7763 - val_recall: 0.6584\n",
      "Epoch 3/100\n",
      "51/51 [==============================] - 0s 3ms/step - loss: 0.5794 - tp: 9099.0000 - fp: 2795.0000 - tn: 35896.0000 - fn: 3798.0000 - accuracy: 0.7473 - precision: 0.7650 - recall: 0.7055 - val_loss: 0.5369 - val_tp: 1206.0000 - val_fp: 347.0000 - val_tn: 4492.0000 - val_fn: 407.0000 - val_accuracy: 0.7700 - val_precision: 0.7766 - val_recall: 0.7477\n",
      "Epoch 4/100\n",
      "51/51 [==============================] - 0s 3ms/step - loss: 0.5197 - tp: 9732.0000 - fp: 2764.0000 - tn: 35927.0000 - fn: 3165.0000 - accuracy: 0.7714 - precision: 0.7788 - recall: 0.7546 - val_loss: 0.4990 - val_tp: 1258.0000 - val_fp: 325.0000 - val_tn: 4514.0000 - val_fn: 355.0000 - val_accuracy: 0.7880 - val_precision: 0.7947 - val_recall: 0.7799\n",
      "Epoch 5/100\n",
      "51/51 [==============================] - 0s 3ms/step - loss: 0.4889 - tp: 9993.0000 - fp: 2619.0000 - tn: 36072.0000 - fn: 2904.0000 - accuracy: 0.7853 - precision: 0.7923 - recall: 0.7748 - val_loss: 0.4794 - val_tp: 1263.0000 - val_fp: 330.0000 - val_tn: 4509.0000 - val_fn: 350.0000 - val_accuracy: 0.7892 - val_precision: 0.7928 - val_recall: 0.7830\n",
      "Epoch 6/100\n",
      "51/51 [==============================] - 0s 3ms/step - loss: 0.4716 - tp: 10183.0000 - fp: 2565.0000 - tn: 36126.0000 - fn: 2714.0000 - accuracy: 0.7944 - precision: 0.7988 - recall: 0.7896 - val_loss: 0.4702 - val_tp: 1267.0000 - val_fp: 319.0000 - val_tn: 4520.0000 - val_fn: 346.0000 - val_accuracy: 0.7936 - val_precision: 0.7989 - val_recall: 0.7855\n",
      "Epoch 7/100\n",
      "51/51 [==============================] - 0s 3ms/step - loss: 0.4608 - tp: 10234.0000 - fp: 2498.0000 - tn: 36193.0000 - fn: 2663.0000 - accuracy: 0.8000 - precision: 0.8038 - recall: 0.7935 - val_loss: 0.4550 - val_tp: 1281.0000 - val_fp: 308.0000 - val_tn: 4531.0000 - val_fn: 332.0000 - val_accuracy: 0.8029 - val_precision: 0.8062 - val_recall: 0.7942\n",
      "Epoch 8/100\n",
      "51/51 [==============================] - 0s 3ms/step - loss: 0.4538 - tp: 10269.0000 - fp: 2488.0000 - tn: 36203.0000 - fn: 2628.0000 - accuracy: 0.8020 - precision: 0.8050 - recall: 0.7962 - val_loss: 0.4531 - val_tp: 1291.0000 - val_fp: 307.0000 - val_tn: 4532.0000 - val_fn: 322.0000 - val_accuracy: 0.8047 - val_precision: 0.8079 - val_recall: 0.8004\n",
      "Epoch 9/100\n",
      "51/51 [==============================] - 0s 3ms/step - loss: 0.4467 - tp: 10303.0000 - fp: 2448.0000 - tn: 36243.0000 - fn: 2594.0000 - accuracy: 0.8043 - precision: 0.8080 - recall: 0.7989 - val_loss: 0.4531 - val_tp: 1281.0000 - val_fp: 314.0000 - val_tn: 4525.0000 - val_fn: 332.0000 - val_accuracy: 0.7998 - val_precision: 0.8031 - val_recall: 0.7942\n",
      "Epoch 10/100\n",
      "51/51 [==============================] - 0s 3ms/step - loss: 0.4416 - tp: 10320.0000 - fp: 2463.0000 - tn: 36228.0000 - fn: 2577.0000 - accuracy: 0.8044 - precision: 0.8073 - recall: 0.8002 - val_loss: 0.4396 - val_tp: 1288.0000 - val_fp: 303.0000 - val_tn: 4536.0000 - val_fn: 325.0000 - val_accuracy: 0.8016 - val_precision: 0.8096 - val_recall: 0.7985\n",
      "Epoch 11/100\n",
      "51/51 [==============================] - 0s 3ms/step - loss: 0.4369 - tp: 10369.0000 - fp: 2406.0000 - tn: 36285.0000 - fn: 2528.0000 - accuracy: 0.8092 - precision: 0.8117 - recall: 0.8040 - val_loss: 0.4401 - val_tp: 1298.0000 - val_fp: 299.0000 - val_tn: 4540.0000 - val_fn: 315.0000 - val_accuracy: 0.8072 - val_precision: 0.8128 - val_recall: 0.8047\n",
      "Epoch 12/100\n",
      "51/51 [==============================] - 0s 3ms/step - loss: 0.4327 - tp: 10401.0000 - fp: 2390.0000 - tn: 36301.0000 - fn: 2496.0000 - accuracy: 0.8107 - precision: 0.8131 - recall: 0.8065 - val_loss: 0.4364 - val_tp: 1290.0000 - val_fp: 301.0000 - val_tn: 4538.0000 - val_fn: 323.0000 - val_accuracy: 0.8060 - val_precision: 0.8108 - val_recall: 0.7998\n",
      "Epoch 13/100\n",
      "51/51 [==============================] - 0s 3ms/step - loss: 0.4286 - tp: 10414.0000 - fp: 2360.0000 - tn: 36331.0000 - fn: 2483.0000 - accuracy: 0.8120 - precision: 0.8152 - recall: 0.8075 - val_loss: 0.4291 - val_tp: 1311.0000 - val_fp: 292.0000 - val_tn: 4547.0000 - val_fn: 302.0000 - val_accuracy: 0.8159 - val_precision: 0.8178 - val_recall: 0.8128\n",
      "Epoch 14/100\n",
      "51/51 [==============================] - 0s 3ms/step - loss: 0.4258 - tp: 10430.0000 - fp: 2363.0000 - tn: 36328.0000 - fn: 2467.0000 - accuracy: 0.8131 - precision: 0.8153 - recall: 0.8087 - val_loss: 0.4288 - val_tp: 1301.0000 - val_fp: 296.0000 - val_tn: 4543.0000 - val_fn: 312.0000 - val_accuracy: 0.8103 - val_precision: 0.8147 - val_recall: 0.8066\n",
      "Epoch 15/100\n",
      "51/51 [==============================] - 0s 3ms/step - loss: 0.4266 - tp: 10470.0000 - fp: 2340.0000 - tn: 36351.0000 - fn: 2427.0000 - accuracy: 0.8155 - precision: 0.8173 - recall: 0.8118 - val_loss: 0.4330 - val_tp: 1290.0000 - val_fp: 300.0000 - val_tn: 4539.0000 - val_fn: 323.0000 - val_accuracy: 0.8060 - val_precision: 0.8113 - val_recall: 0.7998\n",
      "Epoch 16/100\n",
      "51/51 [==============================] - 0s 3ms/step - loss: 0.4184 - tp: 10488.0000 - fp: 2300.0000 - tn: 36391.0000 - fn: 2409.0000 - accuracy: 0.8176 - precision: 0.8201 - recall: 0.8132 - val_loss: 0.4249 - val_tp: 1300.0000 - val_fp: 300.0000 - val_tn: 4539.0000 - val_fn: 313.0000 - val_accuracy: 0.8091 - val_precision: 0.8125 - val_recall: 0.8060\n",
      "Epoch 17/100\n",
      "51/51 [==============================] - 0s 3ms/step - loss: 0.4207 - tp: 10483.0000 - fp: 2334.0000 - tn: 36357.0000 - fn: 2414.0000 - accuracy: 0.8151 - precision: 0.8179 - recall: 0.8128 - val_loss: 0.4218 - val_tp: 1301.0000 - val_fp: 297.0000 - val_tn: 4542.0000 - val_fn: 312.0000 - val_accuracy: 0.8115 - val_precision: 0.8141 - val_recall: 0.8066\n",
      "Epoch 18/100\n",
      "51/51 [==============================] - 0s 3ms/step - loss: 0.4169 - tp: 10494.0000 - fp: 2310.0000 - tn: 36381.0000 - fn: 2403.0000 - accuracy: 0.8171 - precision: 0.8196 - recall: 0.8137 - val_loss: 0.4228 - val_tp: 1304.0000 - val_fp: 297.0000 - val_tn: 4542.0000 - val_fn: 309.0000 - val_accuracy: 0.8122 - val_precision: 0.8145 - val_recall: 0.8084\n",
      "Epoch 19/100\n",
      "51/51 [==============================] - 0s 3ms/step - loss: 0.4122 - tp: 10520.0000 - fp: 2287.0000 - tn: 36404.0000 - fn: 2377.0000 - accuracy: 0.8191 - precision: 0.8214 - recall: 0.8157 - val_loss: 0.4201 - val_tp: 1300.0000 - val_fp: 300.0000 - val_tn: 4539.0000 - val_fn: 313.0000 - val_accuracy: 0.8109 - val_precision: 0.8125 - val_recall: 0.8060\n",
      "Epoch 20/100\n",
      "51/51 [==============================] - 0s 3ms/step - loss: 0.4112 - tp: 10539.0000 - fp: 2269.0000 - tn: 36422.0000 - fn: 2358.0000 - accuracy: 0.8207 - precision: 0.8228 - recall: 0.8172 - val_loss: 0.4226 - val_tp: 1306.0000 - val_fp: 297.0000 - val_tn: 4542.0000 - val_fn: 307.0000 - val_accuracy: 0.8134 - val_precision: 0.8147 - val_recall: 0.8097\n"
     ]
    },
    {
     "name": "stdout",
     "output_type": "stream",
     "text": [
      "Epoch 21/100\n",
      "51/51 [==============================] - 0s 3ms/step - loss: 0.4099 - tp: 10561.0000 - fp: 2255.0000 - tn: 36436.0000 - fn: 2336.0000 - accuracy: 0.8217 - precision: 0.8240 - recall: 0.8189 - val_loss: 0.4216 - val_tp: 1301.0000 - val_fp: 293.0000 - val_tn: 4546.0000 - val_fn: 312.0000 - val_accuracy: 0.8146 - val_precision: 0.8162 - val_recall: 0.8066\n",
      "Epoch 22/100\n",
      "51/51 [==============================] - 0s 3ms/step - loss: 0.4082 - tp: 10563.0000 - fp: 2244.0000 - tn: 36447.0000 - fn: 2334.0000 - accuracy: 0.8230 - precision: 0.8248 - recall: 0.8190 - val_loss: 0.4157 - val_tp: 1306.0000 - val_fp: 293.0000 - val_tn: 4546.0000 - val_fn: 307.0000 - val_accuracy: 0.8165 - val_precision: 0.8168 - val_recall: 0.8097\n",
      "Epoch 23/100\n",
      "51/51 [==============================] - 0s 3ms/step - loss: 0.4054 - tp: 10596.0000 - fp: 2216.0000 - tn: 36475.0000 - fn: 2301.0000 - accuracy: 0.8244 - precision: 0.8270 - recall: 0.8216 - val_loss: 0.4171 - val_tp: 1304.0000 - val_fp: 293.0000 - val_tn: 4546.0000 - val_fn: 309.0000 - val_accuracy: 0.8146 - val_precision: 0.8165 - val_recall: 0.8084\n",
      "Epoch 24/100\n",
      "51/51 [==============================] - 0s 3ms/step - loss: 0.4035 - tp: 10585.0000 - fp: 2225.0000 - tn: 36466.0000 - fn: 2312.0000 - accuracy: 0.8238 - precision: 0.8263 - recall: 0.8207 - val_loss: 0.4198 - val_tp: 1289.0000 - val_fp: 305.0000 - val_tn: 4534.0000 - val_fn: 324.0000 - val_accuracy: 0.8053 - val_precision: 0.8087 - val_recall: 0.7991\n",
      "Epoch 25/100\n",
      "51/51 [==============================] - 0s 3ms/step - loss: 0.4010 - tp: 10612.0000 - fp: 2203.0000 - tn: 36488.0000 - fn: 2285.0000 - accuracy: 0.8262 - precision: 0.8281 - recall: 0.8228 - val_loss: 0.4199 - val_tp: 1310.0000 - val_fp: 296.0000 - val_tn: 4543.0000 - val_fn: 303.0000 - val_accuracy: 0.8134 - val_precision: 0.8157 - val_recall: 0.8122\n",
      "Epoch 26/100\n",
      "51/51 [==============================] - 0s 3ms/step - loss: 0.4030 - tp: 10592.0000 - fp: 2229.0000 - tn: 36462.0000 - fn: 2305.0000 - accuracy: 0.8242 - precision: 0.8261 - recall: 0.8213 - val_loss: 0.4149 - val_tp: 1314.0000 - val_fp: 286.0000 - val_tn: 4553.0000 - val_fn: 299.0000 - val_accuracy: 0.8184 - val_precision: 0.8213 - val_recall: 0.8146\n",
      "Epoch 27/100\n",
      "51/51 [==============================] - 0s 3ms/step - loss: 0.4000 - tp: 10589.0000 - fp: 2237.0000 - tn: 36454.0000 - fn: 2308.0000 - accuracy: 0.8235 - precision: 0.8256 - recall: 0.8210 - val_loss: 0.4166 - val_tp: 1312.0000 - val_fp: 290.0000 - val_tn: 4549.0000 - val_fn: 301.0000 - val_accuracy: 0.8165 - val_precision: 0.8190 - val_recall: 0.8134\n",
      "Epoch 28/100\n",
      "51/51 [==============================] - 0s 3ms/step - loss: 0.3967 - tp: 10617.0000 - fp: 2191.0000 - tn: 36500.0000 - fn: 2280.0000 - accuracy: 0.8265 - precision: 0.8289 - recall: 0.8232 - val_loss: 0.4149 - val_tp: 1313.0000 - val_fp: 286.0000 - val_tn: 4553.0000 - val_fn: 300.0000 - val_accuracy: 0.8165 - val_precision: 0.8211 - val_recall: 0.8140\n",
      "Epoch 29/100\n",
      "51/51 [==============================] - 0s 3ms/step - loss: 0.3969 - tp: 10632.0000 - fp: 2190.0000 - tn: 36501.0000 - fn: 2265.0000 - accuracy: 0.8266 - precision: 0.8292 - recall: 0.8244 - val_loss: 0.4123 - val_tp: 1316.0000 - val_fp: 281.0000 - val_tn: 4558.0000 - val_fn: 297.0000 - val_accuracy: 0.8215 - val_precision: 0.8240 - val_recall: 0.8159\n",
      "Epoch 30/100\n",
      "51/51 [==============================] - 0s 3ms/step - loss: 0.3984 - tp: 10615.0000 - fp: 2206.0000 - tn: 36485.0000 - fn: 2282.0000 - accuracy: 0.8262 - precision: 0.8279 - recall: 0.8231 - val_loss: 0.4141 - val_tp: 1297.0000 - val_fp: 306.0000 - val_tn: 4533.0000 - val_fn: 316.0000 - val_accuracy: 0.8072 - val_precision: 0.8091 - val_recall: 0.8041\n",
      "Epoch 31/100\n",
      "51/51 [==============================] - 0s 3ms/step - loss: 0.3941 - tp: 10617.0000 - fp: 2192.0000 - tn: 36499.0000 - fn: 2280.0000 - accuracy: 0.8264 - precision: 0.8289 - recall: 0.8232 - val_loss: 0.4135 - val_tp: 1313.0000 - val_fp: 288.0000 - val_tn: 4551.0000 - val_fn: 300.0000 - val_accuracy: 0.8165 - val_precision: 0.8201 - val_recall: 0.8140\n",
      "Epoch 32/100\n",
      "51/51 [==============================] - 0s 3ms/step - loss: 0.3942 - tp: 10609.0000 - fp: 2208.0000 - tn: 36483.0000 - fn: 2288.0000 - accuracy: 0.8259 - precision: 0.8277 - recall: 0.8226 - val_loss: 0.4231 - val_tp: 1310.0000 - val_fp: 291.0000 - val_tn: 4548.0000 - val_fn: 303.0000 - val_accuracy: 0.8153 - val_precision: 0.8182 - val_recall: 0.8122\n",
      "Epoch 33/100\n",
      "51/51 [==============================] - 0s 3ms/step - loss: 0.3922 - tp: 10611.0000 - fp: 2197.0000 - tn: 36494.0000 - fn: 2286.0000 - accuracy: 0.8255 - precision: 0.8285 - recall: 0.8227 - val_loss: 0.4123 - val_tp: 1307.0000 - val_fp: 294.0000 - val_tn: 4545.0000 - val_fn: 306.0000 - val_accuracy: 0.8134 - val_precision: 0.8164 - val_recall: 0.8103\n",
      "Epoch 34/100\n",
      "51/51 [==============================] - 0s 3ms/step - loss: 0.3970 - tp: 10605.0000 - fp: 2199.0000 - tn: 36492.0000 - fn: 2292.0000 - accuracy: 0.8251 - precision: 0.8283 - recall: 0.8223 - val_loss: 0.4083 - val_tp: 1306.0000 - val_fp: 292.0000 - val_tn: 4547.0000 - val_fn: 307.0000 - val_accuracy: 0.8134 - val_precision: 0.8173 - val_recall: 0.8097\n",
      "Epoch 35/100\n",
      "51/51 [==============================] - 0s 3ms/step - loss: 0.3919 - tp: 10659.0000 - fp: 2159.0000 - tn: 36532.0000 - fn: 2238.0000 - accuracy: 0.8290 - precision: 0.8316 - recall: 0.8265 - val_loss: 0.4114 - val_tp: 1309.0000 - val_fp: 295.0000 - val_tn: 4544.0000 - val_fn: 304.0000 - val_accuracy: 0.8140 - val_precision: 0.8161 - val_recall: 0.8115\n",
      "Epoch 36/100\n",
      "51/51 [==============================] - 0s 3ms/step - loss: 0.3899 - tp: 10674.0000 - fp: 2138.0000 - tn: 36553.0000 - fn: 2223.0000 - accuracy: 0.8308 - precision: 0.8331 - recall: 0.8276 - val_loss: 0.4123 - val_tp: 1309.0000 - val_fp: 290.0000 - val_tn: 4549.0000 - val_fn: 304.0000 - val_accuracy: 0.8177 - val_precision: 0.8186 - val_recall: 0.8115\n",
      "Epoch 37/100\n",
      "51/51 [==============================] - 0s 3ms/step - loss: 0.3876 - tp: 10688.0000 - fp: 2138.0000 - tn: 36553.0000 - fn: 2209.0000 - accuracy: 0.8317 - precision: 0.8333 - recall: 0.8287 - val_loss: 0.4079 - val_tp: 1308.0000 - val_fp: 294.0000 - val_tn: 4545.0000 - val_fn: 305.0000 - val_accuracy: 0.8140 - val_precision: 0.8165 - val_recall: 0.8109\n",
      "Epoch 38/100\n",
      "51/51 [==============================] - 0s 3ms/step - loss: 0.3853 - tp: 10672.0000 - fp: 2134.0000 - tn: 36557.0000 - fn: 2225.0000 - accuracy: 0.8316 - precision: 0.8334 - recall: 0.8275 - val_loss: 0.4144 - val_tp: 1319.0000 - val_fp: 287.0000 - val_tn: 4552.0000 - val_fn: 294.0000 - val_accuracy: 0.8196 - val_precision: 0.8213 - val_recall: 0.8177\n",
      "Epoch 39/100\n",
      "51/51 [==============================] - 0s 3ms/step - loss: 0.3874 - tp: 10689.0000 - fp: 2124.0000 - tn: 36567.0000 - fn: 2208.0000 - accuracy: 0.8322 - precision: 0.8342 - recall: 0.8288 - val_loss: 0.4107 - val_tp: 1313.0000 - val_fp: 293.0000 - val_tn: 4546.0000 - val_fn: 300.0000 - val_accuracy: 0.8165 - val_precision: 0.8176 - val_recall: 0.8140\n",
      "Epoch 40/100\n",
      "51/51 [==============================] - 0s 3ms/step - loss: 0.3850 - tp: 10705.0000 - fp: 2112.0000 - tn: 36579.0000 - fn: 2192.0000 - accuracy: 0.8333 - precision: 0.8352 - recall: 0.8300 - val_loss: 0.4115 - val_tp: 1313.0000 - val_fp: 290.0000 - val_tn: 4549.0000 - val_fn: 300.0000 - val_accuracy: 0.8177 - val_precision: 0.8191 - val_recall: 0.8140\n",
      "Epoch 41/100\n",
      "51/51 [==============================] - 0s 3ms/step - loss: 0.3870 - tp: 10672.0000 - fp: 2153.0000 - tn: 36538.0000 - fn: 2225.0000 - accuracy: 0.8306 - precision: 0.8321 - recall: 0.8275 - val_loss: 0.4129 - val_tp: 1304.0000 - val_fp: 301.0000 - val_tn: 4538.0000 - val_fn: 309.0000 - val_accuracy: 0.8097 - val_precision: 0.8125 - val_recall: 0.8084\n",
      "Epoch 42/100\n",
      "51/51 [==============================] - 0s 3ms/step - loss: 0.3818 - tp: 10691.0000 - fp: 2123.0000 - tn: 36568.0000 - fn: 2206.0000 - accuracy: 0.8321 - precision: 0.8343 - recall: 0.8290 - val_loss: 0.4105 - val_tp: 1312.0000 - val_fp: 289.0000 - val_tn: 4550.0000 - val_fn: 301.0000 - val_accuracy: 0.8165 - val_precision: 0.8195 - val_recall: 0.8134\n",
      "Epoch 43/100\n"
     ]
    },
    {
     "name": "stdout",
     "output_type": "stream",
     "text": [
      "51/51 [==============================] - 0s 3ms/step - loss: 0.3841 - tp: 10675.0000 - fp: 2146.0000 - tn: 36545.0000 - fn: 2222.0000 - accuracy: 0.8307 - precision: 0.8326 - recall: 0.8277 - val_loss: 0.4192 - val_tp: 1318.0000 - val_fp: 287.0000 - val_tn: 4552.0000 - val_fn: 295.0000 - val_accuracy: 0.8202 - val_precision: 0.8212 - val_recall: 0.8171\n",
      "Epoch 44/100\n",
      "51/51 [==============================] - 0s 3ms/step - loss: 0.3819 - tp: 10691.0000 - fp: 2132.0000 - tn: 36559.0000 - fn: 2206.0000 - accuracy: 0.8319 - precision: 0.8337 - recall: 0.8290 - val_loss: 0.4095 - val_tp: 1306.0000 - val_fp: 296.0000 - val_tn: 4543.0000 - val_fn: 307.0000 - val_accuracy: 0.8134 - val_precision: 0.8152 - val_recall: 0.8097\n",
      "Epoch 45/100\n",
      "51/51 [==============================] - 0s 3ms/step - loss: 0.3813 - tp: 10734.0000 - fp: 2094.0000 - tn: 36597.0000 - fn: 2163.0000 - accuracy: 0.8353 - precision: 0.8368 - recall: 0.8323 - val_loss: 0.4104 - val_tp: 1309.0000 - val_fp: 293.0000 - val_tn: 4546.0000 - val_fn: 304.0000 - val_accuracy: 0.8146 - val_precision: 0.8171 - val_recall: 0.8115\n",
      "Epoch 46/100\n",
      "51/51 [==============================] - 0s 3ms/step - loss: 0.3809 - tp: 10696.0000 - fp: 2123.0000 - tn: 36568.0000 - fn: 2201.0000 - accuracy: 0.8321 - precision: 0.8344 - recall: 0.8293 - val_loss: 0.4096 - val_tp: 1320.0000 - val_fp: 286.0000 - val_tn: 4553.0000 - val_fn: 293.0000 - val_accuracy: 0.8215 - val_precision: 0.8219 - val_recall: 0.8184\n",
      "Epoch 47/100\n",
      "51/51 [==============================] - 0s 3ms/step - loss: 0.3809 - tp: 10707.0000 - fp: 2095.0000 - tn: 36596.0000 - fn: 2190.0000 - accuracy: 0.8342 - precision: 0.8364 - recall: 0.8302 - val_loss: 0.4096 - val_tp: 1309.0000 - val_fp: 296.0000 - val_tn: 4543.0000 - val_fn: 304.0000 - val_accuracy: 0.8146 - val_precision: 0.8156 - val_recall: 0.8115\n",
      "Epoch 48/100\n",
      "51/51 [==============================] - 0s 3ms/step - loss: 0.3782 - tp: 10737.0000 - fp: 2092.0000 - tn: 36599.0000 - fn: 2160.0000 - accuracy: 0.8355 - precision: 0.8369 - recall: 0.8325 - val_loss: 0.4162 - val_tp: 1319.0000 - val_fp: 287.0000 - val_tn: 4552.0000 - val_fn: 294.0000 - val_accuracy: 0.8184 - val_precision: 0.8213 - val_recall: 0.8177\n",
      "Epoch 49/100\n",
      "51/51 [==============================] - 0s 3ms/step - loss: 0.3787 - tp: 10707.0000 - fp: 2104.0000 - tn: 36587.0000 - fn: 2190.0000 - accuracy: 0.8331 - precision: 0.8358 - recall: 0.8302 - val_loss: 0.4088 - val_tp: 1320.0000 - val_fp: 284.0000 - val_tn: 4555.0000 - val_fn: 293.0000 - val_accuracy: 0.8196 - val_precision: 0.8229 - val_recall: 0.8184\n",
      "Epoch 50/100\n",
      "51/51 [==============================] - 0s 3ms/step - loss: 0.3814 - tp: 10730.0000 - fp: 2100.0000 - tn: 36591.0000 - fn: 2167.0000 - accuracy: 0.8349 - precision: 0.8363 - recall: 0.8320 - val_loss: 0.4106 - val_tp: 1313.0000 - val_fp: 290.0000 - val_tn: 4549.0000 - val_fn: 300.0000 - val_accuracy: 0.8177 - val_precision: 0.8191 - val_recall: 0.8140\n",
      "Epoch 51/100\n",
      "51/51 [==============================] - 0s 3ms/step - loss: 0.3760 - tp: 10756.0000 - fp: 2075.0000 - tn: 36616.0000 - fn: 2141.0000 - accuracy: 0.8363 - precision: 0.8383 - recall: 0.8340 - val_loss: 0.4088 - val_tp: 1313.0000 - val_fp: 288.0000 - val_tn: 4551.0000 - val_fn: 300.0000 - val_accuracy: 0.8184 - val_precision: 0.8201 - val_recall: 0.8140\n",
      "Epoch 52/100\n",
      "51/51 [==============================] - 0s 3ms/step - loss: 0.3732 - tp: 10741.0000 - fp: 2083.0000 - tn: 36608.0000 - fn: 2156.0000 - accuracy: 0.8352 - precision: 0.8376 - recall: 0.8328 - val_loss: 0.4082 - val_tp: 1316.0000 - val_fp: 291.0000 - val_tn: 4548.0000 - val_fn: 297.0000 - val_accuracy: 0.8184 - val_precision: 0.8189 - val_recall: 0.8159\n",
      "Epoch 53/100\n",
      "51/51 [==============================] - 0s 3ms/step - loss: 0.3738 - tp: 10756.0000 - fp: 2048.0000 - tn: 36643.0000 - fn: 2141.0000 - accuracy: 0.8371 - precision: 0.8400 - recall: 0.8340 - val_loss: 0.4113 - val_tp: 1304.0000 - val_fp: 291.0000 - val_tn: 4548.0000 - val_fn: 309.0000 - val_accuracy: 0.8140 - val_precision: 0.8176 - val_recall: 0.8084\n",
      "Epoch 54/100\n",
      "51/51 [==============================] - 0s 3ms/step - loss: 0.3753 - tp: 10749.0000 - fp: 2083.0000 - tn: 36608.0000 - fn: 2148.0000 - accuracy: 0.8360 - precision: 0.8377 - recall: 0.8334 - val_loss: 0.4115 - val_tp: 1315.0000 - val_fp: 293.0000 - val_tn: 4546.0000 - val_fn: 298.0000 - val_accuracy: 0.8171 - val_precision: 0.8178 - val_recall: 0.8153\n",
      "Epoch 55/100\n",
      "51/51 [==============================] - 0s 3ms/step - loss: 0.3743 - tp: 10768.0000 - fp: 2067.0000 - tn: 36624.0000 - fn: 2129.0000 - accuracy: 0.8370 - precision: 0.8390 - recall: 0.8349 - val_loss: 0.4068 - val_tp: 1302.0000 - val_fp: 300.0000 - val_tn: 4539.0000 - val_fn: 311.0000 - val_accuracy: 0.8091 - val_precision: 0.8127 - val_recall: 0.8072\n",
      "Epoch 56/100\n",
      "51/51 [==============================] - 0s 2ms/step - loss: 0.3710 - tp: 10773.0000 - fp: 2035.0000 - tn: 36656.0000 - fn: 2124.0000 - accuracy: 0.8392 - precision: 0.8411 - recall: 0.8353 - val_loss: 0.4061 - val_tp: 1310.0000 - val_fp: 284.0000 - val_tn: 4555.0000 - val_fn: 303.0000 - val_accuracy: 0.8196 - val_precision: 0.8218 - val_recall: 0.8122\n",
      "Epoch 57/100\n",
      "51/51 [==============================] - 0s 3ms/step - loss: 0.3750 - tp: 10740.0000 - fp: 2080.0000 - tn: 36611.0000 - fn: 2157.0000 - accuracy: 0.8355 - precision: 0.8378 - recall: 0.8328 - val_loss: 0.4151 - val_tp: 1303.0000 - val_fp: 297.0000 - val_tn: 4542.0000 - val_fn: 310.0000 - val_accuracy: 0.8122 - val_precision: 0.8144 - val_recall: 0.8078\n",
      "Epoch 58/100\n",
      "51/51 [==============================] - 0s 3ms/step - loss: 0.3741 - tp: 10780.0000 - fp: 2058.0000 - tn: 36633.0000 - fn: 2117.0000 - accuracy: 0.8385 - precision: 0.8397 - recall: 0.8359 - val_loss: 0.4133 - val_tp: 1305.0000 - val_fp: 297.0000 - val_tn: 4542.0000 - val_fn: 308.0000 - val_accuracy: 0.8128 - val_precision: 0.8146 - val_recall: 0.8091\n",
      "Epoch 59/100\n",
      "51/51 [==============================] - 0s 3ms/step - loss: 0.3707 - tp: 10765.0000 - fp: 2058.0000 - tn: 36633.0000 - fn: 2132.0000 - accuracy: 0.8379 - precision: 0.8395 - recall: 0.8347 - val_loss: 0.4135 - val_tp: 1308.0000 - val_fp: 297.0000 - val_tn: 4542.0000 - val_fn: 305.0000 - val_accuracy: 0.8115 - val_precision: 0.8150 - val_recall: 0.8109\n",
      "Epoch 60/100\n",
      "51/51 [==============================] - 0s 3ms/step - loss: 0.3693 - tp: 10774.0000 - fp: 2035.0000 - tn: 36656.0000 - fn: 2123.0000 - accuracy: 0.8390 - precision: 0.8411 - recall: 0.8354 - val_loss: 0.4149 - val_tp: 1306.0000 - val_fp: 300.0000 - val_tn: 4539.0000 - val_fn: 307.0000 - val_accuracy: 0.8122 - val_precision: 0.8132 - val_recall: 0.8097\n",
      "Epoch 61/100\n",
      "51/51 [==============================] - 0s 3ms/step - loss: 0.3707 - tp: 10783.0000 - fp: 2037.0000 - tn: 36654.0000 - fn: 2114.0000 - accuracy: 0.8399 - precision: 0.8411 - recall: 0.8361 - val_loss: 0.4168 - val_tp: 1314.0000 - val_fp: 291.0000 - val_tn: 4548.0000 - val_fn: 299.0000 - val_accuracy: 0.8165 - val_precision: 0.8187 - val_recall: 0.8146\n",
      "Epoch 62/100\n",
      "51/51 [==============================] - 0s 3ms/step - loss: 0.3703 - tp: 10777.0000 - fp: 2060.0000 - tn: 36631.0000 - fn: 2120.0000 - accuracy: 0.8379 - precision: 0.8395 - recall: 0.8356 - val_loss: 0.4069 - val_tp: 1312.0000 - val_fp: 295.0000 - val_tn: 4544.0000 - val_fn: 301.0000 - val_accuracy: 0.8153 - val_precision: 0.8164 - val_recall: 0.8134\n",
      "Epoch 63/100\n",
      "51/51 [==============================] - 0s 3ms/step - loss: 0.3661 - tp: 10806.0000 - fp: 2023.0000 - tn: 36668.0000 - fn: 2091.0000 - accuracy: 0.8408 - precision: 0.8423 - recall: 0.8379 - val_loss: 0.4094 - val_tp: 1315.0000 - val_fp: 286.0000 - val_tn: 4553.0000 - val_fn: 298.0000 - val_accuracy: 0.8190 - val_precision: 0.8214 - val_recall: 0.8153\n",
      "Epoch 64/100\n",
      "51/51 [==============================] - 0s 3ms/step - loss: 0.3657 - tp: 10780.0000 - fp: 2048.0000 - tn: 36643.0000 - fn: 2117.0000 - accuracy: 0.8383 - precision: 0.8403 - recall: 0.8359 - val_loss: 0.4128 - val_tp: 1302.0000 - val_fp: 300.0000 - val_tn: 4539.0000 - val_fn: 311.0000 - val_accuracy: 0.8109 - val_precision: 0.8127 - val_recall: 0.8072\n",
      "Epoch 65/100\n"
     ]
    },
    {
     "name": "stdout",
     "output_type": "stream",
     "text": [
      "51/51 [==============================] - 0s 3ms/step - loss: 0.3684 - tp: 10804.0000 - fp: 2019.0000 - tn: 36672.0000 - fn: 2093.0000 - accuracy: 0.8407 - precision: 0.8425 - recall: 0.8377 - val_loss: 0.4061 - val_tp: 1306.0000 - val_fp: 291.0000 - val_tn: 4548.0000 - val_fn: 307.0000 - val_accuracy: 0.8134 - val_precision: 0.8178 - val_recall: 0.8097\n",
      "Epoch 66/100\n",
      "51/51 [==============================] - 0s 3ms/step - loss: 0.3644 - tp: 10799.0000 - fp: 2024.0000 - tn: 36667.0000 - fn: 2098.0000 - accuracy: 0.8403 - precision: 0.8422 - recall: 0.8373 - val_loss: 0.4138 - val_tp: 1307.0000 - val_fp: 294.0000 - val_tn: 4545.0000 - val_fn: 306.0000 - val_accuracy: 0.8146 - val_precision: 0.8164 - val_recall: 0.8103\n",
      "Epoch 67/100\n",
      "51/51 [==============================] - 0s 3ms/step - loss: 0.3649 - tp: 10833.0000 - fp: 1992.0000 - tn: 36699.0000 - fn: 2064.0000 - accuracy: 0.8426 - precision: 0.8447 - recall: 0.8400 - val_loss: 0.4143 - val_tp: 1316.0000 - val_fp: 287.0000 - val_tn: 4552.0000 - val_fn: 297.0000 - val_accuracy: 0.8190 - val_precision: 0.8210 - val_recall: 0.8159\n",
      "Epoch 68/100\n",
      "51/51 [==============================] - 0s 3ms/step - loss: 0.3658 - tp: 10805.0000 - fp: 2021.0000 - tn: 36670.0000 - fn: 2092.0000 - accuracy: 0.8407 - precision: 0.8424 - recall: 0.8378 - val_loss: 0.4121 - val_tp: 1321.0000 - val_fp: 283.0000 - val_tn: 4556.0000 - val_fn: 292.0000 - val_accuracy: 0.8215 - val_precision: 0.8236 - val_recall: 0.8190\n",
      "Epoch 69/100\n",
      "51/51 [==============================] - 0s 3ms/step - loss: 0.3614 - tp: 10847.0000 - fp: 1987.0000 - tn: 36704.0000 - fn: 2050.0000 - accuracy: 0.8436 - precision: 0.8452 - recall: 0.8410 - val_loss: 0.4101 - val_tp: 1306.0000 - val_fp: 295.0000 - val_tn: 4544.0000 - val_fn: 307.0000 - val_accuracy: 0.8140 - val_precision: 0.8157 - val_recall: 0.8097\n",
      "Epoch 70/100\n",
      "51/51 [==============================] - 0s 3ms/step - loss: 0.3627 - tp: 10846.0000 - fp: 1980.0000 - tn: 36711.0000 - fn: 2051.0000 - accuracy: 0.8440 - precision: 0.8456 - recall: 0.8410 - val_loss: 0.4228 - val_tp: 1318.0000 - val_fp: 290.0000 - val_tn: 4549.0000 - val_fn: 295.0000 - val_accuracy: 0.8184 - val_precision: 0.8197 - val_recall: 0.8171\n",
      "Epoch 71/100\n",
      "51/51 [==============================] - 0s 3ms/step - loss: 0.3618 - tp: 10862.0000 - fp: 1970.0000 - tn: 36721.0000 - fn: 2035.0000 - accuracy: 0.8451 - precision: 0.8465 - recall: 0.8422 - val_loss: 0.4116 - val_tp: 1317.0000 - val_fp: 280.0000 - val_tn: 4559.0000 - val_fn: 296.0000 - val_accuracy: 0.8221 - val_precision: 0.8247 - val_recall: 0.8165\n",
      "Epoch 72/100\n",
      "51/51 [==============================] - 0s 3ms/step - loss: 0.3599 - tp: 10852.0000 - fp: 1971.0000 - tn: 36720.0000 - fn: 2045.0000 - accuracy: 0.8445 - precision: 0.8463 - recall: 0.8414 - val_loss: 0.4212 - val_tp: 1311.0000 - val_fp: 294.0000 - val_tn: 4545.0000 - val_fn: 302.0000 - val_accuracy: 0.8159 - val_precision: 0.8168 - val_recall: 0.8128\n",
      "Epoch 73/100\n",
      "51/51 [==============================] - 0s 3ms/step - loss: 0.3627 - tp: 10809.0000 - fp: 2016.0000 - tn: 36675.0000 - fn: 2088.0000 - accuracy: 0.8410 - precision: 0.8428 - recall: 0.8381 - val_loss: 0.4102 - val_tp: 1317.0000 - val_fp: 288.0000 - val_tn: 4551.0000 - val_fn: 296.0000 - val_accuracy: 0.8196 - val_precision: 0.8206 - val_recall: 0.8165\n",
      "Epoch 74/100\n",
      "51/51 [==============================] - 0s 3ms/step - loss: 0.3588 - tp: 10834.0000 - fp: 2000.0000 - tn: 36691.0000 - fn: 2063.0000 - accuracy: 0.8428 - precision: 0.8442 - recall: 0.8400 - val_loss: 0.4173 - val_tp: 1309.0000 - val_fp: 296.0000 - val_tn: 4543.0000 - val_fn: 304.0000 - val_accuracy: 0.8140 - val_precision: 0.8156 - val_recall: 0.8115\n",
      "Epoch 75/100\n",
      "51/51 [==============================] - 0s 3ms/step - loss: 0.3576 - tp: 10873.0000 - fp: 1959.0000 - tn: 36732.0000 - fn: 2024.0000 - accuracy: 0.8459 - precision: 0.8473 - recall: 0.8431 - val_loss: 0.4122 - val_tp: 1318.0000 - val_fp: 286.0000 - val_tn: 4553.0000 - val_fn: 295.0000 - val_accuracy: 0.8202 - val_precision: 0.8217 - val_recall: 0.8171\n",
      "Epoch 76/100\n",
      "51/51 [==============================] - 0s 3ms/step - loss: 0.3599 - tp: 10808.0000 - fp: 2028.0000 - tn: 36663.0000 - fn: 2089.0000 - accuracy: 0.8407 - precision: 0.8420 - recall: 0.8380 - val_loss: 0.4190 - val_tp: 1316.0000 - val_fp: 289.0000 - val_tn: 4550.0000 - val_fn: 297.0000 - val_accuracy: 0.8190 - val_precision: 0.8199 - val_recall: 0.8159\n",
      "Epoch 77/100\n",
      "51/51 [==============================] - 0s 3ms/step - loss: 0.3609 - tp: 10844.0000 - fp: 1981.0000 - tn: 36710.0000 - fn: 2053.0000 - accuracy: 0.8435 - precision: 0.8455 - recall: 0.8408 - val_loss: 0.4095 - val_tp: 1311.0000 - val_fp: 294.0000 - val_tn: 4545.0000 - val_fn: 302.0000 - val_accuracy: 0.8146 - val_precision: 0.8168 - val_recall: 0.8128\n",
      "Epoch 78/100\n",
      "51/51 [==============================] - 0s 3ms/step - loss: 0.3566 - tp: 10878.0000 - fp: 1941.0000 - tn: 36750.0000 - fn: 2019.0000 - accuracy: 0.8461 - precision: 0.8486 - recall: 0.8435 - val_loss: 0.4225 - val_tp: 1310.0000 - val_fp: 293.0000 - val_tn: 4546.0000 - val_fn: 303.0000 - val_accuracy: 0.8165 - val_precision: 0.8172 - val_recall: 0.8122\n",
      "Epoch 79/100\n",
      "51/51 [==============================] - 0s 3ms/step - loss: 0.3581 - tp: 10864.0000 - fp: 1966.0000 - tn: 36725.0000 - fn: 2033.0000 - accuracy: 0.8445 - precision: 0.8468 - recall: 0.8424 - val_loss: 0.4131 - val_tp: 1316.0000 - val_fp: 288.0000 - val_tn: 4551.0000 - val_fn: 297.0000 - val_accuracy: 0.8190 - val_precision: 0.8204 - val_recall: 0.8159\n",
      "Epoch 80/100\n",
      "51/51 [==============================] - 0s 3ms/step - loss: 0.3561 - tp: 10872.0000 - fp: 1949.0000 - tn: 36742.0000 - fn: 2025.0000 - accuracy: 0.8459 - precision: 0.8480 - recall: 0.8430 - val_loss: 0.4071 - val_tp: 1315.0000 - val_fp: 294.0000 - val_tn: 4545.0000 - val_fn: 298.0000 - val_accuracy: 0.8165 - val_precision: 0.8173 - val_recall: 0.8153\n",
      "Epoch 81/100\n",
      "51/51 [==============================] - 0s 3ms/step - loss: 0.3546 - tp: 10883.0000 - fp: 1954.0000 - tn: 36737.0000 - fn: 2014.0000 - accuracy: 0.8456 - precision: 0.8478 - recall: 0.8438 - val_loss: 0.4188 - val_tp: 1308.0000 - val_fp: 300.0000 - val_tn: 4539.0000 - val_fn: 305.0000 - val_accuracy: 0.8128 - val_precision: 0.8134 - val_recall: 0.8109\n",
      "Epoch 82/100\n",
      "51/51 [==============================] - 0s 3ms/step - loss: 0.3542 - tp: 10908.0000 - fp: 1922.0000 - tn: 36769.0000 - fn: 1989.0000 - accuracy: 0.8479 - precision: 0.8502 - recall: 0.8458 - val_loss: 0.4089 - val_tp: 1310.0000 - val_fp: 294.0000 - val_tn: 4545.0000 - val_fn: 303.0000 - val_accuracy: 0.8140 - val_precision: 0.8167 - val_recall: 0.8122\n",
      "Epoch 83/100\n",
      "51/51 [==============================] - 0s 3ms/step - loss: 0.3529 - tp: 10869.0000 - fp: 1958.0000 - tn: 36733.0000 - fn: 2028.0000 - accuracy: 0.8453 - precision: 0.8474 - recall: 0.8428 - val_loss: 0.4114 - val_tp: 1327.0000 - val_fp: 275.0000 - val_tn: 4564.0000 - val_fn: 286.0000 - val_accuracy: 0.8264 - val_precision: 0.8283 - val_recall: 0.8227\n",
      "Epoch 84/100\n",
      "51/51 [==============================] - 0s 3ms/step - loss: 0.3532 - tp: 10916.0000 - fp: 1897.0000 - tn: 36794.0000 - fn: 1981.0000 - accuracy: 0.8500 - precision: 0.8519 - recall: 0.8464 - val_loss: 0.4099 - val_tp: 1317.0000 - val_fp: 291.0000 - val_tn: 4548.0000 - val_fn: 296.0000 - val_accuracy: 0.8196 - val_precision: 0.8190 - val_recall: 0.8165\n",
      "Epoch 85/100\n",
      "51/51 [==============================] - 0s 3ms/step - loss: 0.3519 - tp: 10895.0000 - fp: 1922.0000 - tn: 36769.0000 - fn: 2002.0000 - accuracy: 0.8479 - precision: 0.8500 - recall: 0.8448 - val_loss: 0.4136 - val_tp: 1320.0000 - val_fp: 288.0000 - val_tn: 4551.0000 - val_fn: 293.0000 - val_accuracy: 0.8215 - val_precision: 0.8209 - val_recall: 0.8184\n",
      "Epoch 86/100\n",
      "51/51 [==============================] - 0s 3ms/step - loss: 0.3503 - tp: 10921.0000 - fp: 1927.0000 - tn: 36764.0000 - fn: 1976.0000 - accuracy: 0.8485 - precision: 0.8500 - recall: 0.8468 - val_loss: 0.4101 - val_tp: 1312.0000 - val_fp: 294.0000 - val_tn: 4545.0000 - val_fn: 301.0000 - val_accuracy: 0.8153 - val_precision: 0.8169 - val_recall: 0.8134\n",
      "Epoch 87/100\n"
     ]
    },
    {
     "name": "stdout",
     "output_type": "stream",
     "text": [
      "51/51 [==============================] - 0s 3ms/step - loss: 0.3493 - tp: 10926.0000 - fp: 1907.0000 - tn: 36784.0000 - fn: 1971.0000 - accuracy: 0.8489 - precision: 0.8514 - recall: 0.8472 - val_loss: 0.4100 - val_tp: 1320.0000 - val_fp: 286.0000 - val_tn: 4553.0000 - val_fn: 293.0000 - val_accuracy: 0.8208 - val_precision: 0.8219 - val_recall: 0.8184\n",
      "Epoch 88/100\n",
      "51/51 [==============================] - 0s 3ms/step - loss: 0.3493 - tp: 10913.0000 - fp: 1921.0000 - tn: 36770.0000 - fn: 1984.0000 - accuracy: 0.8488 - precision: 0.8503 - recall: 0.8462 - val_loss: 0.4152 - val_tp: 1309.0000 - val_fp: 290.0000 - val_tn: 4549.0000 - val_fn: 304.0000 - val_accuracy: 0.8146 - val_precision: 0.8186 - val_recall: 0.8115\n",
      "Epoch 89/100\n",
      "51/51 [==============================] - 0s 3ms/step - loss: 0.3488 - tp: 10937.0000 - fp: 1901.0000 - tn: 36790.0000 - fn: 1960.0000 - accuracy: 0.8503 - precision: 0.8519 - recall: 0.8480 - val_loss: 0.4206 - val_tp: 1316.0000 - val_fp: 292.0000 - val_tn: 4547.0000 - val_fn: 297.0000 - val_accuracy: 0.8165 - val_precision: 0.8184 - val_recall: 0.8159\n",
      "Epoch 90/100\n",
      "51/51 [==============================] - 0s 3ms/step - loss: 0.3519 - tp: 10912.0000 - fp: 1922.0000 - tn: 36769.0000 - fn: 1985.0000 - accuracy: 0.8480 - precision: 0.8502 - recall: 0.8461 - val_loss: 0.4198 - val_tp: 1310.0000 - val_fp: 299.0000 - val_tn: 4540.0000 - val_fn: 303.0000 - val_accuracy: 0.8140 - val_precision: 0.8142 - val_recall: 0.8122\n",
      "Epoch 91/100\n",
      "51/51 [==============================] - 0s 3ms/step - loss: 0.3484 - tp: 10942.0000 - fp: 1888.0000 - tn: 36803.0000 - fn: 1955.0000 - accuracy: 0.8507 - precision: 0.8528 - recall: 0.8484 - val_loss: 0.4134 - val_tp: 1316.0000 - val_fp: 289.0000 - val_tn: 4550.0000 - val_fn: 297.0000 - val_accuracy: 0.8171 - val_precision: 0.8199 - val_recall: 0.8159\n",
      "Epoch 92/100\n",
      "51/51 [==============================] - 0s 3ms/step - loss: 0.3463 - tp: 10946.0000 - fp: 1892.0000 - tn: 36799.0000 - fn: 1951.0000 - accuracy: 0.8511 - precision: 0.8526 - recall: 0.8487 - val_loss: 0.4156 - val_tp: 1299.0000 - val_fp: 306.0000 - val_tn: 4533.0000 - val_fn: 314.0000 - val_accuracy: 0.8072 - val_precision: 0.8093 - val_recall: 0.8053\n",
      "Epoch 93/100\n",
      "51/51 [==============================] - 0s 3ms/step - loss: 0.3462 - tp: 10934.0000 - fp: 1889.0000 - tn: 36802.0000 - fn: 1963.0000 - accuracy: 0.8504 - precision: 0.8527 - recall: 0.8478 - val_loss: 0.4280 - val_tp: 1311.0000 - val_fp: 291.0000 - val_tn: 4548.0000 - val_fn: 302.0000 - val_accuracy: 0.8177 - val_precision: 0.8184 - val_recall: 0.8128\n",
      "Epoch 94/100\n",
      "51/51 [==============================] - 0s 3ms/step - loss: 0.3467 - tp: 10944.0000 - fp: 1894.0000 - tn: 36797.0000 - fn: 1953.0000 - accuracy: 0.8504 - precision: 0.8525 - recall: 0.8486 - val_loss: 0.4102 - val_tp: 1315.0000 - val_fp: 291.0000 - val_tn: 4548.0000 - val_fn: 298.0000 - val_accuracy: 0.8165 - val_precision: 0.8188 - val_recall: 0.8153\n",
      "Epoch 95/100\n",
      "51/51 [==============================] - 0s 3ms/step - loss: 0.3436 - tp: 10956.0000 - fp: 1865.0000 - tn: 36826.0000 - fn: 1941.0000 - accuracy: 0.8521 - precision: 0.8545 - recall: 0.8495 - val_loss: 0.4183 - val_tp: 1312.0000 - val_fp: 296.0000 - val_tn: 4543.0000 - val_fn: 301.0000 - val_accuracy: 0.8159 - val_precision: 0.8159 - val_recall: 0.8134\n",
      "Epoch 96/100\n",
      "51/51 [==============================] - 0s 3ms/step - loss: 0.3467 - tp: 10949.0000 - fp: 1886.0000 - tn: 36805.0000 - fn: 1948.0000 - accuracy: 0.8511 - precision: 0.8531 - recall: 0.8490 - val_loss: 0.4144 - val_tp: 1325.0000 - val_fp: 282.0000 - val_tn: 4557.0000 - val_fn: 288.0000 - val_accuracy: 0.8221 - val_precision: 0.8245 - val_recall: 0.8215\n",
      "Epoch 97/100\n",
      "51/51 [==============================] - 0s 3ms/step - loss: 0.3427 - tp: 10939.0000 - fp: 1884.0000 - tn: 36807.0000 - fn: 1958.0000 - accuracy: 0.8514 - precision: 0.8531 - recall: 0.8482 - val_loss: 0.4146 - val_tp: 1325.0000 - val_fp: 280.0000 - val_tn: 4559.0000 - val_fn: 288.0000 - val_accuracy: 0.8246 - val_precision: 0.8255 - val_recall: 0.8215\n",
      "Epoch 98/100\n",
      "51/51 [==============================] - 0s 3ms/step - loss: 0.3412 - tp: 10964.0000 - fp: 1868.0000 - tn: 36823.0000 - fn: 1933.0000 - accuracy: 0.8525 - precision: 0.8544 - recall: 0.8501 - val_loss: 0.4217 - val_tp: 1293.0000 - val_fp: 310.0000 - val_tn: 4529.0000 - val_fn: 320.0000 - val_accuracy: 0.8047 - val_precision: 0.8066 - val_recall: 0.8016\n",
      "Epoch 99/100\n",
      "51/51 [==============================] - 0s 3ms/step - loss: 0.3437 - tp: 10935.0000 - fp: 1890.0000 - tn: 36801.0000 - fn: 1962.0000 - accuracy: 0.8508 - precision: 0.8526 - recall: 0.8479 - val_loss: 0.4138 - val_tp: 1310.0000 - val_fp: 297.0000 - val_tn: 4542.0000 - val_fn: 303.0000 - val_accuracy: 0.8146 - val_precision: 0.8152 - val_recall: 0.8122\n",
      "Epoch 100/100\n",
      "51/51 [==============================] - 0s 3ms/step - loss: 0.3412 - tp: 10969.0000 - fp: 1862.0000 - tn: 36829.0000 - fn: 1928.0000 - accuracy: 0.8528 - precision: 0.8549 - recall: 0.8505 - val_loss: 0.4174 - val_tp: 1303.0000 - val_fp: 295.0000 - val_tn: 4544.0000 - val_fn: 310.0000 - val_accuracy: 0.8122 - val_precision: 0.8154 - val_recall: 0.8078\n"
     ]
    }
   ],
   "source": [
    "  \n",
    "first_decay_steps = 1000 \n",
    "initial_learning_rate = 1e-3\n",
    "#lr_decayed_fn = (   tf.keras.optimizers.schedules.CosineDecayRestarts(       initial_learning_rate,       first_decay_steps))\n",
    "optimizer = keras.optimizers.Adam(learning_rate=1e-3) \n",
    "modelo = build_model(3, [100,50,25], (17,), \"relu\", optimizer, \"categorical_crossentropy\", METRICS, \"softmax\", 4)\n",
    "\n",
    "BATCH_SIZE=256\n",
    "EPOCHS=100\n",
    "\n",
    "modelo.summary()\n",
    "results_fit= modelo.fit(X_train,y_train,epochs=EPOCHS,validation_data=(X_test,y_test), batch_size=BATCH_SIZE)\n",
    "\n",
    "\n",
    "\n",
    "\n",
    "\n",
    "\n",
    "\n",
    "\n",
    "\n",
    "\n"
   ]
  },
  {
   "cell_type": "code",
   "execution_count": 69,
   "metadata": {},
   "outputs": [
    {
     "name": "stdout",
     "output_type": "stream",
     "text": [
      "51/51 [==============================] - 0s 2ms/step - loss: 0.3363 - tp: 10987.0000 - fp: 1795.0000 - tn: 36896.0000 - fn: 1910.0000 - accuracy: 0.8563 - precision: 0.8596 - recall: 0.8519\n"
     ]
    }
   ],
   "source": [
    "results_evaluate = modelo.evaluate(X_train,y_train,batch_size=BATCH_SIZE)"
   ]
  },
  {
   "cell_type": "code",
   "execution_count": 71,
   "metadata": {},
   "outputs": [
    {
     "name": "stdout",
     "output_type": "stream",
     "text": [
      "51/51 [==============================] - 0s 1ms/step\n",
      "7/7 [==============================] - 0s 1ms/step\n",
      "[[8.4507108e-02 9.1348833e-01 2.0037722e-03 7.6855514e-07]\n",
      " [9.9999511e-01 4.8492393e-06 6.7751062e-14 4.1773890e-15]\n",
      " [1.9158697e-10 1.0050093e-08 7.0949423e-04 9.9929047e-01]\n",
      " ...\n",
      " [1.8978361e-11 1.7414610e-09 1.5118647e-04 9.9984884e-01]\n",
      " [3.1519547e-04 3.3789363e-02 8.9942408e-01 6.6471308e-02]\n",
      " [3.0538136e-02 9.6791047e-01 1.5510155e-03 3.1362043e-07]]\n",
      "[[3.63882817e-02 5.17773032e-01 4.44313288e-01 1.52539241e-03]\n",
      " [4.06471463e-06 5.19992504e-03 9.84117091e-01 1.06788585e-02]\n",
      " [2.77966150e-10 1.54069060e-08 2.25912925e-04 9.99774039e-01]\n",
      " ...\n",
      " [2.26110551e-05 6.56283870e-02 9.33719397e-01 6.29549904e-04]\n",
      " [1.09093831e-10 2.72932343e-09 1.14888338e-04 9.99885082e-01]\n",
      " [2.76906509e-02 9.18452203e-01 5.38421012e-02 1.50399619e-05]]\n"
     ]
    }
   ],
   "source": [
    "train_predictions_baseline = modelo.predict(X_train, batch_size=BATCH_SIZE)\n",
    "test_predictions_baseline = modelo.predict(X_test, batch_size=BATCH_SIZE)\n",
    "print(train_predictions_baseline)\n",
    "print(test_predictions_baseline)"
   ]
  },
  {
   "cell_type": "code",
   "execution_count": 75,
   "metadata": {},
   "outputs": [
    {
     "name": "stdout",
     "output_type": "stream",
     "text": [
      "loss :  0.33628278970718384\n",
      "tp :  10987.0\n",
      "fp :  1795.0\n",
      "tn :  36896.0\n",
      "fn :  1910.0\n",
      "accuracy :  0.8563231825828552\n",
      "precision :  0.8595681190490723\n",
      "recall :  0.8519035577774048\n",
      "\n"
     ]
    },
    {
     "data": {
      "image/png": "[encoded data removed]",
      "text/plain": [
       "<Figure size 432x288 with 4 Axes>"
      ]
     },
     "metadata": {
      "needs_background": "light"
     },
     "output_type": "display_data"
    },
    {
     "data": {
      "image/png": "[encoded data removed]",
      "text/plain": [
       "<Figure size 360x360 with 2 Axes>"
      ]
     },
     "metadata": {
      "needs_background": "light"
     },
     "output_type": "display_data"
    }
   ],
   "source": [
    "plot_metrics(results_fit)\n",
    "\n",
    "for name, value in zip(modelo.metrics_names, results_evaluate):\n",
    "  print(name, ': ', value)\n",
    "print()\n",
    "\n",
    "plot_cm(np.argmax(y_test.to_numpy(),axis=1), test_predictions_baseline.argmax(axis=1))"
   ]
  },
  {
   "cell_type": "code",
   "execution_count": 76,
   "metadata": {},
   "outputs": [
    {
     "name": "stdout",
     "output_type": "stream",
     "text": [
      "              precision    recall  f1-score   support\n",
      "\n",
      "           0     0.8892    0.8850    0.8871       426\n",
      "           1     0.6599    0.7380    0.6968       355\n",
      "           2     0.8184    0.7355    0.7748       484\n",
      "           3     0.8824    0.9052    0.8936       348\n",
      "\n",
      "    accuracy                         0.8122      1613\n",
      "   macro avg     0.8125    0.8159    0.8131      1613\n",
      "weighted avg     0.8160    0.8122    0.8129      1613\n",
      "\n"
     ]
    }
   ],
   "source": [
    "y_pred = test_predictions_baseline.argmax(axis=1)\n",
    "np.argmax(np.asarray(y_test),axis=1)\n",
    "print(classification_report(y_pred, np.argmax(np.asarray(y_test),axis=1), digits=4))"
   ]
  },
  {
   "cell_type": "code",
   "execution_count": 64,
   "metadata": {},
   "outputs": [
    {
     "ename": "ValueError",
     "evalue": "Classification metrics can't handle a mix of continuous-multioutput and multilabel-indicator targets",
     "output_type": "error",
     "traceback": [
      "\u001b[1;31m---------------------------------------------------------------------------\u001b[0m",
      "\u001b[1;31mValueError\u001b[0m                                Traceback (most recent call last)",
      "\u001b[1;32m~\\AppData\\Local\\Temp/ipykernel_22300/81311799.py\u001b[0m in \u001b[0;36m<module>\u001b[1;34m\u001b[0m\n\u001b[1;32m----> 1\u001b[1;33m \u001b[0mprint\u001b[0m\u001b[1;33m(\u001b[0m\u001b[0mclassification_report\u001b[0m\u001b[1;33m(\u001b[0m\u001b[0mtest_predictions_baseline\u001b[0m\u001b[1;33m,\u001b[0m\u001b[0my_test\u001b[0m\u001b[1;33m)\u001b[0m\u001b[1;33m)\u001b[0m\u001b[1;33m\u001b[0m\u001b[1;33m\u001b[0m\u001b[0m\n\u001b[0m\u001b[0;32m      2\u001b[0m \u001b[1;31m#plt.plot(results_fit.history['val_categorical_accuracy'])\u001b[0m\u001b[1;33m\u001b[0m\u001b[1;33m\u001b[0m\u001b[0m\n\u001b[0;32m      3\u001b[0m \u001b[1;31m#plt.plot(results_fit.history['categorical_accuracy'])\u001b[0m\u001b[1;33m\u001b[0m\u001b[1;33m\u001b[0m\u001b[0m\n",
      "\u001b[1;32m~\\AppData\\Local\\Packages\\PythonSoftwareFoundation.Python.3.9_qbz5n2kfra8p0\\LocalCache\\local-packages\\Python39\\site-packages\\sklearn\\metrics\\_classification.py\u001b[0m in \u001b[0;36mclassification_report\u001b[1;34m(y_true, y_pred, labels, target_names, sample_weight, digits, output_dict, zero_division)\u001b[0m\n\u001b[0;32m   2130\u001b[0m     \"\"\"\n\u001b[0;32m   2131\u001b[0m \u001b[1;33m\u001b[0m\u001b[0m\n\u001b[1;32m-> 2132\u001b[1;33m     \u001b[0my_type\u001b[0m\u001b[1;33m,\u001b[0m \u001b[0my_true\u001b[0m\u001b[1;33m,\u001b[0m \u001b[0my_pred\u001b[0m \u001b[1;33m=\u001b[0m \u001b[0m_check_targets\u001b[0m\u001b[1;33m(\u001b[0m\u001b[0my_true\u001b[0m\u001b[1;33m,\u001b[0m \u001b[0my_pred\u001b[0m\u001b[1;33m)\u001b[0m\u001b[1;33m\u001b[0m\u001b[1;33m\u001b[0m\u001b[0m\n\u001b[0m\u001b[0;32m   2133\u001b[0m \u001b[1;33m\u001b[0m\u001b[0m\n\u001b[0;32m   2134\u001b[0m     \u001b[1;32mif\u001b[0m \u001b[0mlabels\u001b[0m \u001b[1;32mis\u001b[0m \u001b[1;32mNone\u001b[0m\u001b[1;33m:\u001b[0m\u001b[1;33m\u001b[0m\u001b[1;33m\u001b[0m\u001b[0m\n",
      "\u001b[1;32m~\\AppData\\Local\\Packages\\PythonSoftwareFoundation.Python.3.9_qbz5n2kfra8p0\\LocalCache\\local-packages\\Python39\\site-packages\\sklearn\\metrics\\_classification.py\u001b[0m in \u001b[0;36m_check_targets\u001b[1;34m(y_true, y_pred)\u001b[0m\n\u001b[0;32m     91\u001b[0m \u001b[1;33m\u001b[0m\u001b[0m\n\u001b[0;32m     92\u001b[0m     \u001b[1;32mif\u001b[0m \u001b[0mlen\u001b[0m\u001b[1;33m(\u001b[0m\u001b[0my_type\u001b[0m\u001b[1;33m)\u001b[0m \u001b[1;33m>\u001b[0m \u001b[1;36m1\u001b[0m\u001b[1;33m:\u001b[0m\u001b[1;33m\u001b[0m\u001b[1;33m\u001b[0m\u001b[0m\n\u001b[1;32m---> 93\u001b[1;33m         raise ValueError(\n\u001b[0m\u001b[0;32m     94\u001b[0m             \"Classification metrics can't handle a mix of {0} and {1} targets\".format(\n\u001b[0;32m     95\u001b[0m                 \u001b[0mtype_true\u001b[0m\u001b[1;33m,\u001b[0m \u001b[0mtype_pred\u001b[0m\u001b[1;33m\u001b[0m\u001b[1;33m\u001b[0m\u001b[0m\n",
      "\u001b[1;31mValueError\u001b[0m: Classification metrics can't handle a mix of continuous-multioutput and multilabel-indicator targets"
     ]
    }
   ],
   "source": [
    "print(classification_report(test_predictions_baseline,y_test))\n",
    "#plt.plot(results_fit.history['val_categorical_accuracy'])\n",
    "#plt.plot(results_fit.history['categorical_accuracy'])"
   ]
  },
  {
   "cell_type": "code",
   "execution_count": null,
   "metadata": {},
   "outputs": [],
   "source": []
  }
 ],
 "metadata": {
  "kernelspec": {
   "display_name": "Python 3 (ipykernel)",
   "language": "python",
   "name": "python3"
  },
  "language_info": {
   "codemirror_mode": {
    "name": "ipython",
    "version": 3
   },
   "file_extension": ".py",
   "mimetype": "text/x-python",
   "name": "python",
   "nbconvert_exporter": "python",
   "pygments_lexer": "ipython3",
   "version": "3.9.13"
  },
  "vscode": {
   "interpreter": {
    "hash": "8863d0c6094564aaeb41a5a3a6a2d4ce9faecc1a6add5ccddbb72eef631d0103"
   }
  }
 },
 "nbformat": 4,
 "nbformat_minor": 2
}
