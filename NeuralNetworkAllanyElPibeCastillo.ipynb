{
 "cells": [
  {
   "cell_type": "code",
   "execution_count": 45,
   "metadata": {},
   "outputs": [],
   "source": [
    "import pandas as pd\n",
    "import tensorflow as tf\n",
    "from tensorflow import keras\n",
    "import matplotlib.pyplot as plt\n",
    "import random\n",
    "import numpy as np\n",
    "import seaborn as sns\n",
    "import math\n",
    "import os\n",
    "import tempfile\n",
    "import matplotlib as mpl\n",
    "from sklearn.metrics import confusion_matrix\n",
    "from sklearn.metrics import classification_report\n",
    "import numpy as np\n",
    "\n"
   ]
  },
  {
   "cell_type": "code",
   "execution_count": null,
   "metadata": {},
   "outputs": [],
   "source": []
  },
  {
   "cell_type": "code",
   "execution_count": 2,
   "metadata": {},
   "outputs": [],
   "source": [
    "mpl.rcParams['figure.figsize'] = (12, 10)\n",
    "colors = plt.rcParams['axes.prop_cycle'].by_key()['color']"
   ]
  },
  {
   "cell_type": "code",
   "execution_count": 3,
   "metadata": {},
   "outputs": [],
   "source": [
    "#Karpathy 1. fix random seed\n",
    "tf.random.set_seed(42)\n",
    "random.seed(42)\n",
    "np.random.seed(42)"
   ]
  },
  {
   "cell_type": "code",
   "execution_count": 4,
   "metadata": {},
   "outputs": [],
   "source": [
    "ATT_FILE_NAME = \"FootballPlayerPreparedCleanAttributes.csv\"\n",
    "ONE_HOT_ENCODED_CLASSES_FILE_NAME = \"FootballPlayerOneHotEncodedClasses.csv\""
   ]
  },
  {
   "cell_type": "code",
   "execution_count": 5,
   "metadata": {},
   "outputs": [],
   "source": [
    "att = pd.read_csv(ATT_FILE_NAME)\n",
    "target = pd.read_csv(ONE_HOT_ENCODED_CLASSES_FILE_NAME)"
   ]
  },
  {
   "cell_type": "code",
   "execution_count": 6,
   "metadata": {},
   "outputs": [],
   "source": [
    "from sklearn.model_selection import train_test_split"
   ]
  },
  {
   "cell_type": "code",
   "execution_count": 7,
   "metadata": {},
   "outputs": [
    {
     "data": {
      "text/html": [
       "<div>\n",
       "<style scoped>\n",
       "    .dataframe tbody tr th:only-of-type {\n",
       "        vertical-align: middle;\n",
       "    }\n",
       "\n",
       "    .dataframe tbody tr th {\n",
       "        vertical-align: top;\n",
       "    }\n",
       "\n",
       "    .dataframe thead th {\n",
       "        text-align: right;\n",
       "    }\n",
       "</style>\n",
       "<table border=\"1\" class=\"dataframe\">\n",
       "  <thead>\n",
       "    <tr style=\"text-align: right;\">\n",
       "      <th></th>\n",
       "      <th>Crossing</th>\n",
       "      <th>HeadingAccuracy</th>\n",
       "      <th>ShortPassing</th>\n",
       "      <th>Volleys</th>\n",
       "      <th>Dribbling</th>\n",
       "      <th>Curve</th>\n",
       "      <th>FKAccuracy</th>\n",
       "      <th>LongPassing</th>\n",
       "      <th>BallControl</th>\n",
       "      <th>Reactions</th>\n",
       "      <th>ShotPower</th>\n",
       "      <th>Stamina</th>\n",
       "      <th>LongShots</th>\n",
       "      <th>Aggression</th>\n",
       "      <th>Positioning</th>\n",
       "      <th>Vision</th>\n",
       "      <th>Composure</th>\n",
       "    </tr>\n",
       "  </thead>\n",
       "  <tbody>\n",
       "    <tr>\n",
       "      <th>count</th>\n",
       "      <td>16122.000000</td>\n",
       "      <td>16122.000000</td>\n",
       "      <td>16122.000000</td>\n",
       "      <td>16122.000000</td>\n",
       "      <td>16122.000000</td>\n",
       "      <td>16122.000000</td>\n",
       "      <td>16122.000000</td>\n",
       "      <td>16122.000000</td>\n",
       "      <td>16122.000000</td>\n",
       "      <td>16122.000000</td>\n",
       "      <td>16122.000000</td>\n",
       "      <td>16122.000000</td>\n",
       "      <td>16122.000000</td>\n",
       "      <td>16122.000000</td>\n",
       "      <td>16122.000000</td>\n",
       "      <td>16122.000000</td>\n",
       "      <td>16122.000000</td>\n",
       "    </tr>\n",
       "    <tr>\n",
       "      <th>mean</th>\n",
       "      <td>0.053537</td>\n",
       "      <td>0.064942</td>\n",
       "      <td>0.168294</td>\n",
       "      <td>-0.081373</td>\n",
       "      <td>0.122654</td>\n",
       "      <td>-0.030012</td>\n",
       "      <td>-0.132537</td>\n",
       "      <td>0.002751</td>\n",
       "      <td>0.076091</td>\n",
       "      <td>0.098800</td>\n",
       "      <td>0.125965</td>\n",
       "      <td>0.169170</td>\n",
       "      <td>-0.025506</td>\n",
       "      <td>0.136145</td>\n",
       "      <td>0.043417</td>\n",
       "      <td>0.060219</td>\n",
       "      <td>0.036497</td>\n",
       "    </tr>\n",
       "    <tr>\n",
       "      <th>std</th>\n",
       "      <td>0.344606</td>\n",
       "      <td>0.293820</td>\n",
       "      <td>0.268085</td>\n",
       "      <td>0.369549</td>\n",
       "      <td>0.301492</td>\n",
       "      <td>0.364944</td>\n",
       "      <td>0.358826</td>\n",
       "      <td>0.334822</td>\n",
       "      <td>0.282066</td>\n",
       "      <td>0.233806</td>\n",
       "      <td>0.326638</td>\n",
       "      <td>0.324097</td>\n",
       "      <td>0.379027</td>\n",
       "      <td>0.352347</td>\n",
       "      <td>0.349409</td>\n",
       "      <td>0.314939</td>\n",
       "      <td>0.274291</td>\n",
       "    </tr>\n",
       "    <tr>\n",
       "      <th>min</th>\n",
       "      <td>-1.000000</td>\n",
       "      <td>-1.000000</td>\n",
       "      <td>-1.000000</td>\n",
       "      <td>-1.000000</td>\n",
       "      <td>-1.000000</td>\n",
       "      <td>-1.000000</td>\n",
       "      <td>-1.000000</td>\n",
       "      <td>-1.000000</td>\n",
       "      <td>-1.000000</td>\n",
       "      <td>-1.000000</td>\n",
       "      <td>-1.000000</td>\n",
       "      <td>-1.000000</td>\n",
       "      <td>-1.000000</td>\n",
       "      <td>-1.000000</td>\n",
       "      <td>-1.000000</td>\n",
       "      <td>-1.000000</td>\n",
       "      <td>-1.000000</td>\n",
       "    </tr>\n",
       "    <tr>\n",
       "      <th>25%</th>\n",
       "      <td>-0.195122</td>\n",
       "      <td>-0.139241</td>\n",
       "      <td>0.013699</td>\n",
       "      <td>-0.375000</td>\n",
       "      <td>-0.012048</td>\n",
       "      <td>-0.325301</td>\n",
       "      <td>-0.428571</td>\n",
       "      <td>-0.189189</td>\n",
       "      <td>-0.070423</td>\n",
       "      <td>-0.066667</td>\n",
       "      <td>-0.086420</td>\n",
       "      <td>-0.014493</td>\n",
       "      <td>-0.301205</td>\n",
       "      <td>-0.097561</td>\n",
       "      <td>-0.166667</td>\n",
       "      <td>-0.146341</td>\n",
       "      <td>-0.162162</td>\n",
       "    </tr>\n",
       "    <tr>\n",
       "      <th>50%</th>\n",
       "      <td>0.097561</td>\n",
       "      <td>0.088608</td>\n",
       "      <td>0.205479</td>\n",
       "      <td>-0.075000</td>\n",
       "      <td>0.180723</td>\n",
       "      <td>-0.012048</td>\n",
       "      <td>-0.190476</td>\n",
       "      <td>0.054054</td>\n",
       "      <td>0.098592</td>\n",
       "      <td>0.093333</td>\n",
       "      <td>0.160494</td>\n",
       "      <td>0.188406</td>\n",
       "      <td>0.036145</td>\n",
       "      <td>0.170732</td>\n",
       "      <td>0.095238</td>\n",
       "      <td>0.097561</td>\n",
       "      <td>0.054054</td>\n",
       "    </tr>\n",
       "    <tr>\n",
       "      <th>75%</th>\n",
       "      <td>0.317073</td>\n",
       "      <td>0.265823</td>\n",
       "      <td>0.342466</td>\n",
       "      <td>0.200000</td>\n",
       "      <td>0.325301</td>\n",
       "      <td>0.253012</td>\n",
       "      <td>0.142857</td>\n",
       "      <td>0.243243</td>\n",
       "      <td>0.267606</td>\n",
       "      <td>0.253333</td>\n",
       "      <td>0.358025</td>\n",
       "      <td>0.391304</td>\n",
       "      <td>0.277108</td>\n",
       "      <td>0.390244</td>\n",
       "      <td>0.285714</td>\n",
       "      <td>0.292683</td>\n",
       "      <td>0.243243</td>\n",
       "    </tr>\n",
       "    <tr>\n",
       "      <th>max</th>\n",
       "      <td>1.000000</td>\n",
       "      <td>1.000000</td>\n",
       "      <td>1.000000</td>\n",
       "      <td>1.000000</td>\n",
       "      <td>1.000000</td>\n",
       "      <td>1.000000</td>\n",
       "      <td>1.000000</td>\n",
       "      <td>1.000000</td>\n",
       "      <td>1.000000</td>\n",
       "      <td>1.000000</td>\n",
       "      <td>1.000000</td>\n",
       "      <td>1.000000</td>\n",
       "      <td>1.000000</td>\n",
       "      <td>1.000000</td>\n",
       "      <td>1.000000</td>\n",
       "      <td>1.000000</td>\n",
       "      <td>1.000000</td>\n",
       "    </tr>\n",
       "  </tbody>\n",
       "</table>\n",
       "</div>"
      ],
      "text/plain": [
       "           Crossing  HeadingAccuracy  ShortPassing       Volleys  \\\n",
       "count  16122.000000     16122.000000  16122.000000  16122.000000   \n",
       "mean       0.053537         0.064942      0.168294     -0.081373   \n",
       "std        0.344606         0.293820      0.268085      0.369549   \n",
       "min       -1.000000        -1.000000     -1.000000     -1.000000   \n",
       "25%       -0.195122        -0.139241      0.013699     -0.375000   \n",
       "50%        0.097561         0.088608      0.205479     -0.075000   \n",
       "75%        0.317073         0.265823      0.342466      0.200000   \n",
       "max        1.000000         1.000000      1.000000      1.000000   \n",
       "\n",
       "          Dribbling         Curve    FKAccuracy   LongPassing   BallControl  \\\n",
       "count  16122.000000  16122.000000  16122.000000  16122.000000  16122.000000   \n",
       "mean       0.122654     -0.030012     -0.132537      0.002751      0.076091   \n",
       "std        0.301492      0.364944      0.358826      0.334822      0.282066   \n",
       "min       -1.000000     -1.000000     -1.000000     -1.000000     -1.000000   \n",
       "25%       -0.012048     -0.325301     -0.428571     -0.189189     -0.070423   \n",
       "50%        0.180723     -0.012048     -0.190476      0.054054      0.098592   \n",
       "75%        0.325301      0.253012      0.142857      0.243243      0.267606   \n",
       "max        1.000000      1.000000      1.000000      1.000000      1.000000   \n",
       "\n",
       "          Reactions     ShotPower       Stamina     LongShots    Aggression  \\\n",
       "count  16122.000000  16122.000000  16122.000000  16122.000000  16122.000000   \n",
       "mean       0.098800      0.125965      0.169170     -0.025506      0.136145   \n",
       "std        0.233806      0.326638      0.324097      0.379027      0.352347   \n",
       "min       -1.000000     -1.000000     -1.000000     -1.000000     -1.000000   \n",
       "25%       -0.066667     -0.086420     -0.014493     -0.301205     -0.097561   \n",
       "50%        0.093333      0.160494      0.188406      0.036145      0.170732   \n",
       "75%        0.253333      0.358025      0.391304      0.277108      0.390244   \n",
       "max        1.000000      1.000000      1.000000      1.000000      1.000000   \n",
       "\n",
       "        Positioning        Vision     Composure  \n",
       "count  16122.000000  16122.000000  16122.000000  \n",
       "mean       0.043417      0.060219      0.036497  \n",
       "std        0.349409      0.314939      0.274291  \n",
       "min       -1.000000     -1.000000     -1.000000  \n",
       "25%       -0.166667     -0.146341     -0.162162  \n",
       "50%        0.095238      0.097561      0.054054  \n",
       "75%        0.285714      0.292683      0.243243  \n",
       "max        1.000000      1.000000      1.000000  "
      ]
     },
     "execution_count": 7,
     "metadata": {},
     "output_type": "execute_result"
    }
   ],
   "source": [
    "att.describe()"
   ]
  },
  {
   "cell_type": "code",
   "execution_count": 8,
   "metadata": {},
   "outputs": [
    {
     "data": {
      "text/html": [
       "<div>\n",
       "<style scoped>\n",
       "    .dataframe tbody tr th:only-of-type {\n",
       "        vertical-align: middle;\n",
       "    }\n",
       "\n",
       "    .dataframe tbody tr th {\n",
       "        vertical-align: top;\n",
       "    }\n",
       "\n",
       "    .dataframe thead th {\n",
       "        text-align: right;\n",
       "    }\n",
       "</style>\n",
       "<table border=\"1\" class=\"dataframe\">\n",
       "  <thead>\n",
       "    <tr style=\"text-align: right;\">\n",
       "      <th></th>\n",
       "      <th>Poor:[46.0, 62.0]</th>\n",
       "      <th>Interm:[63.0, 66.0]</th>\n",
       "      <th>Good:[67.0, 71.0]</th>\n",
       "      <th>Excel:[72.0, 94.0]</th>\n",
       "    </tr>\n",
       "  </thead>\n",
       "  <tbody>\n",
       "    <tr>\n",
       "      <th>0</th>\n",
       "      <td>0.0</td>\n",
       "      <td>1.0</td>\n",
       "      <td>0.0</td>\n",
       "      <td>0.0</td>\n",
       "    </tr>\n",
       "    <tr>\n",
       "      <th>1</th>\n",
       "      <td>0.0</td>\n",
       "      <td>0.0</td>\n",
       "      <td>1.0</td>\n",
       "      <td>0.0</td>\n",
       "    </tr>\n",
       "    <tr>\n",
       "      <th>2</th>\n",
       "      <td>1.0</td>\n",
       "      <td>0.0</td>\n",
       "      <td>0.0</td>\n",
       "      <td>0.0</td>\n",
       "    </tr>\n",
       "    <tr>\n",
       "      <th>3</th>\n",
       "      <td>0.0</td>\n",
       "      <td>0.0</td>\n",
       "      <td>1.0</td>\n",
       "      <td>0.0</td>\n",
       "    </tr>\n",
       "    <tr>\n",
       "      <th>4</th>\n",
       "      <td>0.0</td>\n",
       "      <td>1.0</td>\n",
       "      <td>0.0</td>\n",
       "      <td>0.0</td>\n",
       "    </tr>\n",
       "  </tbody>\n",
       "</table>\n",
       "</div>"
      ],
      "text/plain": [
       "   Poor:[46.0, 62.0]  Interm:[63.0, 66.0]  Good:[67.0, 71.0]  \\\n",
       "0                0.0                  1.0                0.0   \n",
       "1                0.0                  0.0                1.0   \n",
       "2                1.0                  0.0                0.0   \n",
       "3                0.0                  0.0                1.0   \n",
       "4                0.0                  1.0                0.0   \n",
       "\n",
       "   Excel:[72.0, 94.0]  \n",
       "0                 0.0  \n",
       "1                 0.0  \n",
       "2                 0.0  \n",
       "3                 0.0  \n",
       "4                 0.0  "
      ]
     },
     "execution_count": 8,
     "metadata": {},
     "output_type": "execute_result"
    }
   ],
   "source": [
    "target.head()"
   ]
  },
  {
   "cell_type": "code",
   "execution_count": 9,
   "metadata": {},
   "outputs": [],
   "source": [
    "clases = np.argmax(target.to_numpy(),axis=1)"
   ]
  },
  {
   "cell_type": "code",
   "execution_count": 10,
   "metadata": {},
   "outputs": [
    {
     "data": {
      "text/plain": [
       "array([4296, 3868, 4353, 3605], dtype=int64)"
      ]
     },
     "execution_count": 10,
     "metadata": {},
     "output_type": "execute_result"
    }
   ],
   "source": [
    "np.bincount(clases) # contar cuantos elemntos tengo de cada clase en el conjunto de datos"
   ]
  },
  {
   "cell_type": "code",
   "execution_count": 11,
   "metadata": {},
   "outputs": [
    {
     "name": "stdout",
     "output_type": "stream",
     "text": [
      "Total: 16122. C1 4296, c2 3868, c3 4353, c4 3605\n"
     ]
    }
   ],
   "source": [
    "c1, c2,c3,c4= np.bincount(clases)\n",
    "total = c1+c2+c3+c4\n",
    "print(f\"Total: {total}. C1 {c1}, c2 {c2}, c3 {c3}, c4 {c4}\") #lo mismo de arriba"
   ]
  },
  {
   "cell_type": "code",
   "execution_count": null,
   "metadata": {},
   "outputs": [],
   "source": []
  },
  {
   "cell_type": "code",
   "execution_count": 12,
   "metadata": {},
   "outputs": [],
   "source": [
    "X_train,X_rem,y_train,y_rem = train_test_split(att,target,train_size=0.8)\n",
    "X_valid,X_test,y_valid,y_test = train_test_split(X_rem,y_rem,train_size=0.5)\n",
    "#80 % train   --- 10% val 10% test"
   ]
  },
  {
   "cell_type": "code",
   "execution_count": 13,
   "metadata": {},
   "outputs": [
    {
     "name": "stdout",
     "output_type": "stream",
     "text": [
      "Total: 12897. C1 3455, c2 3086, c3 3479, c4 2877\n"
     ]
    }
   ],
   "source": [
    "c1, c2,c3,c4= np.bincount(np.argmax(y_train.to_numpy(),axis=1))\n",
    "total = c1+c2+c3+c4\n",
    "print(f\"Total: {total}. C1 {c1}, c2 {c2}, c3 {c3}, c4 {c4}\")"
   ]
  },
  {
   "cell_type": "code",
   "execution_count": 61,
   "metadata": {},
   "outputs": [],
   "source": [
    "METRICS = [\n",
    "      keras.metrics.TruePositives(name='tp'),\n",
    "      keras.metrics.FalsePositives(name='fp'),\n",
    "      keras.metrics.TrueNegatives(name='tn'),\n",
    "      keras.metrics.FalseNegatives(name='fn'), \n",
    "      keras.metrics.CategoricalAccuracy(name='accuracy'),\n",
    "      keras.metrics.Precision(name='precision'),\n",
    "      keras.metrics.Recall(name='recall'),\n",
    "]\n",
    "\n",
    "METRICS2 = [\n",
    "\n",
    "      keras.metrics.CategoricalAccuracy(name='accuracy')\n",
    "\n",
    "\n",
    "]\n"
   ]
  },
  {
   "cell_type": "code",
   "execution_count": 15,
   "metadata": {},
   "outputs": [],
   "source": [
    "def plot_loss(history, label, n):\n",
    "  # Use a log scale on y-axis to show the wide range of values.\n",
    "  plt.semilogy(history.epoch, history.history['loss'],\n",
    "               color=colors[n], label='Train ' + label)\n",
    "  plt.semilogy(history.epoch, history.history['val_loss'],\n",
    "               color=colors[n], label='Val ' + label,\n",
    "               linestyle=\"--\")\n",
    "  plt.xlabel('Epoch')\n",
    "  plt.ylabel('Loss')"
   ]
  },
  {
   "cell_type": "code",
   "execution_count": 74,
   "metadata": {},
   "outputs": [],
   "source": [
    "def plot_metrics(history):\n",
    "  metrics = ['loss', 'precision', 'recall', 'accuracy']\n",
    "  for n, metric in enumerate(metrics):\n",
    "    name = metric.replace(\"_\",\" \").capitalize()\n",
    "    plt.subplot(2,2,n+1)\n",
    "    plt.plot(history.epoch, history.history[metric], color=colors[0], label='Train')\n",
    "    plt.plot(history.epoch, history.history['val_'+metric],\n",
    "             color=colors[0], linestyle=\"--\", label='Val')\n",
    "    plt.xlabel('Epoch')\n",
    "    plt.ylabel(name)\n",
    "    if metric == 'loss':\n",
    "      plt.ylim([0, plt.ylim()[1]])\n",
    "    elif metric == 'auc':\n",
    "      plt.ylim([0.8,1])\n",
    "    else:\n",
    "      plt.ylim([0,1])\n",
    "\n",
    "    plt.legend()"
   ]
  },
  {
   "cell_type": "code",
   "execution_count": 24,
   "metadata": {},
   "outputs": [],
   "source": [
    "def plot_cm(labels, predictions, p=0.5):\n",
    "  cm = confusion_matrix(labels,predictions)\n",
    "  plt.figure(figsize=(5,5))\n",
    "  sns.heatmap(cm, annot=True, fmt=\"d\")\n",
    "  plt.title('Confusion matrix')\n",
    "  plt.ylabel('Actual label')\n",
    "  plt.xlabel('Predicted label')\n"
   ]
  },
  {
   "cell_type": "markdown",
   "metadata": {},
   "source": [
    "Observamos el overfit del modelo"
   ]
  },
  {
   "cell_type": "code",
   "execution_count": null,
   "metadata": {},
   "outputs": [],
   "source": [
    "plt.plot(h_100x4x100.history['val_categorical_accuracy'])\n",
    "plt.plot(h_100x4x100.history['categorical_accuracy'])\n",
    "\n",
    "plt.title('model accuracy')\n",
    "plt.ylabel('accuracy')\n",
    "plt.xlabel('epoch')\n",
    "plt.legend(['val_accuracy','train_accuracy'], loc='upper left')\n",
    "plt.show()\n",
    "# \"Loss\""
   ]
  },
  {
   "cell_type": "code",
   "execution_count": null,
   "metadata": {},
   "outputs": [],
   "source": [
    "plt.plot(h_128128.history['val_categorical_accuracy'])\n",
    "plt.plot(h_nocapas.history['val_categorical_accuracy'])\n",
    "plt.plot(h_512512.history['val_categorical_accuracy'])\n",
    "\n",
    "plt.title('model accuracy')\n",
    "plt.ylabel('accuracy')\n",
    "plt.xlabel('epoch')\n",
    "plt.legend(['h28128', 'nocapas','512512'], loc='upper left')\n",
    "plt.show()\n",
    "# \"Loss\"\n"
   ]
  },
  {
   "cell_type": "code",
   "execution_count": 18,
   "metadata": {},
   "outputs": [],
   "source": [
    "def build_model(n_hidden=1, n_neurons_ocultas=[30], input_shape=(8,), \n",
    "                activation_o=\"relu\", optimizer=\"adam\", loss=\"categorical_crossentropy\", metrics=METRICS, \n",
    "                activation_s=\"soft_max\", n_neurons_salida=4):     \n",
    "    model = keras.models.Sequential()     \n",
    "    model.add(keras.layers.InputLayer(input_shape=input_shape))\n",
    "    if n_hidden != len(n_neurons_ocultas):\n",
    "        print(\"error, tamaño de la lista de n_neuronas no corresponde al numero de capas\")\n",
    "        return -1\n",
    "    for layer in range(n_hidden):         \n",
    "        model.add(keras.layers.Dense(n_neurons_ocultas[layer], activation=\"relu\"))     \n",
    "  \n",
    "    model.add(keras.layers.Dense(n_neurons_salida, activation=activation_s))  \n",
    "    model.compile(optimizer=optimizer,   \n",
    "              loss=loss,\n",
    "              metrics=metrics)    \n",
    "    return model"
   ]
  },
  {
   "cell_type": "code",
   "execution_count": 160,
   "metadata": {},
   "outputs": [
    {
     "name": "stdout",
     "output_type": "stream",
     "text": [
      "Model: \"sequential_52\"\n",
      "_________________________________________________________________\n",
      " Layer (type)                Output Shape              Param #   \n",
      "=================================================================\n",
      " dense_121 (Dense)           (None, 100)               1800      \n",
      "                                                                 \n",
      " dense_122 (Dense)           (None, 4)                 404       \n",
      "                                                                 \n",
      "=================================================================\n",
      "Total params: 2,204\n",
      "Trainable params: 2,204\n",
      "Non-trainable params: 0\n",
      "_________________________________________________________________\n",
      "Epoch 1/100\n",
      "202/202 [==============================] - 2s 3ms/step - loss: 0.8889 - tp: 9681.0000 - fp: 3744.0000 - tn: 39786.0000 - fn: 4829.0000 - accuracy: 0.7033 - precision: 0.7211 - recall: 0.6672 - val_loss: 0.6345 - val_tp: 1155.0000 - val_fp: 401.0000 - val_tn: 4438.0000 - val_fn: 458.0000 - val_accuracy: 0.7365 - val_precision: 0.7423 - val_recall: 0.7161\n",
      "Epoch 2/100\n",
      "202/202 [==============================] - 0s 2ms/step - loss: 0.6383 - tp: 9176.0000 - fp: 3285.0000 - tn: 35406.0000 - fn: 3721.0000 - accuracy: 0.7286 - precision: 0.7364 - recall: 0.7115 - val_loss: 0.5994 - val_tp: 1181.0000 - val_fp: 390.0000 - val_tn: 4449.0000 - val_fn: 432.0000 - val_accuracy: 0.7489 - val_precision: 0.7518 - val_recall: 0.7322\n",
      "Epoch 3/100\n",
      "202/202 [==============================] - 0s 2ms/step - loss: 0.6036 - tp: 9322.0000 - fp: 3156.0000 - tn: 35535.0000 - fn: 3575.0000 - accuracy: 0.7390 - precision: 0.7471 - recall: 0.7228 - val_loss: 0.6194 - val_tp: 1188.0000 - val_fp: 369.0000 - val_tn: 4470.0000 - val_fn: 425.0000 - val_accuracy: 0.7576 - val_precision: 0.7630 - val_recall: 0.7365\n",
      "Epoch 4/100\n",
      "202/202 [==============================] - 0s 2ms/step - loss: 0.6180 - tp: 9277.0000 - fp: 3238.0000 - tn: 35453.0000 - fn: 3620.0000 - accuracy: 0.7343 - precision: 0.7413 - recall: 0.7193 - val_loss: 0.5263 - val_tp: 1216.0000 - val_fp: 369.0000 - val_tn: 4470.0000 - val_fn: 397.0000 - val_accuracy: 0.7626 - val_precision: 0.7672 - val_recall: 0.7539\n",
      "Epoch 5/100\n",
      "202/202 [==============================] - 0s 2ms/step - loss: 0.6080 - tp: 9343.0000 - fp: 3203.0000 - tn: 35488.0000 - fn: 3554.0000 - accuracy: 0.7388 - precision: 0.7447 - recall: 0.7244 - val_loss: 0.5999 - val_tp: 1196.0000 - val_fp: 402.0000 - val_tn: 4437.0000 - val_fn: 417.0000 - val_accuracy: 0.7464 - val_precision: 0.7484 - val_recall: 0.7415\n",
      "Epoch 6/100\n",
      "202/202 [==============================] - 0s 2ms/step - loss: 0.6254 - tp: 9120.0000 - fp: 3285.0000 - tn: 35406.0000 - fn: 3777.0000 - accuracy: 0.7251 - precision: 0.7352 - recall: 0.7071 - val_loss: 0.6743 - val_tp: 1155.0000 - val_fp: 431.0000 - val_tn: 4408.0000 - val_fn: 458.0000 - val_accuracy: 0.7266 - val_precision: 0.7282 - val_recall: 0.7161\n",
      "Epoch 7/100\n",
      "202/202 [==============================] - 0s 2ms/step - loss: 0.6385 - tp: 9073.0000 - fp: 3268.0000 - tn: 35423.0000 - fn: 3824.0000 - accuracy: 0.7240 - precision: 0.7352 - recall: 0.7035 - val_loss: 0.5656 - val_tp: 1232.0000 - val_fp: 345.0000 - val_tn: 4494.0000 - val_fn: 381.0000 - val_accuracy: 0.7737 - val_precision: 0.7812 - val_recall: 0.7638\n",
      "Epoch 8/100\n",
      "202/202 [==============================] - 0s 1ms/step - loss: 0.6250 - tp: 9150.0000 - fp: 3129.0000 - tn: 35562.0000 - fn: 3747.0000 - accuracy: 0.7334 - precision: 0.7452 - recall: 0.7095 - val_loss: 0.5769 - val_tp: 1224.0000 - val_fp: 376.0000 - val_tn: 4463.0000 - val_fn: 389.0000 - val_accuracy: 0.7626 - val_precision: 0.7650 - val_recall: 0.7588\n",
      "Epoch 9/100\n",
      "202/202 [==============================] - 0s 2ms/step - loss: 0.6170 - tp: 9266.0000 - fp: 3271.0000 - tn: 35420.0000 - fn: 3631.0000 - accuracy: 0.7315 - precision: 0.7391 - recall: 0.7185 - val_loss: 0.5558 - val_tp: 1221.0000 - val_fp: 365.0000 - val_tn: 4474.0000 - val_fn: 392.0000 - val_accuracy: 0.7626 - val_precision: 0.7699 - val_recall: 0.7570\n",
      "Epoch 10/100\n",
      "202/202 [==============================] - 0s 1ms/step - loss: 0.6155 - tp: 9230.0000 - fp: 3216.0000 - tn: 35475.0000 - fn: 3667.0000 - accuracy: 0.7323 - precision: 0.7416 - recall: 0.7157 - val_loss: 0.5835 - val_tp: 1203.0000 - val_fp: 379.0000 - val_tn: 4460.0000 - val_fn: 410.0000 - val_accuracy: 0.7570 - val_precision: 0.7604 - val_recall: 0.7458\n",
      "Epoch 11/100\n",
      "202/202 [==============================] - 0s 2ms/step - loss: 0.5970 - tp: 9298.0000 - fp: 3118.0000 - tn: 35573.0000 - fn: 3599.0000 - accuracy: 0.7409 - precision: 0.7489 - recall: 0.7209 - val_loss: 0.6628 - val_tp: 1119.0000 - val_fp: 453.0000 - val_tn: 4386.0000 - val_fn: 494.0000 - val_accuracy: 0.7068 - val_precision: 0.7118 - val_recall: 0.6937\n",
      "Epoch 12/100\n",
      "202/202 [==============================] - 0s 2ms/step - loss: 0.6404 - tp: 8980.0000 - fp: 3270.0000 - tn: 35421.0000 - fn: 3917.0000 - accuracy: 0.7223 - precision: 0.7331 - recall: 0.6963 - val_loss: 0.6176 - val_tp: 1190.0000 - val_fp: 403.0000 - val_tn: 4436.0000 - val_fn: 423.0000 - val_accuracy: 0.7433 - val_precision: 0.7470 - val_recall: 0.7378\n",
      "Epoch 13/100\n",
      "202/202 [==============================] - 0s 2ms/step - loss: 0.6206 - tp: 9091.0000 - fp: 3237.0000 - tn: 35454.0000 - fn: 3806.0000 - accuracy: 0.7264 - precision: 0.7374 - recall: 0.7049 - val_loss: 0.5999 - val_tp: 1182.0000 - val_fp: 386.0000 - val_tn: 4453.0000 - val_fn: 431.0000 - val_accuracy: 0.7446 - val_precision: 0.7538 - val_recall: 0.7328\n",
      "Epoch 14/100\n",
      "202/202 [==============================] - 0s 1ms/step - loss: 0.6181 - tp: 9255.0000 - fp: 3215.0000 - tn: 35476.0000 - fn: 3642.0000 - accuracy: 0.7337 - precision: 0.7422 - recall: 0.7176 - val_loss: 0.6843 - val_tp: 1139.0000 - val_fp: 452.0000 - val_tn: 4387.0000 - val_fn: 474.0000 - val_accuracy: 0.7111 - val_precision: 0.7159 - val_recall: 0.7061\n",
      "Epoch 15/100\n",
      "202/202 [==============================] - 0s 2ms/step - loss: 0.6273 - tp: 8977.0000 - fp: 3326.0000 - tn: 35365.0000 - fn: 3920.0000 - accuracy: 0.7191 - precision: 0.7297 - recall: 0.6961 - val_loss: 0.6364 - val_tp: 968.0000 - val_fp: 258.0000 - val_tn: 4581.0000 - val_fn: 645.0000 - val_accuracy: 0.7192 - val_precision: 0.7896 - val_recall: 0.6001\n",
      "Epoch 16/100\n",
      "202/202 [==============================] - 0s 2ms/step - loss: 0.6460 - tp: 8951.0000 - fp: 3359.0000 - tn: 35332.0000 - fn: 3946.0000 - accuracy: 0.7170 - precision: 0.7271 - recall: 0.6940 - val_loss: 0.6661 - val_tp: 936.0000 - val_fp: 307.0000 - val_tn: 4532.0000 - val_fn: 677.0000 - val_accuracy: 0.6844 - val_precision: 0.7530 - val_recall: 0.5803\n",
      "Epoch 17/100\n",
      "202/202 [==============================] - 0s 2ms/step - loss: 0.6281 - tp: 8934.0000 - fp: 3201.0000 - tn: 35490.0000 - fn: 3963.0000 - accuracy: 0.7216 - precision: 0.7362 - recall: 0.6927 - val_loss: 0.5781 - val_tp: 1156.0000 - val_fp: 423.0000 - val_tn: 4416.0000 - val_fn: 457.0000 - val_accuracy: 0.7272 - val_precision: 0.7321 - val_recall: 0.7167\n",
      "Epoch 18/100\n",
      "202/202 [==============================] - 0s 2ms/step - loss: 0.6224 - tp: 9015.0000 - fp: 3302.0000 - tn: 35389.0000 - fn: 3882.0000 - accuracy: 0.7217 - precision: 0.7319 - recall: 0.6990 - val_loss: 0.6456 - val_tp: 1174.0000 - val_fp: 408.0000 - val_tn: 4431.0000 - val_fn: 439.0000 - val_accuracy: 0.7371 - val_precision: 0.7421 - val_recall: 0.7278\n",
      "Epoch 19/100\n",
      "202/202 [==============================] - 0s 2ms/step - loss: 0.6435 - tp: 8902.0000 - fp: 3360.0000 - tn: 35331.0000 - fn: 3995.0000 - accuracy: 0.7140 - precision: 0.7260 - recall: 0.6902 - val_loss: 0.7118 - val_tp: 1111.0000 - val_fp: 449.0000 - val_tn: 4390.0000 - val_fn: 502.0000 - val_accuracy: 0.7006 - val_precision: 0.7122 - val_recall: 0.6888\n",
      "Epoch 20/100\n",
      "202/202 [==============================] - 0s 2ms/step - loss: 0.6163 - tp: 9103.0000 - fp: 3243.0000 - tn: 35448.0000 - fn: 3794.0000 - accuracy: 0.7278 - precision: 0.7373 - recall: 0.7058 - val_loss: 0.6490 - val_tp: 1116.0000 - val_fp: 481.0000 - val_tn: 4358.0000 - val_fn: 497.0000 - val_accuracy: 0.6944 - val_precision: 0.6988 - val_recall: 0.6919\n",
      "Epoch 21/100\n"
     ]
    },
    {
     "name": "stdout",
     "output_type": "stream",
     "text": [
      "202/202 [==============================] - 0s 2ms/step - loss: 0.6307 - tp: 8964.0000 - fp: 3365.0000 - tn: 35326.0000 - fn: 3933.0000 - accuracy: 0.7158 - precision: 0.7271 - recall: 0.6950 - val_loss: 0.6001 - val_tp: 1175.0000 - val_fp: 402.0000 - val_tn: 4437.0000 - val_fn: 438.0000 - val_accuracy: 0.7433 - val_precision: 0.7451 - val_recall: 0.7285\n",
      "Epoch 22/100\n",
      "202/202 [==============================] - 0s 2ms/step - loss: 0.6255 - tp: 8995.0000 - fp: 3308.0000 - tn: 35383.0000 - fn: 3902.0000 - accuracy: 0.7206 - precision: 0.7311 - recall: 0.6974 - val_loss: 0.7439 - val_tp: 1060.0000 - val_fp: 493.0000 - val_tn: 4346.0000 - val_fn: 553.0000 - val_accuracy: 0.6745 - val_precision: 0.6825 - val_recall: 0.6572\n",
      "Epoch 23/100\n",
      "202/202 [==============================] - 0s 2ms/step - loss: 0.6365 - tp: 8938.0000 - fp: 3446.0000 - tn: 35245.0000 - fn: 3959.0000 - accuracy: 0.7135 - precision: 0.7217 - recall: 0.6930 - val_loss: 0.5803 - val_tp: 1031.0000 - val_fp: 278.0000 - val_tn: 4561.0000 - val_fn: 582.0000 - val_accuracy: 0.7322 - val_precision: 0.7876 - val_recall: 0.6392\n",
      "Epoch 24/100\n",
      "202/202 [==============================] - 0s 2ms/step - loss: 0.6267 - tp: 8972.0000 - fp: 3342.0000 - tn: 35349.0000 - fn: 3925.0000 - accuracy: 0.7203 - precision: 0.7286 - recall: 0.6957 - val_loss: 0.6008 - val_tp: 1175.0000 - val_fp: 409.0000 - val_tn: 4430.0000 - val_fn: 438.0000 - val_accuracy: 0.7359 - val_precision: 0.7418 - val_recall: 0.7285\n",
      "Epoch 25/100\n",
      "202/202 [==============================] - 0s 1ms/step - loss: 0.6362 - tp: 8862.0000 - fp: 3261.0000 - tn: 35430.0000 - fn: 4035.0000 - accuracy: 0.7184 - precision: 0.7310 - recall: 0.6871 - val_loss: 0.5807 - val_tp: 1205.0000 - val_fp: 389.0000 - val_tn: 4450.0000 - val_fn: 408.0000 - val_accuracy: 0.7533 - val_precision: 0.7560 - val_recall: 0.7471\n",
      "Epoch 26/100\n",
      "202/202 [==============================] - 0s 2ms/step - loss: 0.6449 - tp: 8863.0000 - fp: 3354.0000 - tn: 35337.0000 - fn: 4034.0000 - accuracy: 0.7129 - precision: 0.7255 - recall: 0.6872 - val_loss: 0.6381 - val_tp: 1118.0000 - val_fp: 426.0000 - val_tn: 4413.0000 - val_fn: 495.0000 - val_accuracy: 0.7161 - val_precision: 0.7241 - val_recall: 0.6931\n",
      "Epoch 27/100\n",
      "202/202 [==============================] - 0s 2ms/step - loss: 0.6223 - tp: 8968.0000 - fp: 3295.0000 - tn: 35396.0000 - fn: 3929.0000 - accuracy: 0.7195 - precision: 0.7313 - recall: 0.6954 - val_loss: 0.5422 - val_tp: 1199.0000 - val_fp: 380.0000 - val_tn: 4459.0000 - val_fn: 414.0000 - val_accuracy: 0.7545 - val_precision: 0.7593 - val_recall: 0.7433\n",
      "Epoch 28/100\n",
      "202/202 [==============================] - 0s 2ms/step - loss: 0.6167 - tp: 8925.0000 - fp: 3283.0000 - tn: 35408.0000 - fn: 3972.0000 - accuracy: 0.7197 - precision: 0.7311 - recall: 0.6920 - val_loss: 0.7022 - val_tp: 984.0000 - val_fp: 353.0000 - val_tn: 4486.0000 - val_fn: 629.0000 - val_accuracy: 0.6975 - val_precision: 0.7360 - val_recall: 0.6100\n",
      "Epoch 29/100\n",
      "202/202 [==============================] - 0s 2ms/step - loss: 0.6430 - tp: 8855.0000 - fp: 3393.0000 - tn: 35298.0000 - fn: 4042.0000 - accuracy: 0.7114 - precision: 0.7230 - recall: 0.6866 - val_loss: 0.5779 - val_tp: 1032.0000 - val_fp: 273.0000 - val_tn: 4566.0000 - val_fn: 581.0000 - val_accuracy: 0.7136 - val_precision: 0.7908 - val_recall: 0.6398\n",
      "Epoch 30/100\n",
      "202/202 [==============================] - 0s 2ms/step - loss: 0.6273 - tp: 8911.0000 - fp: 3223.0000 - tn: 35468.0000 - fn: 3986.0000 - accuracy: 0.7195 - precision: 0.7344 - recall: 0.6909 - val_loss: 0.6466 - val_tp: 1093.0000 - val_fp: 372.0000 - val_tn: 4467.0000 - val_fn: 520.0000 - val_accuracy: 0.7334 - val_precision: 0.7461 - val_recall: 0.6776\n",
      "Epoch 31/100\n",
      "202/202 [==============================] - 0s 2ms/step - loss: 0.6405 - tp: 8916.0000 - fp: 3300.0000 - tn: 35391.0000 - fn: 3981.0000 - accuracy: 0.7177 - precision: 0.7299 - recall: 0.6913 - val_loss: 0.6140 - val_tp: 1168.0000 - val_fp: 434.0000 - val_tn: 4405.0000 - val_fn: 445.0000 - val_accuracy: 0.7285 - val_precision: 0.7291 - val_recall: 0.7241\n",
      "Epoch 32/100\n",
      "202/202 [==============================] - 0s 1ms/step - loss: 0.6522 - tp: 8883.0000 - fp: 3370.0000 - tn: 35321.0000 - fn: 4014.0000 - accuracy: 0.7138 - precision: 0.7250 - recall: 0.6888 - val_loss: 0.6036 - val_tp: 951.0000 - val_fp: 230.0000 - val_tn: 4609.0000 - val_fn: 662.0000 - val_accuracy: 0.6869 - val_precision: 0.8052 - val_recall: 0.5896\n",
      "Epoch 33/100\n",
      "202/202 [==============================] - 0s 2ms/step - loss: 0.6067 - tp: 9122.0000 - fp: 3202.0000 - tn: 35489.0000 - fn: 3775.0000 - accuracy: 0.7292 - precision: 0.7402 - recall: 0.7073 - val_loss: 0.5724 - val_tp: 1177.0000 - val_fp: 409.0000 - val_tn: 4430.0000 - val_fn: 436.0000 - val_accuracy: 0.7390 - val_precision: 0.7421 - val_recall: 0.7297\n",
      "Epoch 34/100\n",
      "202/202 [==============================] - 0s 2ms/step - loss: 0.6217 - tp: 9027.0000 - fp: 3281.0000 - tn: 35410.0000 - fn: 3870.0000 - accuracy: 0.7233 - precision: 0.7334 - recall: 0.6999 - val_loss: 0.5514 - val_tp: 1111.0000 - val_fp: 332.0000 - val_tn: 4507.0000 - val_fn: 502.0000 - val_accuracy: 0.7347 - val_precision: 0.7699 - val_recall: 0.6888\n",
      "Epoch 35/100\n",
      "202/202 [==============================] - 0s 2ms/step - loss: 0.6371 - tp: 8930.0000 - fp: 3393.0000 - tn: 35298.0000 - fn: 3967.0000 - accuracy: 0.7144 - precision: 0.7247 - recall: 0.6924 - val_loss: 0.5943 - val_tp: 1097.0000 - val_fp: 316.0000 - val_tn: 4523.0000 - val_fn: 516.0000 - val_accuracy: 0.7378 - val_precision: 0.7764 - val_recall: 0.6801\n",
      "Epoch 36/100\n",
      "202/202 [==============================] - 0s 2ms/step - loss: 0.5926 - tp: 9197.0000 - fp: 3172.0000 - tn: 35519.0000 - fn: 3700.0000 - accuracy: 0.7330 - precision: 0.7436 - recall: 0.7131 - val_loss: 0.5686 - val_tp: 1204.0000 - val_fp: 396.0000 - val_tn: 4443.0000 - val_fn: 409.0000 - val_accuracy: 0.7495 - val_precision: 0.7525 - val_recall: 0.7464\n",
      "Epoch 37/100\n",
      "202/202 [==============================] - 0s 2ms/step - loss: 0.6130 - tp: 9013.0000 - fp: 3362.0000 - tn: 35329.0000 - fn: 3884.0000 - accuracy: 0.7182 - precision: 0.7283 - recall: 0.6988 - val_loss: 0.5986 - val_tp: 1139.0000 - val_fp: 441.0000 - val_tn: 4398.0000 - val_fn: 474.0000 - val_accuracy: 0.7130 - val_precision: 0.7209 - val_recall: 0.7061\n",
      "Epoch 38/100\n",
      "202/202 [==============================] - 0s 2ms/step - loss: 0.6175 - tp: 9075.0000 - fp: 3206.0000 - tn: 35485.0000 - fn: 3822.0000 - accuracy: 0.7267 - precision: 0.7389 - recall: 0.7037 - val_loss: 0.5963 - val_tp: 1191.0000 - val_fp: 399.0000 - val_tn: 4440.0000 - val_fn: 422.0000 - val_accuracy: 0.7477 - val_precision: 0.7491 - val_recall: 0.7384\n",
      "Epoch 39/100\n",
      "202/202 [==============================] - 0s 2ms/step - loss: 0.6221 - tp: 8970.0000 - fp: 3290.0000 - tn: 35401.0000 - fn: 3927.0000 - accuracy: 0.7209 - precision: 0.7316 - recall: 0.6955 - val_loss: 0.5449 - val_tp: 1240.0000 - val_fp: 362.0000 - val_tn: 4477.0000 - val_fn: 373.0000 - val_accuracy: 0.7731 - val_precision: 0.7740 - val_recall: 0.7688\n",
      "Epoch 40/100\n",
      "202/202 [==============================] - 0s 2ms/step - loss: 0.6016 - tp: 9095.0000 - fp: 3216.0000 - tn: 35475.0000 - fn: 3802.0000 - accuracy: 0.7292 - precision: 0.7388 - recall: 0.7052 - val_loss: 0.7728 - val_tp: 1062.0000 - val_fp: 497.0000 - val_tn: 4342.0000 - val_fn: 551.0000 - val_accuracy: 0.6770 - val_precision: 0.6812 - val_recall: 0.6584\n",
      "Epoch 41/100\n",
      "202/202 [==============================] - 0s 2ms/step - loss: 0.6546 - tp: 8869.0000 - fp: 3375.0000 - tn: 35316.0000 - fn: 4028.0000 - accuracy: 0.7144 - precision: 0.7244 - recall: 0.6877 - val_loss: 0.6949 - val_tp: 1144.0000 - val_fp: 430.0000 - val_tn: 4409.0000 - val_fn: 469.0000 - val_accuracy: 0.7216 - val_precision: 0.7268 - val_recall: 0.7092\n",
      "Epoch 42/100\n",
      "202/202 [==============================] - 0s 2ms/step - loss: 0.6161 - tp: 9121.0000 - fp: 3266.0000 - tn: 35425.0000 - fn: 3776.0000 - accuracy: 0.7278 - precision: 0.7363 - recall: 0.7072 - val_loss: 0.5610 - val_tp: 1132.0000 - val_fp: 341.0000 - val_tn: 4498.0000 - val_fn: 481.0000 - val_accuracy: 0.7471 - val_precision: 0.7685 - val_recall: 0.7018\n",
      "Epoch 43/100\n"
     ]
    },
    {
     "name": "stdout",
     "output_type": "stream",
     "text": [
      "202/202 [==============================] - 0s 2ms/step - loss: 0.6329 - tp: 9041.0000 - fp: 3312.0000 - tn: 35379.0000 - fn: 3856.0000 - accuracy: 0.7207 - precision: 0.7319 - recall: 0.7010 - val_loss: 0.5571 - val_tp: 1202.0000 - val_fp: 373.0000 - val_tn: 4466.0000 - val_fn: 411.0000 - val_accuracy: 0.7564 - val_precision: 0.7632 - val_recall: 0.7452\n",
      "Epoch 44/100\n",
      "202/202 [==============================] - 0s 2ms/step - loss: 0.6355 - tp: 8910.0000 - fp: 3364.0000 - tn: 35327.0000 - fn: 3987.0000 - accuracy: 0.7136 - precision: 0.7259 - recall: 0.6909 - val_loss: 0.6176 - val_tp: 1169.0000 - val_fp: 426.0000 - val_tn: 4413.0000 - val_fn: 444.0000 - val_accuracy: 0.7322 - val_precision: 0.7329 - val_recall: 0.7247\n",
      "Epoch 45/100\n",
      "202/202 [==============================] - 0s 2ms/step - loss: 0.6246 - tp: 9196.0000 - fp: 3279.0000 - tn: 35412.0000 - fn: 3701.0000 - accuracy: 0.7294 - precision: 0.7372 - recall: 0.7130 - val_loss: 0.5649 - val_tp: 1101.0000 - val_fp: 340.0000 - val_tn: 4499.0000 - val_fn: 512.0000 - val_accuracy: 0.7440 - val_precision: 0.7641 - val_recall: 0.6826\n",
      "Epoch 46/100\n",
      "202/202 [==============================] - 0s 2ms/step - loss: 0.6157 - tp: 9054.0000 - fp: 3221.0000 - tn: 35470.0000 - fn: 3843.0000 - accuracy: 0.7258 - precision: 0.7376 - recall: 0.7020 - val_loss: 0.5642 - val_tp: 1196.0000 - val_fp: 401.0000 - val_tn: 4438.0000 - val_fn: 417.0000 - val_accuracy: 0.7489 - val_precision: 0.7489 - val_recall: 0.7415\n",
      "Epoch 47/100\n",
      "202/202 [==============================] - 0s 2ms/step - loss: 0.5929 - tp: 9283.0000 - fp: 3113.0000 - tn: 35578.0000 - fn: 3614.0000 - accuracy: 0.7385 - precision: 0.7489 - recall: 0.7198 - val_loss: 0.5792 - val_tp: 1178.0000 - val_fp: 399.0000 - val_tn: 4440.0000 - val_fn: 435.0000 - val_accuracy: 0.7427 - val_precision: 0.7470 - val_recall: 0.7303\n",
      "Epoch 48/100\n",
      "202/202 [==============================] - 0s 2ms/step - loss: 0.6245 - tp: 8937.0000 - fp: 3310.0000 - tn: 35381.0000 - fn: 3960.0000 - accuracy: 0.7182 - precision: 0.7297 - recall: 0.6930 - val_loss: 0.6463 - val_tp: 999.0000 - val_fp: 310.0000 - val_tn: 4529.0000 - val_fn: 614.0000 - val_accuracy: 0.7037 - val_precision: 0.7632 - val_recall: 0.6193\n",
      "Epoch 49/100\n",
      "202/202 [==============================] - 0s 2ms/step - loss: 0.6132 - tp: 9122.0000 - fp: 3255.0000 - tn: 35436.0000 - fn: 3775.0000 - accuracy: 0.7271 - precision: 0.7370 - recall: 0.7073 - val_loss: 0.6868 - val_tp: 1173.0000 - val_fp: 432.0000 - val_tn: 4407.0000 - val_fn: 440.0000 - val_accuracy: 0.7291 - val_precision: 0.7308 - val_recall: 0.7272\n",
      "Epoch 50/100\n",
      "202/202 [==============================] - 0s 2ms/step - loss: 0.6067 - tp: 9251.0000 - fp: 3271.0000 - tn: 35420.0000 - fn: 3646.0000 - accuracy: 0.7319 - precision: 0.7388 - recall: 0.7173 - val_loss: 0.5786 - val_tp: 1126.0000 - val_fp: 387.0000 - val_tn: 4452.0000 - val_fn: 487.0000 - val_accuracy: 0.7291 - val_precision: 0.7442 - val_recall: 0.6981\n",
      "Epoch 51/100\n",
      "202/202 [==============================] - 0s 2ms/step - loss: 0.6157 - tp: 9126.0000 - fp: 3266.0000 - tn: 35425.0000 - fn: 3771.0000 - accuracy: 0.7270 - precision: 0.7364 - recall: 0.7076 - val_loss: 0.6130 - val_tp: 1151.0000 - val_fp: 404.0000 - val_tn: 4435.0000 - val_fn: 462.0000 - val_accuracy: 0.7291 - val_precision: 0.7402 - val_recall: 0.7136\n",
      "Epoch 52/100\n",
      "202/202 [==============================] - 0s 2ms/step - loss: 0.6181 - tp: 8975.0000 - fp: 3260.0000 - tn: 35431.0000 - fn: 3922.0000 - accuracy: 0.7228 - precision: 0.7336 - recall: 0.6959 - val_loss: 0.6192 - val_tp: 1116.0000 - val_fp: 429.0000 - val_tn: 4410.0000 - val_fn: 497.0000 - val_accuracy: 0.7123 - val_precision: 0.7223 - val_recall: 0.6919\n",
      "Epoch 53/100\n",
      "202/202 [==============================] - 0s 2ms/step - loss: 0.6366 - tp: 8882.0000 - fp: 3332.0000 - tn: 35359.0000 - fn: 4015.0000 - accuracy: 0.7153 - precision: 0.7272 - recall: 0.6887 - val_loss: 0.5897 - val_tp: 1165.0000 - val_fp: 365.0000 - val_tn: 4474.0000 - val_fn: 448.0000 - val_accuracy: 0.7514 - val_precision: 0.7614 - val_recall: 0.7223\n",
      "Epoch 54/100\n",
      "202/202 [==============================] - 0s 2ms/step - loss: 0.6411 - tp: 8936.0000 - fp: 3379.0000 - tn: 35312.0000 - fn: 3961.0000 - accuracy: 0.7154 - precision: 0.7256 - recall: 0.6929 - val_loss: 0.6122 - val_tp: 1088.0000 - val_fp: 342.0000 - val_tn: 4497.0000 - val_fn: 525.0000 - val_accuracy: 0.7452 - val_precision: 0.7608 - val_recall: 0.6745\n",
      "Epoch 55/100\n",
      "202/202 [==============================] - 0s 2ms/step - loss: 0.6326 - tp: 9045.0000 - fp: 3267.0000 - tn: 35424.0000 - fn: 3852.0000 - accuracy: 0.7245 - precision: 0.7346 - recall: 0.7013 - val_loss: 0.5777 - val_tp: 1084.0000 - val_fp: 328.0000 - val_tn: 4511.0000 - val_fn: 529.0000 - val_accuracy: 0.7433 - val_precision: 0.7677 - val_recall: 0.6720\n",
      "Epoch 56/100\n",
      "202/202 [==============================] - 0s 2ms/step - loss: 0.6407 - tp: 8970.0000 - fp: 3266.0000 - tn: 35425.0000 - fn: 3927.0000 - accuracy: 0.7209 - precision: 0.7331 - recall: 0.6955 - val_loss: 0.7217 - val_tp: 1086.0000 - val_fp: 390.0000 - val_tn: 4449.0000 - val_fn: 527.0000 - val_accuracy: 0.7223 - val_precision: 0.7358 - val_recall: 0.6733\n",
      "Epoch 57/100\n",
      "202/202 [==============================] - 0s 2ms/step - loss: 0.6439 - tp: 8845.0000 - fp: 3390.0000 - tn: 35301.0000 - fn: 4052.0000 - accuracy: 0.7109 - precision: 0.7229 - recall: 0.6858 - val_loss: 0.7873 - val_tp: 1063.0000 - val_fp: 524.0000 - val_tn: 4315.0000 - val_fn: 550.0000 - val_accuracy: 0.6683 - val_precision: 0.6698 - val_recall: 0.6590\n",
      "Epoch 58/100\n",
      "202/202 [==============================] - 0s 2ms/step - loss: 0.6399 - tp: 8799.0000 - fp: 3277.0000 - tn: 35414.0000 - fn: 4098.0000 - accuracy: 0.7133 - precision: 0.7286 - recall: 0.6823 - val_loss: 0.6295 - val_tp: 1167.0000 - val_fp: 437.0000 - val_tn: 4402.0000 - val_fn: 446.0000 - val_accuracy: 0.7272 - val_precision: 0.7276 - val_recall: 0.7235\n",
      "Epoch 59/100\n",
      "202/202 [==============================] - 0s 2ms/step - loss: 0.6184 - tp: 8905.0000 - fp: 3335.0000 - tn: 35356.0000 - fn: 3992.0000 - accuracy: 0.7164 - precision: 0.7275 - recall: 0.6905 - val_loss: 0.6195 - val_tp: 1150.0000 - val_fp: 394.0000 - val_tn: 4445.0000 - val_fn: 463.0000 - val_accuracy: 0.7390 - val_precision: 0.7448 - val_recall: 0.7130\n",
      "Epoch 60/100\n",
      "202/202 [==============================] - 0s 2ms/step - loss: 0.6278 - tp: 8967.0000 - fp: 3348.0000 - tn: 35343.0000 - fn: 3930.0000 - accuracy: 0.7182 - precision: 0.7281 - recall: 0.6953 - val_loss: 0.6318 - val_tp: 1069.0000 - val_fp: 339.0000 - val_tn: 4500.0000 - val_fn: 544.0000 - val_accuracy: 0.7055 - val_precision: 0.7592 - val_recall: 0.6627\n",
      "Epoch 61/100\n",
      "202/202 [==============================] - 0s 2ms/step - loss: 0.6426 - tp: 8801.0000 - fp: 3366.0000 - tn: 35325.0000 - fn: 4096.0000 - accuracy: 0.7083 - precision: 0.7234 - recall: 0.6824 - val_loss: 0.6103 - val_tp: 1097.0000 - val_fp: 408.0000 - val_tn: 4431.0000 - val_fn: 516.0000 - val_accuracy: 0.7154 - val_precision: 0.7289 - val_recall: 0.6801\n",
      "Epoch 62/100\n",
      "202/202 [==============================] - 0s 2ms/step - loss: 0.6469 - tp: 8878.0000 - fp: 3347.0000 - tn: 35344.0000 - fn: 4019.0000 - accuracy: 0.7161 - precision: 0.7262 - recall: 0.6884 - val_loss: 0.6360 - val_tp: 1138.0000 - val_fp: 451.0000 - val_tn: 4388.0000 - val_fn: 475.0000 - val_accuracy: 0.7117 - val_precision: 0.7162 - val_recall: 0.7055\n",
      "Epoch 63/100\n",
      "202/202 [==============================] - 0s 2ms/step - loss: 0.6287 - tp: 8982.0000 - fp: 3366.0000 - tn: 35325.0000 - fn: 3915.0000 - accuracy: 0.7173 - precision: 0.7274 - recall: 0.6964 - val_loss: 0.6842 - val_tp: 1053.0000 - val_fp: 449.0000 - val_tn: 4390.0000 - val_fn: 560.0000 - val_accuracy: 0.6869 - val_precision: 0.7011 - val_recall: 0.6528\n",
      "Epoch 64/100\n",
      "202/202 [==============================] - 0s 2ms/step - loss: 0.6198 - tp: 9136.0000 - fp: 3199.0000 - tn: 35492.0000 - fn: 3761.0000 - accuracy: 0.7304 - precision: 0.7407 - recall: 0.7084 - val_loss: 0.5811 - val_tp: 1192.0000 - val_fp: 393.0000 - val_tn: 4446.0000 - val_fn: 421.0000 - val_accuracy: 0.7477 - val_precision: 0.7521 - val_recall: 0.7390\n",
      "Epoch 65/100\n"
     ]
    },
    {
     "name": "stdout",
     "output_type": "stream",
     "text": [
      "202/202 [==============================] - 0s 2ms/step - loss: 0.6515 - tp: 8741.0000 - fp: 3317.0000 - tn: 35374.0000 - fn: 4156.0000 - accuracy: 0.7105 - precision: 0.7249 - recall: 0.6778 - val_loss: 0.6083 - val_tp: 1077.0000 - val_fp: 357.0000 - val_tn: 4482.0000 - val_fn: 536.0000 - val_accuracy: 0.7254 - val_precision: 0.7510 - val_recall: 0.6677\n",
      "Epoch 66/100\n",
      "202/202 [==============================] - 0s 2ms/step - loss: 0.6343 - tp: 8963.0000 - fp: 3336.0000 - tn: 35355.0000 - fn: 3934.0000 - accuracy: 0.7182 - precision: 0.7288 - recall: 0.6950 - val_loss: 0.6256 - val_tp: 1055.0000 - val_fp: 340.0000 - val_tn: 4499.0000 - val_fn: 558.0000 - val_accuracy: 0.7167 - val_precision: 0.7563 - val_recall: 0.6541\n",
      "Epoch 67/100\n",
      "202/202 [==============================] - 0s 2ms/step - loss: 0.6196 - tp: 9020.0000 - fp: 3305.0000 - tn: 35386.0000 - fn: 3877.0000 - accuracy: 0.7199 - precision: 0.7318 - recall: 0.6994 - val_loss: 0.6067 - val_tp: 1187.0000 - val_fp: 412.0000 - val_tn: 4427.0000 - val_fn: 426.0000 - val_accuracy: 0.7402 - val_precision: 0.7423 - val_recall: 0.7359\n",
      "Epoch 68/100\n",
      "202/202 [==============================] - 0s 2ms/step - loss: 0.6323 - tp: 8961.0000 - fp: 3421.0000 - tn: 35270.0000 - fn: 3936.0000 - accuracy: 0.7148 - precision: 0.7237 - recall: 0.6948 - val_loss: 0.6109 - val_tp: 1148.0000 - val_fp: 437.0000 - val_tn: 4402.0000 - val_fn: 465.0000 - val_accuracy: 0.7198 - val_precision: 0.7243 - val_recall: 0.7117\n",
      "Epoch 69/100\n",
      "202/202 [==============================] - 0s 2ms/step - loss: 0.6053 - tp: 9055.0000 - fp: 3329.0000 - tn: 35362.0000 - fn: 3842.0000 - accuracy: 0.7219 - precision: 0.7312 - recall: 0.7021 - val_loss: 0.6334 - val_tp: 950.0000 - val_fp: 323.0000 - val_tn: 4516.0000 - val_fn: 663.0000 - val_accuracy: 0.7105 - val_precision: 0.7463 - val_recall: 0.5890\n",
      "Epoch 70/100\n",
      "202/202 [==============================] - 0s 2ms/step - loss: 0.6130 - tp: 9062.0000 - fp: 3248.0000 - tn: 35443.0000 - fn: 3835.0000 - accuracy: 0.7247 - precision: 0.7361 - recall: 0.7026 - val_loss: 0.6487 - val_tp: 1168.0000 - val_fp: 417.0000 - val_tn: 4422.0000 - val_fn: 445.0000 - val_accuracy: 0.7322 - val_precision: 0.7369 - val_recall: 0.7241\n",
      "Epoch 71/100\n",
      "202/202 [==============================] - 0s 2ms/step - loss: 0.6528 - tp: 8727.0000 - fp: 3403.0000 - tn: 35288.0000 - fn: 4170.0000 - accuracy: 0.7062 - precision: 0.7195 - recall: 0.6767 - val_loss: 0.6319 - val_tp: 1028.0000 - val_fp: 334.0000 - val_tn: 4505.0000 - val_fn: 585.0000 - val_accuracy: 0.7167 - val_precision: 0.7548 - val_recall: 0.6373\n",
      "Epoch 72/100\n",
      "202/202 [==============================] - 0s 2ms/step - loss: 0.6217 - tp: 8964.0000 - fp: 3194.0000 - tn: 35497.0000 - fn: 3933.0000 - accuracy: 0.7252 - precision: 0.7373 - recall: 0.6950 - val_loss: 0.5837 - val_tp: 1063.0000 - val_fp: 337.0000 - val_tn: 4502.0000 - val_fn: 550.0000 - val_accuracy: 0.7340 - val_precision: 0.7593 - val_recall: 0.6590\n",
      "Epoch 73/100\n",
      "202/202 [==============================] - 0s 2ms/step - loss: 0.6169 - tp: 8961.0000 - fp: 3225.0000 - tn: 35466.0000 - fn: 3936.0000 - accuracy: 0.7213 - precision: 0.7354 - recall: 0.6948 - val_loss: 0.6236 - val_tp: 1139.0000 - val_fp: 417.0000 - val_tn: 4422.0000 - val_fn: 474.0000 - val_accuracy: 0.7272 - val_precision: 0.7320 - val_recall: 0.7061\n",
      "Epoch 74/100\n",
      "202/202 [==============================] - 0s 2ms/step - loss: 0.6171 - tp: 9076.0000 - fp: 3332.0000 - tn: 35359.0000 - fn: 3821.0000 - accuracy: 0.7233 - precision: 0.7315 - recall: 0.7037 - val_loss: 0.6168 - val_tp: 1010.0000 - val_fp: 278.0000 - val_tn: 4561.0000 - val_fn: 603.0000 - val_accuracy: 0.7471 - val_precision: 0.7842 - val_recall: 0.6262\n",
      "Epoch 75/100\n",
      "202/202 [==============================] - 0s 2ms/step - loss: 0.6360 - tp: 8842.0000 - fp: 3342.0000 - tn: 35349.0000 - fn: 4055.0000 - accuracy: 0.7140 - precision: 0.7257 - recall: 0.6856 - val_loss: 0.6599 - val_tp: 1124.0000 - val_fp: 460.0000 - val_tn: 4379.0000 - val_fn: 489.0000 - val_accuracy: 0.7055 - val_precision: 0.7096 - val_recall: 0.6968\n",
      "Epoch 76/100\n",
      "202/202 [==============================] - 0s 2ms/step - loss: 0.6193 - tp: 9016.0000 - fp: 3278.0000 - tn: 35413.0000 - fn: 3881.0000 - accuracy: 0.7231 - precision: 0.7334 - recall: 0.6991 - val_loss: 0.6159 - val_tp: 1146.0000 - val_fp: 440.0000 - val_tn: 4399.0000 - val_fn: 467.0000 - val_accuracy: 0.7148 - val_precision: 0.7226 - val_recall: 0.7105\n",
      "Epoch 77/100\n",
      "202/202 [==============================] - 0s 2ms/step - loss: 0.6276 - tp: 8903.0000 - fp: 3465.0000 - tn: 35226.0000 - fn: 3994.0000 - accuracy: 0.7123 - precision: 0.7198 - recall: 0.6903 - val_loss: 0.6091 - val_tp: 1073.0000 - val_fp: 352.0000 - val_tn: 4487.0000 - val_fn: 540.0000 - val_accuracy: 0.7285 - val_precision: 0.7530 - val_recall: 0.6652\n",
      "Epoch 78/100\n",
      "202/202 [==============================] - 0s 2ms/step - loss: 0.6221 - tp: 9017.0000 - fp: 3406.0000 - tn: 35285.0000 - fn: 3880.0000 - accuracy: 0.7185 - precision: 0.7258 - recall: 0.6992 - val_loss: 0.6450 - val_tp: 1103.0000 - val_fp: 450.0000 - val_tn: 4389.0000 - val_fn: 510.0000 - val_accuracy: 0.6999 - val_precision: 0.7102 - val_recall: 0.6838\n",
      "Epoch 79/100\n",
      "202/202 [==============================] - 0s 2ms/step - loss: 0.6256 - tp: 9005.0000 - fp: 3365.0000 - tn: 35326.0000 - fn: 3892.0000 - accuracy: 0.7202 - precision: 0.7280 - recall: 0.6982 - val_loss: 0.6275 - val_tp: 1168.0000 - val_fp: 403.0000 - val_tn: 4436.0000 - val_fn: 445.0000 - val_accuracy: 0.7378 - val_precision: 0.7435 - val_recall: 0.7241\n",
      "Epoch 80/100\n",
      "202/202 [==============================] - 0s 2ms/step - loss: 0.6236 - tp: 9032.0000 - fp: 3269.0000 - tn: 35422.0000 - fn: 3865.0000 - accuracy: 0.7241 - precision: 0.7342 - recall: 0.7003 - val_loss: 0.6417 - val_tp: 1048.0000 - val_fp: 372.0000 - val_tn: 4467.0000 - val_fn: 565.0000 - val_accuracy: 0.7117 - val_precision: 0.7380 - val_recall: 0.6497\n",
      "Epoch 81/100\n",
      "202/202 [==============================] - 0s 2ms/step - loss: 0.6396 - tp: 8832.0000 - fp: 3407.0000 - tn: 35284.0000 - fn: 4065.0000 - accuracy: 0.7102 - precision: 0.7216 - recall: 0.6848 - val_loss: 0.7073 - val_tp: 986.0000 - val_fp: 368.0000 - val_tn: 4471.0000 - val_fn: 627.0000 - val_accuracy: 0.6807 - val_precision: 0.7282 - val_recall: 0.6113\n",
      "Epoch 82/100\n",
      "202/202 [==============================] - 0s 2ms/step - loss: 0.6435 - tp: 8879.0000 - fp: 3408.0000 - tn: 35283.0000 - fn: 4018.0000 - accuracy: 0.7126 - precision: 0.7226 - recall: 0.6885 - val_loss: 0.6657 - val_tp: 1078.0000 - val_fp: 385.0000 - val_tn: 4454.0000 - val_fn: 535.0000 - val_accuracy: 0.7223 - val_precision: 0.7368 - val_recall: 0.6683\n",
      "Epoch 83/100\n",
      "202/202 [==============================] - 0s 2ms/step - loss: 0.6398 - tp: 8789.0000 - fp: 3307.0000 - tn: 35384.0000 - fn: 4108.0000 - accuracy: 0.7137 - precision: 0.7266 - recall: 0.6815 - val_loss: 0.5967 - val_tp: 1196.0000 - val_fp: 381.0000 - val_tn: 4458.0000 - val_fn: 417.0000 - val_accuracy: 0.7526 - val_precision: 0.7584 - val_recall: 0.7415\n",
      "Epoch 84/100\n",
      "202/202 [==============================] - 0s 2ms/step - loss: 0.6695 - tp: 8920.0000 - fp: 3296.0000 - tn: 35395.0000 - fn: 3977.0000 - accuracy: 0.7186 - precision: 0.7302 - recall: 0.6916 - val_loss: 0.6552 - val_tp: 971.0000 - val_fp: 372.0000 - val_tn: 4467.0000 - val_fn: 642.0000 - val_accuracy: 0.6968 - val_precision: 0.7230 - val_recall: 0.6020\n",
      "Epoch 85/100\n",
      "202/202 [==============================] - 0s 1ms/step - loss: 0.6208 - tp: 8930.0000 - fp: 3311.0000 - tn: 35380.0000 - fn: 3967.0000 - accuracy: 0.7190 - precision: 0.7295 - recall: 0.6924 - val_loss: 0.6039 - val_tp: 1171.0000 - val_fp: 417.0000 - val_tn: 4422.0000 - val_fn: 442.0000 - val_accuracy: 0.7353 - val_precision: 0.7374 - val_recall: 0.7260\n",
      "Epoch 86/100\n",
      "202/202 [==============================] - 0s 2ms/step - loss: 0.6352 - tp: 8819.0000 - fp: 3304.0000 - tn: 35387.0000 - fn: 4078.0000 - accuracy: 0.7134 - precision: 0.7275 - recall: 0.6838 - val_loss: 0.6184 - val_tp: 1115.0000 - val_fp: 407.0000 - val_tn: 4432.0000 - val_fn: 498.0000 - val_accuracy: 0.7161 - val_precision: 0.7326 - val_recall: 0.6913\n",
      "Epoch 87/100\n"
     ]
    },
    {
     "name": "stdout",
     "output_type": "stream",
     "text": [
      "202/202 [==============================] - 0s 2ms/step - loss: 0.6184 - tp: 8995.0000 - fp: 3286.0000 - tn: 35405.0000 - fn: 3902.0000 - accuracy: 0.7201 - precision: 0.7324 - recall: 0.6974 - val_loss: 0.6261 - val_tp: 1090.0000 - val_fp: 372.0000 - val_tn: 4467.0000 - val_fn: 523.0000 - val_accuracy: 0.7328 - val_precision: 0.7456 - val_recall: 0.6758\n",
      "Epoch 88/100\n",
      "202/202 [==============================] - 0s 2ms/step - loss: 0.6358 - tp: 9006.0000 - fp: 3329.0000 - tn: 35362.0000 - fn: 3891.0000 - accuracy: 0.7216 - precision: 0.7301 - recall: 0.6983 - val_loss: 0.6314 - val_tp: 1156.0000 - val_fp: 407.0000 - val_tn: 4432.0000 - val_fn: 457.0000 - val_accuracy: 0.7309 - val_precision: 0.7396 - val_recall: 0.7167\n",
      "Epoch 89/100\n",
      "202/202 [==============================] - 0s 2ms/step - loss: 0.6378 - tp: 8815.0000 - fp: 3452.0000 - tn: 35239.0000 - fn: 4082.0000 - accuracy: 0.7088 - precision: 0.7186 - recall: 0.6835 - val_loss: 0.6571 - val_tp: 1031.0000 - val_fp: 351.0000 - val_tn: 4488.0000 - val_fn: 582.0000 - val_accuracy: 0.7080 - val_precision: 0.7460 - val_recall: 0.6392\n",
      "Epoch 90/100\n",
      "202/202 [==============================] - 0s 2ms/step - loss: 0.6192 - tp: 8919.0000 - fp: 3233.0000 - tn: 35458.0000 - fn: 3978.0000 - accuracy: 0.7213 - precision: 0.7340 - recall: 0.6916 - val_loss: 0.6800 - val_tp: 1103.0000 - val_fp: 459.0000 - val_tn: 4380.0000 - val_fn: 510.0000 - val_accuracy: 0.6987 - val_precision: 0.7061 - val_recall: 0.6838\n",
      "Epoch 91/100\n",
      "202/202 [==============================] - 0s 2ms/step - loss: 0.6291 - tp: 8945.0000 - fp: 3279.0000 - tn: 35412.0000 - fn: 3952.0000 - accuracy: 0.7203 - precision: 0.7318 - recall: 0.6936 - val_loss: 0.6913 - val_tp: 1024.0000 - val_fp: 449.0000 - val_tn: 4390.0000 - val_fn: 589.0000 - val_accuracy: 0.6801 - val_precision: 0.6952 - val_recall: 0.6348\n",
      "Epoch 92/100\n",
      "202/202 [==============================] - 0s 2ms/step - loss: 0.6275 - tp: 9011.0000 - fp: 3404.0000 - tn: 35287.0000 - fn: 3886.0000 - accuracy: 0.7160 - precision: 0.7258 - recall: 0.6987 - val_loss: 0.6360 - val_tp: 1134.0000 - val_fp: 445.0000 - val_tn: 4394.0000 - val_fn: 479.0000 - val_accuracy: 0.7123 - val_precision: 0.7182 - val_recall: 0.7030\n",
      "Epoch 93/100\n",
      "202/202 [==============================] - 0s 2ms/step - loss: 0.6345 - tp: 8972.0000 - fp: 3324.0000 - tn: 35367.0000 - fn: 3925.0000 - accuracy: 0.7192 - precision: 0.7297 - recall: 0.6957 - val_loss: 0.5894 - val_tp: 1172.0000 - val_fp: 399.0000 - val_tn: 4440.0000 - val_fn: 441.0000 - val_accuracy: 0.7378 - val_precision: 0.7460 - val_recall: 0.7266\n",
      "Epoch 94/100\n",
      "202/202 [==============================] - 0s 2ms/step - loss: 0.6397 - tp: 8894.0000 - fp: 3402.0000 - tn: 35289.0000 - fn: 4003.0000 - accuracy: 0.7124 - precision: 0.7233 - recall: 0.6896 - val_loss: 0.6242 - val_tp: 1015.0000 - val_fp: 313.0000 - val_tn: 4526.0000 - val_fn: 598.0000 - val_accuracy: 0.7161 - val_precision: 0.7643 - val_recall: 0.6293\n",
      "Epoch 95/100\n",
      "202/202 [==============================] - 0s 2ms/step - loss: 0.6211 - tp: 9062.0000 - fp: 3234.0000 - tn: 35457.0000 - fn: 3835.0000 - accuracy: 0.7261 - precision: 0.7370 - recall: 0.7026 - val_loss: 0.5896 - val_tp: 1182.0000 - val_fp: 420.0000 - val_tn: 4419.0000 - val_fn: 431.0000 - val_accuracy: 0.7353 - val_precision: 0.7378 - val_recall: 0.7328\n",
      "Epoch 96/100\n",
      "202/202 [==============================] - 0s 2ms/step - loss: 0.6129 - tp: 9121.0000 - fp: 3304.0000 - tn: 35387.0000 - fn: 3776.0000 - accuracy: 0.7252 - precision: 0.7341 - recall: 0.7072 - val_loss: 0.6172 - val_tp: 1063.0000 - val_fp: 355.0000 - val_tn: 4484.0000 - val_fn: 550.0000 - val_accuracy: 0.7229 - val_precision: 0.7496 - val_recall: 0.6590\n",
      "Epoch 97/100\n",
      "202/202 [==============================] - 0s 2ms/step - loss: 0.6457 - tp: 8794.0000 - fp: 3388.0000 - tn: 35303.0000 - fn: 4103.0000 - accuracy: 0.7102 - precision: 0.7219 - recall: 0.6819 - val_loss: 0.5760 - val_tp: 1125.0000 - val_fp: 369.0000 - val_tn: 4470.0000 - val_fn: 488.0000 - val_accuracy: 0.7396 - val_precision: 0.7530 - val_recall: 0.6975\n",
      "Epoch 98/100\n",
      "202/202 [==============================] - 0s 2ms/step - loss: 0.6565 - tp: 8778.0000 - fp: 3451.0000 - tn: 35240.0000 - fn: 4119.0000 - accuracy: 0.7075 - precision: 0.7178 - recall: 0.6806 - val_loss: 0.5881 - val_tp: 1147.0000 - val_fp: 432.0000 - val_tn: 4407.0000 - val_fn: 466.0000 - val_accuracy: 0.7204 - val_precision: 0.7264 - val_recall: 0.7111\n",
      "Epoch 99/100\n",
      "202/202 [==============================] - 0s 1ms/step - loss: 0.6444 - tp: 8811.0000 - fp: 3426.0000 - tn: 35265.0000 - fn: 4086.0000 - accuracy: 0.7064 - precision: 0.7200 - recall: 0.6832 - val_loss: 0.5697 - val_tp: 1181.0000 - val_fp: 365.0000 - val_tn: 4474.0000 - val_fn: 432.0000 - val_accuracy: 0.7539 - val_precision: 0.7639 - val_recall: 0.7322\n",
      "Epoch 100/100\n",
      "202/202 [==============================] - 0s 2ms/step - loss: 0.6258 - tp: 8941.0000 - fp: 3386.0000 - tn: 35305.0000 - fn: 3956.0000 - accuracy: 0.7149 - precision: 0.7253 - recall: 0.6933 - val_loss: 0.5968 - val_tp: 1164.0000 - val_fp: 399.0000 - val_tn: 4440.0000 - val_fn: 449.0000 - val_accuracy: 0.7365 - val_precision: 0.7447 - val_recall: 0.7216\n"
     ]
    }
   ],
   "source": [
    "  \n",
    "first_decay_steps = 1000 \n",
    "initial_learning_rate = 0.3\n",
    "#lr_decayed_fn = (   tf.keras.optimizers.schedules.CosineDecayRestarts(       initial_learning_rate,       first_decay_steps))\n",
    "optimizer = keras.optimizers.Adam(learning_rate=initial_learning_rate) \n",
    "modelo = build_model(1, [100], (17,), \"relu\", optimizer, \"categorical_crossentropy\", METRICS, \"softmax\", 4)\n",
    "\n",
    "BATCH_SIZE=64\n",
    "EPOCHS=100\n",
    "\n",
    "modelo.summary()\n",
    "results_fit= modelo.fit(X_train,y_train,epochs=EPOCHS,validation_data=(X_test,y_test), batch_size=BATCH_SIZE)\n",
    "\n"
   ]
  },
  {
   "cell_type": "code",
   "execution_count": 161,
   "metadata": {},
   "outputs": [
    {
     "name": "stdout",
     "output_type": "stream",
     "text": [
      "202/202 [==============================] - 0s 1ms/step - loss: 0.5845 - tp: 9307.0000 - fp: 3178.0000 - tn: 35513.0000 - fn: 3590.0000 - accuracy: 0.7370 - precision: 0.7455 - recall: 0.7216\n"
     ]
    }
   ],
   "source": [
    "results_evaluate = modelo.evaluate(X_train,y_train,batch_size=BATCH_SIZE)"
   ]
  },
  {
   "cell_type": "code",
   "execution_count": 162,
   "metadata": {},
   "outputs": [
    {
     "name": "stdout",
     "output_type": "stream",
     "text": [
      "202/202 [==============================] - 0s 908us/step\n",
      "26/26 [==============================] - 0s 1000us/step\n",
      "[[5.81342652e-02 8.37795138e-01 1.04022332e-01 4.82918658e-05]\n",
      " [9.99989390e-01 1.06425005e-05 1.32533026e-10 0.00000000e+00]\n",
      " [1.03619976e-15 3.84462510e-06 5.76225854e-02 9.42373574e-01]\n",
      " ...\n",
      " [2.62188764e-22 2.93666460e-08 5.12868026e-03 9.94871378e-01]\n",
      " [1.28420797e-04 1.06302919e-02 8.94250393e-01 9.49908793e-02]\n",
      " [3.05705786e-01 5.76660752e-01 1.17558479e-01 7.49739775e-05]]\n",
      "[[1.8378446e-03 5.5072229e-02 9.1841120e-01 2.4678718e-02]\n",
      " [4.6923123e-08 7.5936571e-02 8.9480788e-01 2.9255534e-02]\n",
      " [8.7724766e-21 7.6589870e-08 8.3922297e-03 9.9160767e-01]\n",
      " ...\n",
      " [1.2586261e-04 4.0141121e-01 5.9576684e-01 2.6960627e-03]\n",
      " [1.5737801e-12 4.7639082e-06 7.4670866e-02 9.2532438e-01]\n",
      " [3.9002073e-01 5.4202503e-01 6.7925610e-02 2.8655255e-05]]\n"
     ]
    }
   ],
   "source": [
    "train_predictions_baseline = modelo.predict(X_train, batch_size=BATCH_SIZE)\n",
    "test_predictions_baseline = modelo.predict(X_test, batch_size=BATCH_SIZE)\n",
    "print(train_predictions_baseline)\n",
    "print(test_predictions_baseline)"
   ]
  },
  {
   "cell_type": "code",
   "execution_count": 163,
   "metadata": {},
   "outputs": [
    {
     "name": "stdout",
     "output_type": "stream",
     "text": [
      "loss :  0.5845049023628235\n",
      "tp :  9307.0\n",
      "fp :  3178.0\n",
      "tn :  35513.0\n",
      "fn :  3590.0\n",
      "accuracy :  0.7369930744171143\n",
      "precision :  0.7454545497894287\n",
      "recall :  0.7216407060623169\n",
      "\n"
     ]
    },
    {
     "data": {
      "image/png": "[encoded data removed]",
      "text/plain": [
       "<Figure size 432x288 with 4 Axes>"
      ]
     },
     "metadata": {
      "needs_background": "light"
     },
     "output_type": "display_data"
    },
    {
     "data": {
      "image/png": "[encoded data removed]",
      "text/plain": [
       "<Figure size 360x360 with 2 Axes>"
      ]
     },
     "metadata": {
      "needs_background": "light"
     },
     "output_type": "display_data"
    }
   ],
   "source": [
    "for name, value in zip(modelo.metrics_names, results_evaluate):\n",
    "  print(name, ': ', value)\n",
    "print()\n",
    "\n",
    "plot_metrics(results_fit)\n",
    "\n",
    "plot_cm(np.argmax(y_test.to_numpy(),axis=1), test_predictions_baseline.argmax(axis=1))"
   ]
  },
  {
   "cell_type": "code",
   "execution_count": 132,
   "metadata": {},
   "outputs": [],
   "source": [
    "#y_pred = test_predictions_baseline.argmax(axis=1)\n",
    "#np.argmax(np.asarray(y_test),axis=1)\n",
    "#print(classification_report(y_pred, np.argmax(np.asarray(y_test),axis=1), digits=4))"
   ]
  },
  {
   "cell_type": "code",
   "execution_count": 81,
   "metadata": {},
   "outputs": [
    {
     "ename": "ValueError",
     "evalue": "Classification metrics can't handle a mix of continuous-multioutput and multilabel-indicator targets",
     "output_type": "error",
     "traceback": [
      "\u001b[1;31m---------------------------------------------------------------------------\u001b[0m",
      "\u001b[1;31mValueError\u001b[0m                                Traceback (most recent call last)",
      "\u001b[1;32m~\\AppData\\Local\\Temp/ipykernel_22300/81311799.py\u001b[0m in \u001b[0;36m<module>\u001b[1;34m\u001b[0m\n\u001b[1;32m----> 1\u001b[1;33m \u001b[0mprint\u001b[0m\u001b[1;33m(\u001b[0m\u001b[0mclassification_report\u001b[0m\u001b[1;33m(\u001b[0m\u001b[0mtest_predictions_baseline\u001b[0m\u001b[1;33m,\u001b[0m\u001b[0my_test\u001b[0m\u001b[1;33m)\u001b[0m\u001b[1;33m)\u001b[0m\u001b[1;33m\u001b[0m\u001b[1;33m\u001b[0m\u001b[0m\n\u001b[0m\u001b[0;32m      2\u001b[0m \u001b[1;31m#plt.plot(results_fit.history['val_categorical_accuracy'])\u001b[0m\u001b[1;33m\u001b[0m\u001b[1;33m\u001b[0m\u001b[0m\n\u001b[0;32m      3\u001b[0m \u001b[1;31m#plt.plot(results_fit.history['categorical_accuracy'])\u001b[0m\u001b[1;33m\u001b[0m\u001b[1;33m\u001b[0m\u001b[0m\n",
      "\u001b[1;32m~\\AppData\\Local\\Packages\\PythonSoftwareFoundation.Python.3.9_qbz5n2kfra8p0\\LocalCache\\local-packages\\Python39\\site-packages\\sklearn\\metrics\\_classification.py\u001b[0m in \u001b[0;36mclassification_report\u001b[1;34m(y_true, y_pred, labels, target_names, sample_weight, digits, output_dict, zero_division)\u001b[0m\n\u001b[0;32m   2130\u001b[0m     \"\"\"\n\u001b[0;32m   2131\u001b[0m \u001b[1;33m\u001b[0m\u001b[0m\n\u001b[1;32m-> 2132\u001b[1;33m     \u001b[0my_type\u001b[0m\u001b[1;33m,\u001b[0m \u001b[0my_true\u001b[0m\u001b[1;33m,\u001b[0m \u001b[0my_pred\u001b[0m \u001b[1;33m=\u001b[0m \u001b[0m_check_targets\u001b[0m\u001b[1;33m(\u001b[0m\u001b[0my_true\u001b[0m\u001b[1;33m,\u001b[0m \u001b[0my_pred\u001b[0m\u001b[1;33m)\u001b[0m\u001b[1;33m\u001b[0m\u001b[1;33m\u001b[0m\u001b[0m\n\u001b[0m\u001b[0;32m   2133\u001b[0m \u001b[1;33m\u001b[0m\u001b[0m\n\u001b[0;32m   2134\u001b[0m     \u001b[1;32mif\u001b[0m \u001b[0mlabels\u001b[0m \u001b[1;32mis\u001b[0m \u001b[1;32mNone\u001b[0m\u001b[1;33m:\u001b[0m\u001b[1;33m\u001b[0m\u001b[1;33m\u001b[0m\u001b[0m\n",
      "\u001b[1;32m~\\AppData\\Local\\Packages\\PythonSoftwareFoundation.Python.3.9_qbz5n2kfra8p0\\LocalCache\\local-packages\\Python39\\site-packages\\sklearn\\metrics\\_classification.py\u001b[0m in \u001b[0;36m_check_targets\u001b[1;34m(y_true, y_pred)\u001b[0m\n\u001b[0;32m     91\u001b[0m \u001b[1;33m\u001b[0m\u001b[0m\n\u001b[0;32m     92\u001b[0m     \u001b[1;32mif\u001b[0m \u001b[0mlen\u001b[0m\u001b[1;33m(\u001b[0m\u001b[0my_type\u001b[0m\u001b[1;33m)\u001b[0m \u001b[1;33m>\u001b[0m \u001b[1;36m1\u001b[0m\u001b[1;33m:\u001b[0m\u001b[1;33m\u001b[0m\u001b[1;33m\u001b[0m\u001b[0m\n\u001b[1;32m---> 93\u001b[1;33m         raise ValueError(\n\u001b[0m\u001b[0;32m     94\u001b[0m             \"Classification metrics can't handle a mix of {0} and {1} targets\".format(\n\u001b[0;32m     95\u001b[0m                 \u001b[0mtype_true\u001b[0m\u001b[1;33m,\u001b[0m \u001b[0mtype_pred\u001b[0m\u001b[1;33m\u001b[0m\u001b[1;33m\u001b[0m\u001b[0m\n",
      "\u001b[1;31mValueError\u001b[0m: Classification metrics can't handle a mix of continuous-multioutput and multilabel-indicator targets"
     ]
    }
   ],
   "source": [
    "\n",
    "#plt.plot(results_fit.history['val_categorical_accuracy'])\n",
    "#plt.plot(results_fit.history['categorical_accuracy'])"
   ]
  },
  {
   "cell_type": "code",
   "execution_count": null,
   "metadata": {},
   "outputs": [],
   "source": []
  }
 ],
 "metadata": {
  "kernelspec": {
   "display_name": "Python 3 (ipykernel)",
   "language": "python",
   "name": "python3"
  },
  "language_info": {
   "codemirror_mode": {
    "name": "ipython",
    "version": 3
   },
   "file_extension": ".py",
   "mimetype": "text/x-python",
   "name": "python",
   "nbconvert_exporter": "python",
   "pygments_lexer": "ipython3",
   "version": "3.9.13"
  },
  "vscode": {
   "interpreter": {
    "hash": "8863d0c6094564aaeb41a5a3a6a2d4ce9faecc1a6add5ccddbb72eef631d0103"
   }
  }
 },
 "nbformat": 4,
 "nbformat_minor": 2
}
