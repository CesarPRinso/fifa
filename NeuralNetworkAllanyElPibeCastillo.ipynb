{
 "cells": [
  {
   "cell_type": "code",
   "execution_count": 6,
   "metadata": {},
   "outputs": [],
   "source": [
    "import pandas as pd\n",
    "import tensorflow as tf\n",
    "from tensorflow import keras\n",
    "import matplotlib.pyplot as plt\n",
    "import random\n",
    "import numpy as np\n",
    "import seaborn as sns\n",
    "import math\n",
    "import os\n",
    "import tempfile\n",
    "import matplotlib as mpl\n",
    "from sklearn.metrics import confusion_matrix\n",
    "\n"
   ]
  },
  {
   "cell_type": "code",
   "execution_count": null,
   "metadata": {},
   "outputs": [],
   "source": []
  },
  {
   "cell_type": "code",
   "execution_count": 7,
   "metadata": {},
   "outputs": [],
   "source": [
    "mpl.rcParams['figure.figsize'] = (12, 10)\n",
    "colors = plt.rcParams['axes.prop_cycle'].by_key()['color']"
   ]
  },
  {
   "cell_type": "code",
   "execution_count": 8,
   "metadata": {},
   "outputs": [],
   "source": [
    "#Karpathy 1. fix random seed\n",
    "tf.random.set_seed(42)\n",
    "random.seed(42)\n",
    "np.random.seed(42)"
   ]
  },
  {
   "cell_type": "code",
   "execution_count": 9,
   "metadata": {},
   "outputs": [],
   "source": [
    "ATT_FILE_NAME = \"FootballPlayerPreparedCleanAttributes.csv\"\n",
    "ONE_HOT_ENCODED_CLASSES_FILE_NAME = \"FootballPlayerOneHotEncodedClasses.csv\""
   ]
  },
  {
   "cell_type": "code",
   "execution_count": 10,
   "metadata": {},
   "outputs": [],
   "source": [
    "att = pd.read_csv(ATT_FILE_NAME)\n",
    "target = pd.read_csv(ONE_HOT_ENCODED_CLASSES_FILE_NAME)"
   ]
  },
  {
   "cell_type": "code",
   "execution_count": 11,
   "metadata": {},
   "outputs": [],
   "source": [
    "from sklearn.model_selection import train_test_split"
   ]
  },
  {
   "cell_type": "code",
   "execution_count": 12,
   "metadata": {},
   "outputs": [
    {
     "data": {
      "text/html": [
       "<div>\n",
       "<style scoped>\n",
       "    .dataframe tbody tr th:only-of-type {\n",
       "        vertical-align: middle;\n",
       "    }\n",
       "\n",
       "    .dataframe tbody tr th {\n",
       "        vertical-align: top;\n",
       "    }\n",
       "\n",
       "    .dataframe thead th {\n",
       "        text-align: right;\n",
       "    }\n",
       "</style>\n",
       "<table border=\"1\" class=\"dataframe\">\n",
       "  <thead>\n",
       "    <tr style=\"text-align: right;\">\n",
       "      <th></th>\n",
       "      <th>Crossing</th>\n",
       "      <th>HeadingAccuracy</th>\n",
       "      <th>ShortPassing</th>\n",
       "      <th>Volleys</th>\n",
       "      <th>Dribbling</th>\n",
       "      <th>Curve</th>\n",
       "      <th>FKAccuracy</th>\n",
       "      <th>LongPassing</th>\n",
       "      <th>BallControl</th>\n",
       "      <th>Reactions</th>\n",
       "      <th>ShotPower</th>\n",
       "      <th>Stamina</th>\n",
       "      <th>LongShots</th>\n",
       "      <th>Aggression</th>\n",
       "      <th>Positioning</th>\n",
       "      <th>Vision</th>\n",
       "      <th>Composure</th>\n",
       "    </tr>\n",
       "  </thead>\n",
       "  <tbody>\n",
       "    <tr>\n",
       "      <th>count</th>\n",
       "      <td>16122.000000</td>\n",
       "      <td>16122.000000</td>\n",
       "      <td>16122.000000</td>\n",
       "      <td>16122.000000</td>\n",
       "      <td>16122.000000</td>\n",
       "      <td>16122.000000</td>\n",
       "      <td>16122.000000</td>\n",
       "      <td>16122.000000</td>\n",
       "      <td>16122.000000</td>\n",
       "      <td>16122.000000</td>\n",
       "      <td>16122.000000</td>\n",
       "      <td>16122.000000</td>\n",
       "      <td>16122.000000</td>\n",
       "      <td>16122.000000</td>\n",
       "      <td>16122.000000</td>\n",
       "      <td>16122.000000</td>\n",
       "      <td>16122.000000</td>\n",
       "    </tr>\n",
       "    <tr>\n",
       "      <th>mean</th>\n",
       "      <td>0.053537</td>\n",
       "      <td>0.064942</td>\n",
       "      <td>0.168294</td>\n",
       "      <td>-0.081373</td>\n",
       "      <td>0.122654</td>\n",
       "      <td>-0.030012</td>\n",
       "      <td>-0.132537</td>\n",
       "      <td>0.002751</td>\n",
       "      <td>0.076091</td>\n",
       "      <td>0.098800</td>\n",
       "      <td>0.125965</td>\n",
       "      <td>0.169170</td>\n",
       "      <td>-0.025506</td>\n",
       "      <td>0.136145</td>\n",
       "      <td>0.043417</td>\n",
       "      <td>0.060219</td>\n",
       "      <td>0.036497</td>\n",
       "    </tr>\n",
       "    <tr>\n",
       "      <th>std</th>\n",
       "      <td>0.344606</td>\n",
       "      <td>0.293820</td>\n",
       "      <td>0.268085</td>\n",
       "      <td>0.369549</td>\n",
       "      <td>0.301492</td>\n",
       "      <td>0.364944</td>\n",
       "      <td>0.358826</td>\n",
       "      <td>0.334822</td>\n",
       "      <td>0.282066</td>\n",
       "      <td>0.233806</td>\n",
       "      <td>0.326638</td>\n",
       "      <td>0.324097</td>\n",
       "      <td>0.379027</td>\n",
       "      <td>0.352347</td>\n",
       "      <td>0.349409</td>\n",
       "      <td>0.314939</td>\n",
       "      <td>0.274291</td>\n",
       "    </tr>\n",
       "    <tr>\n",
       "      <th>min</th>\n",
       "      <td>-1.000000</td>\n",
       "      <td>-1.000000</td>\n",
       "      <td>-1.000000</td>\n",
       "      <td>-1.000000</td>\n",
       "      <td>-1.000000</td>\n",
       "      <td>-1.000000</td>\n",
       "      <td>-1.000000</td>\n",
       "      <td>-1.000000</td>\n",
       "      <td>-1.000000</td>\n",
       "      <td>-1.000000</td>\n",
       "      <td>-1.000000</td>\n",
       "      <td>-1.000000</td>\n",
       "      <td>-1.000000</td>\n",
       "      <td>-1.000000</td>\n",
       "      <td>-1.000000</td>\n",
       "      <td>-1.000000</td>\n",
       "      <td>-1.000000</td>\n",
       "    </tr>\n",
       "    <tr>\n",
       "      <th>25%</th>\n",
       "      <td>-0.195122</td>\n",
       "      <td>-0.139241</td>\n",
       "      <td>0.013699</td>\n",
       "      <td>-0.375000</td>\n",
       "      <td>-0.012048</td>\n",
       "      <td>-0.325301</td>\n",
       "      <td>-0.428571</td>\n",
       "      <td>-0.189189</td>\n",
       "      <td>-0.070423</td>\n",
       "      <td>-0.066667</td>\n",
       "      <td>-0.086420</td>\n",
       "      <td>-0.014493</td>\n",
       "      <td>-0.301205</td>\n",
       "      <td>-0.097561</td>\n",
       "      <td>-0.166667</td>\n",
       "      <td>-0.146341</td>\n",
       "      <td>-0.162162</td>\n",
       "    </tr>\n",
       "    <tr>\n",
       "      <th>50%</th>\n",
       "      <td>0.097561</td>\n",
       "      <td>0.088608</td>\n",
       "      <td>0.205479</td>\n",
       "      <td>-0.075000</td>\n",
       "      <td>0.180723</td>\n",
       "      <td>-0.012048</td>\n",
       "      <td>-0.190476</td>\n",
       "      <td>0.054054</td>\n",
       "      <td>0.098592</td>\n",
       "      <td>0.093333</td>\n",
       "      <td>0.160494</td>\n",
       "      <td>0.188406</td>\n",
       "      <td>0.036145</td>\n",
       "      <td>0.170732</td>\n",
       "      <td>0.095238</td>\n",
       "      <td>0.097561</td>\n",
       "      <td>0.054054</td>\n",
       "    </tr>\n",
       "    <tr>\n",
       "      <th>75%</th>\n",
       "      <td>0.317073</td>\n",
       "      <td>0.265823</td>\n",
       "      <td>0.342466</td>\n",
       "      <td>0.200000</td>\n",
       "      <td>0.325301</td>\n",
       "      <td>0.253012</td>\n",
       "      <td>0.142857</td>\n",
       "      <td>0.243243</td>\n",
       "      <td>0.267606</td>\n",
       "      <td>0.253333</td>\n",
       "      <td>0.358025</td>\n",
       "      <td>0.391304</td>\n",
       "      <td>0.277108</td>\n",
       "      <td>0.390244</td>\n",
       "      <td>0.285714</td>\n",
       "      <td>0.292683</td>\n",
       "      <td>0.243243</td>\n",
       "    </tr>\n",
       "    <tr>\n",
       "      <th>max</th>\n",
       "      <td>1.000000</td>\n",
       "      <td>1.000000</td>\n",
       "      <td>1.000000</td>\n",
       "      <td>1.000000</td>\n",
       "      <td>1.000000</td>\n",
       "      <td>1.000000</td>\n",
       "      <td>1.000000</td>\n",
       "      <td>1.000000</td>\n",
       "      <td>1.000000</td>\n",
       "      <td>1.000000</td>\n",
       "      <td>1.000000</td>\n",
       "      <td>1.000000</td>\n",
       "      <td>1.000000</td>\n",
       "      <td>1.000000</td>\n",
       "      <td>1.000000</td>\n",
       "      <td>1.000000</td>\n",
       "      <td>1.000000</td>\n",
       "    </tr>\n",
       "  </tbody>\n",
       "</table>\n",
       "</div>"
      ],
      "text/plain": [
       "           Crossing  HeadingAccuracy  ShortPassing       Volleys  \\\n",
       "count  16122.000000     16122.000000  16122.000000  16122.000000   \n",
       "mean       0.053537         0.064942      0.168294     -0.081373   \n",
       "std        0.344606         0.293820      0.268085      0.369549   \n",
       "min       -1.000000        -1.000000     -1.000000     -1.000000   \n",
       "25%       -0.195122        -0.139241      0.013699     -0.375000   \n",
       "50%        0.097561         0.088608      0.205479     -0.075000   \n",
       "75%        0.317073         0.265823      0.342466      0.200000   \n",
       "max        1.000000         1.000000      1.000000      1.000000   \n",
       "\n",
       "          Dribbling         Curve    FKAccuracy   LongPassing   BallControl  \\\n",
       "count  16122.000000  16122.000000  16122.000000  16122.000000  16122.000000   \n",
       "mean       0.122654     -0.030012     -0.132537      0.002751      0.076091   \n",
       "std        0.301492      0.364944      0.358826      0.334822      0.282066   \n",
       "min       -1.000000     -1.000000     -1.000000     -1.000000     -1.000000   \n",
       "25%       -0.012048     -0.325301     -0.428571     -0.189189     -0.070423   \n",
       "50%        0.180723     -0.012048     -0.190476      0.054054      0.098592   \n",
       "75%        0.325301      0.253012      0.142857      0.243243      0.267606   \n",
       "max        1.000000      1.000000      1.000000      1.000000      1.000000   \n",
       "\n",
       "          Reactions     ShotPower       Stamina     LongShots    Aggression  \\\n",
       "count  16122.000000  16122.000000  16122.000000  16122.000000  16122.000000   \n",
       "mean       0.098800      0.125965      0.169170     -0.025506      0.136145   \n",
       "std        0.233806      0.326638      0.324097      0.379027      0.352347   \n",
       "min       -1.000000     -1.000000     -1.000000     -1.000000     -1.000000   \n",
       "25%       -0.066667     -0.086420     -0.014493     -0.301205     -0.097561   \n",
       "50%        0.093333      0.160494      0.188406      0.036145      0.170732   \n",
       "75%        0.253333      0.358025      0.391304      0.277108      0.390244   \n",
       "max        1.000000      1.000000      1.000000      1.000000      1.000000   \n",
       "\n",
       "        Positioning        Vision     Composure  \n",
       "count  16122.000000  16122.000000  16122.000000  \n",
       "mean       0.043417      0.060219      0.036497  \n",
       "std        0.349409      0.314939      0.274291  \n",
       "min       -1.000000     -1.000000     -1.000000  \n",
       "25%       -0.166667     -0.146341     -0.162162  \n",
       "50%        0.095238      0.097561      0.054054  \n",
       "75%        0.285714      0.292683      0.243243  \n",
       "max        1.000000      1.000000      1.000000  "
      ]
     },
     "execution_count": 12,
     "metadata": {},
     "output_type": "execute_result"
    }
   ],
   "source": [
    "att.describe()"
   ]
  },
  {
   "cell_type": "code",
   "execution_count": 13,
   "metadata": {},
   "outputs": [
    {
     "data": {
      "text/html": [
       "<div>\n",
       "<style scoped>\n",
       "    .dataframe tbody tr th:only-of-type {\n",
       "        vertical-align: middle;\n",
       "    }\n",
       "\n",
       "    .dataframe tbody tr th {\n",
       "        vertical-align: top;\n",
       "    }\n",
       "\n",
       "    .dataframe thead th {\n",
       "        text-align: right;\n",
       "    }\n",
       "</style>\n",
       "<table border=\"1\" class=\"dataframe\">\n",
       "  <thead>\n",
       "    <tr style=\"text-align: right;\">\n",
       "      <th></th>\n",
       "      <th>Poor:[46.0, 62.0]</th>\n",
       "      <th>Interm:[63.0, 66.0]</th>\n",
       "      <th>Good:[67.0, 71.0]</th>\n",
       "      <th>Excel:[72.0, 94.0]</th>\n",
       "    </tr>\n",
       "  </thead>\n",
       "  <tbody>\n",
       "    <tr>\n",
       "      <th>0</th>\n",
       "      <td>0.0</td>\n",
       "      <td>1.0</td>\n",
       "      <td>0.0</td>\n",
       "      <td>0.0</td>\n",
       "    </tr>\n",
       "    <tr>\n",
       "      <th>1</th>\n",
       "      <td>0.0</td>\n",
       "      <td>0.0</td>\n",
       "      <td>1.0</td>\n",
       "      <td>0.0</td>\n",
       "    </tr>\n",
       "    <tr>\n",
       "      <th>2</th>\n",
       "      <td>1.0</td>\n",
       "      <td>0.0</td>\n",
       "      <td>0.0</td>\n",
       "      <td>0.0</td>\n",
       "    </tr>\n",
       "    <tr>\n",
       "      <th>3</th>\n",
       "      <td>0.0</td>\n",
       "      <td>0.0</td>\n",
       "      <td>1.0</td>\n",
       "      <td>0.0</td>\n",
       "    </tr>\n",
       "    <tr>\n",
       "      <th>4</th>\n",
       "      <td>0.0</td>\n",
       "      <td>1.0</td>\n",
       "      <td>0.0</td>\n",
       "      <td>0.0</td>\n",
       "    </tr>\n",
       "  </tbody>\n",
       "</table>\n",
       "</div>"
      ],
      "text/plain": [
       "   Poor:[46.0, 62.0]  Interm:[63.0, 66.0]  Good:[67.0, 71.0]  \\\n",
       "0                0.0                  1.0                0.0   \n",
       "1                0.0                  0.0                1.0   \n",
       "2                1.0                  0.0                0.0   \n",
       "3                0.0                  0.0                1.0   \n",
       "4                0.0                  1.0                0.0   \n",
       "\n",
       "   Excel:[72.0, 94.0]  \n",
       "0                 0.0  \n",
       "1                 0.0  \n",
       "2                 0.0  \n",
       "3                 0.0  \n",
       "4                 0.0  "
      ]
     },
     "execution_count": 13,
     "metadata": {},
     "output_type": "execute_result"
    }
   ],
   "source": [
    "target.head()"
   ]
  },
  {
   "cell_type": "code",
   "execution_count": 14,
   "metadata": {},
   "outputs": [],
   "source": [
    "clases = np.argmax(target.to_numpy(),axis=1)"
   ]
  },
  {
   "cell_type": "code",
   "execution_count": 15,
   "metadata": {},
   "outputs": [
    {
     "data": {
      "text/plain": [
       "array([4296, 3868, 4353, 3605], dtype=int64)"
      ]
     },
     "execution_count": 15,
     "metadata": {},
     "output_type": "execute_result"
    }
   ],
   "source": [
    "np.bincount(clases) # contar cuantos elemntos tengo de cada clase en el conjunto de datos"
   ]
  },
  {
   "cell_type": "code",
   "execution_count": 16,
   "metadata": {},
   "outputs": [
    {
     "name": "stdout",
     "output_type": "stream",
     "text": [
      "Total: 16122. C1 4296, c2 3868, c3 4353, c4 3605\n"
     ]
    }
   ],
   "source": [
    "c1, c2,c3,c4= np.bincount(clases)\n",
    "total = c1+c2+c3+c4\n",
    "print(f\"Total: {total}. C1 {c1}, c2 {c2}, c3 {c3}, c4 {c4}\") #lo mismo de arriba"
   ]
  },
  {
   "cell_type": "code",
   "execution_count": null,
   "metadata": {},
   "outputs": [],
   "source": []
  },
  {
   "cell_type": "code",
   "execution_count": 17,
   "metadata": {},
   "outputs": [],
   "source": [
    "X_train,X_rem,y_train,y_rem = train_test_split(att,target,train_size=0.8)\n",
    "X_valid,X_test,y_valid,y_test = train_test_split(X_rem,y_rem,train_size=0.5)\n",
    "#80 % train   --- 10% val 10% test"
   ]
  },
  {
   "cell_type": "code",
   "execution_count": 18,
   "metadata": {},
   "outputs": [
    {
     "name": "stdout",
     "output_type": "stream",
     "text": [
      "Total: 12897. C1 3455, c2 3086, c3 3479, c4 2877\n"
     ]
    }
   ],
   "source": [
    "c1, c2,c3,c4= np.bincount(np.argmax(y_train.to_numpy(),axis=1))\n",
    "total = c1+c2+c3+c4\n",
    "print(f\"Total: {total}. C1 {c1}, c2 {c2}, c3 {c3}, c4 {c4}\")"
   ]
  },
  {
   "cell_type": "code",
   "execution_count": 19,
   "metadata": {},
   "outputs": [],
   "source": [
    "METRICS = [\n",
    "      keras.metrics.TruePositives(name='tp'),\n",
    "      keras.metrics.FalsePositives(name='fp'),\n",
    "      keras.metrics.TrueNegatives(name='tn'),\n",
    "      keras.metrics.FalseNegatives(name='fn'), \n",
    "      keras.metrics.BinaryAccuracy(name='accuracy'),\n",
    "      keras.metrics.Precision(name='precision'),\n",
    "      keras.metrics.Recall(name='recall'),\n",
    "      keras.metrics.AUC(name='auc'),\n",
    "      keras.metrics.AUC(name='prc', curve='PR'), # precision-recall curve\n",
    "]\n",
    "\n",
    "def make_model(metrics=METRICS, output_bias=None):\n",
    "  if output_bias is not None:\n",
    "    output_bias = tf.keras.initializers.Constant(output_bias) # inicializar el bias de la ultima capa de manera sesgada para que todas las clases sean \"casi\" iguales\n",
    "  model = keras.Sequential([\n",
    "      keras.layers.Dense(\n",
    "          16, activation='relu',\n",
    "          input_shape=(17,)),\n",
    "      keras.layers.Dropout(0.5),\n",
    "      keras.layers.Dense(4, activation='sigmoid',\n",
    "                         bias_initializer=output_bias),\n",
    "  ])\n",
    "\n",
    "  model.compile(\n",
    "      optimizer=keras.optimizers.Adam(learning_rate=1e-3),\n",
    "      loss=keras.losses.BinaryCrossentropy(),\n",
    "      metrics=metrics)\n",
    "\n",
    "  return model"
   ]
  },
  {
   "cell_type": "code",
   "execution_count": null,
   "metadata": {},
   "outputs": [],
   "source": [
    "EPOCHS = 100\n",
    "BATCH_SIZE = 256\n",
    "\n",
    "early_stopping = tf.keras.callbacks.EarlyStopping(\n",
    "    monitor='val_prc', \n",
    "    verbose=1,\n",
    "    patience=10,\n",
    "    mode='max',\n",
    "    restore_best_weights=True)"
   ]
  },
  {
   "cell_type": "code",
   "execution_count": null,
   "metadata": {},
   "outputs": [],
   "source": [
    "model = make_model()\n",
    "model.summary()"
   ]
  },
  {
   "cell_type": "code",
   "execution_count": null,
   "metadata": {},
   "outputs": [],
   "source": [
    "-math.log(1/4)"
   ]
  },
  {
   "cell_type": "code",
   "execution_count": null,
   "metadata": {},
   "outputs": [],
   "source": [
    "results = model.evaluate(X_train,y_train,batch_size=BATCH_SIZE)\n",
    "print(f\"Loss: {results[0]}\")"
   ]
  },
  {
   "cell_type": "code",
   "execution_count": null,
   "metadata": {},
   "outputs": [],
   "source": [
    "frequency = [c1/total,c2/total,c3/total,c4/total]\n",
    "frequency\n"
   ]
  },
  {
   "cell_type": "code",
   "execution_count": null,
   "metadata": {},
   "outputs": [],
   "source": [
    "bi = np.log(frequency)\n",
    "bi"
   ]
  },
  {
   "cell_type": "code",
   "execution_count": null,
   "metadata": {},
   "outputs": [],
   "source": [
    "from scipy.optimize import fsolve\n",
    "from math import exp\n",
    "def eqn(x, frequency=frequency):\n",
    "  sum_exp = sum([exp(x_i) for x_i in x])\n",
    "  return [exp(x[i])/sum_exp - frequency[i] for i in range(len(frequency))]\n",
    "\n",
    "# calculate bias init\n",
    "bias_init = fsolve(func=eqn,\n",
    "                  x0=[0]*len(frequency),\n",
    "                  ).tolist()\n",
    "\n",
    "bias_init "
   ]
  },
  {
   "cell_type": "code",
   "execution_count": null,
   "metadata": {},
   "outputs": [],
   "source": [
    "model = make_model(output_bias=bias_init)\n",
    "model.evaluate(X_train,y_train,batch_size=BATCH_SIZE)"
   ]
  },
  {
   "cell_type": "code",
   "execution_count": null,
   "metadata": {},
   "outputs": [],
   "source": [
    "initial_weights = os.path.join(tempfile.mkdtemp(), 'initial_weights')\n",
    "model.save_weights(initial_weights)"
   ]
  },
  {
   "cell_type": "code",
   "execution_count": null,
   "metadata": {},
   "outputs": [],
   "source": [
    "model = make_model()\n",
    "model.load_weights(initial_weights)\n",
    "model.layers[-1].bias.assign([0.0,0.0,0.0,0.0])\n",
    "zero_bias_history = model.fit(\n",
    "    X_train,\n",
    "    y_train,\n",
    "    batch_size=BATCH_SIZE,\n",
    "    epochs=20,\n",
    "    validation_data=(X_test, y_test), \n",
    "    verbose=1)"
   ]
  },
  {
   "cell_type": "code",
   "execution_count": null,
   "metadata": {},
   "outputs": [],
   "source": [
    "model = make_model(output_bias=bias_init)\n",
    "model.load_weights(initial_weights)\n",
    "careful_bias_history = model.fit(\n",
    "    X_train,\n",
    "    y_train,\n",
    "    batch_size=BATCH_SIZE,\n",
    "    epochs=20,\n",
    "    validation_data=(X_test, y_test), \n",
    "    verbose=1)"
   ]
  },
  {
   "cell_type": "code",
   "execution_count": 26,
   "metadata": {},
   "outputs": [],
   "source": [
    "def plot_loss(history, label, n):\n",
    "  # Use a log scale on y-axis to show the wide range of values.\n",
    "  plt.semilogy(history.epoch, history.history['loss'],\n",
    "               color=colors[n], label='Train ' + label)\n",
    "  plt.semilogy(history.epoch, history.history['val_loss'],\n",
    "               color=colors[n], label='Val ' + label,\n",
    "               linestyle=\"--\")\n",
    "  plt.xlabel('Epoch')\n",
    "  plt.ylabel('Loss')"
   ]
  },
  {
   "cell_type": "code",
   "execution_count": 27,
   "metadata": {},
   "outputs": [
    {
     "ename": "NameError",
     "evalue": "name 'zero_bias_history' is not defined",
     "output_type": "error",
     "traceback": [
      "\u001b[1;31m---------------------------------------------------------------------------\u001b[0m",
      "\u001b[1;31mNameError\u001b[0m                                 Traceback (most recent call last)",
      "\u001b[1;32m~\\AppData\\Local\\Temp/ipykernel_19440/351470068.py\u001b[0m in \u001b[0;36m<module>\u001b[1;34m\u001b[0m\n\u001b[1;32m----> 1\u001b[1;33m \u001b[0mplot_loss\u001b[0m\u001b[1;33m(\u001b[0m\u001b[0mzero_bias_history\u001b[0m\u001b[1;33m,\u001b[0m \u001b[1;34m\"Zero Bias\"\u001b[0m\u001b[1;33m,\u001b[0m \u001b[1;36m0\u001b[0m\u001b[1;33m)\u001b[0m\u001b[1;33m\u001b[0m\u001b[1;33m\u001b[0m\u001b[0m\n\u001b[0m\u001b[0;32m      2\u001b[0m \u001b[0mplot_loss\u001b[0m\u001b[1;33m(\u001b[0m\u001b[0mcareful_bias_history\u001b[0m\u001b[1;33m,\u001b[0m \u001b[1;34m\"Careful Bias\"\u001b[0m\u001b[1;33m,\u001b[0m \u001b[1;36m1\u001b[0m\u001b[1;33m)\u001b[0m\u001b[1;33m\u001b[0m\u001b[1;33m\u001b[0m\u001b[0m\n",
      "\u001b[1;31mNameError\u001b[0m: name 'zero_bias_history' is not defined"
     ]
    }
   ],
   "source": [
    "plot_loss(zero_bias_history, \"Zero Bias\", 0)\n",
    "plot_loss(careful_bias_history, \"Careful Bias\", 1)"
   ]
  },
  {
   "cell_type": "code",
   "execution_count": 24,
   "metadata": {},
   "outputs": [],
   "source": [
    "def plot_metrics(history):\n",
    "  metrics = ['loss', 'prc', 'precision', 'recall']\n",
    "  for n, metric in enumerate(metrics):\n",
    "    name = metric.replace(\"_\",\" \").capitalize()\n",
    "    plt.subplot(2,2,n+1)\n",
    "    plt.plot(history.epoch, history.history[metric], color=colors[0], label='Train')\n",
    "    plt.plot(history.epoch, history.history['val_'+metric],\n",
    "             color=colors[0], linestyle=\"--\", label='Val')\n",
    "    plt.xlabel('Epoch')\n",
    "    plt.ylabel(name)\n",
    "    if metric == 'loss':\n",
    "      plt.ylim([0, plt.ylim()[1]])\n",
    "    elif metric == 'auc':\n",
    "      plt.ylim([0.8,1])\n",
    "    else:\n",
    "      plt.ylim([0,1])\n",
    "\n",
    "    plt.legend()"
   ]
  },
  {
   "cell_type": "code",
   "execution_count": 25,
   "metadata": {},
   "outputs": [
    {
     "ename": "NameError",
     "evalue": "name 'careful_bias_history' is not defined",
     "output_type": "error",
     "traceback": [
      "\u001b[1;31m---------------------------------------------------------------------------\u001b[0m",
      "\u001b[1;31mNameError\u001b[0m                                 Traceback (most recent call last)",
      "\u001b[1;32m~\\AppData\\Local\\Temp/ipykernel_19440/2730548498.py\u001b[0m in \u001b[0;36m<module>\u001b[1;34m\u001b[0m\n\u001b[1;32m----> 1\u001b[1;33m \u001b[0mplot_metrics\u001b[0m\u001b[1;33m(\u001b[0m\u001b[0mcareful_bias_history\u001b[0m\u001b[1;33m)\u001b[0m\u001b[1;33m\u001b[0m\u001b[1;33m\u001b[0m\u001b[0m\n\u001b[0m",
      "\u001b[1;31mNameError\u001b[0m: name 'careful_bias_history' is not defined"
     ]
    }
   ],
   "source": [
    "plot_metrics(careful_bias_history)\n"
   ]
  },
  {
   "cell_type": "code",
   "execution_count": 28,
   "metadata": {},
   "outputs": [
    {
     "ename": "NameError",
     "evalue": "name 'BATCH_SIZE' is not defined",
     "output_type": "error",
     "traceback": [
      "\u001b[1;31m---------------------------------------------------------------------------\u001b[0m",
      "\u001b[1;31mNameError\u001b[0m                                 Traceback (most recent call last)",
      "\u001b[1;32m~\\AppData\\Local\\Temp/ipykernel_19440/290388698.py\u001b[0m in \u001b[0;36m<module>\u001b[1;34m\u001b[0m\n\u001b[1;32m----> 1\u001b[1;33m \u001b[0mtrain_predictions_baseline\u001b[0m \u001b[1;33m=\u001b[0m \u001b[0mmodel\u001b[0m\u001b[1;33m.\u001b[0m\u001b[0mpredict\u001b[0m\u001b[1;33m(\u001b[0m\u001b[0mX_train\u001b[0m\u001b[1;33m,\u001b[0m \u001b[0mbatch_size\u001b[0m\u001b[1;33m=\u001b[0m\u001b[0mBATCH_SIZE\u001b[0m\u001b[1;33m)\u001b[0m\u001b[1;33m\u001b[0m\u001b[1;33m\u001b[0m\u001b[0m\n\u001b[0m\u001b[0;32m      2\u001b[0m \u001b[0mtest_predictions_baseline\u001b[0m \u001b[1;33m=\u001b[0m \u001b[0mmodel\u001b[0m\u001b[1;33m.\u001b[0m\u001b[0mpredict\u001b[0m\u001b[1;33m(\u001b[0m\u001b[0mX_test\u001b[0m\u001b[1;33m,\u001b[0m \u001b[0mbatch_size\u001b[0m\u001b[1;33m=\u001b[0m\u001b[0mBATCH_SIZE\u001b[0m\u001b[1;33m)\u001b[0m\u001b[1;33m\u001b[0m\u001b[1;33m\u001b[0m\u001b[0m\n",
      "\u001b[1;31mNameError\u001b[0m: name 'BATCH_SIZE' is not defined"
     ]
    }
   ],
   "source": [
    "train_predictions_baseline = model.predict(X_train, batch_size=BATCH_SIZE)\n",
    "test_predictions_baseline = model.predict(X_test, batch_size=BATCH_SIZE)"
   ]
  },
  {
   "cell_type": "code",
   "execution_count": 22,
   "metadata": {},
   "outputs": [],
   "source": [
    "def plot_cm(labels, predictions, p=0.5):\n",
    "  cm = confusion_matrix(labels,predictions)\n",
    "  plt.figure(figsize=(5,5))\n",
    "  sns.heatmap(cm, annot=True, fmt=\"d\")\n",
    "  plt.title('Confusion matrix')\n",
    "  plt.ylabel('Actual label')\n",
    "  plt.xlabel('Predicted label')\n"
   ]
  },
  {
   "cell_type": "code",
   "execution_count": null,
   "metadata": {},
   "outputs": [],
   "source": [
    "baseline_results = model.evaluate(X_test, y_test,\n",
    "                                  batch_size=BATCH_SIZE, verbose=0)\n",
    "for name, value in zip(model.metrics_names, baseline_results):\n",
    "  print(name, ': ', value)\n",
    "print()\n",
    "\n",
    "plot_cm(np.argmax(y_test.to_numpy(),axis=1), test_predictions_baseline.argmax(axis=1))"
   ]
  },
  {
   "cell_type": "markdown",
   "metadata": {},
   "source": [
    "Generación de un modelo simple con un perceptron de una capa y pocas neuronas para conocer un poco donde estamos."
   ]
  },
  {
   "cell_type": "code",
   "execution_count": null,
   "metadata": {},
   "outputs": [],
   "source": [
    "\n"
   ]
  },
  {
   "cell_type": "markdown",
   "metadata": {},
   "source": [
    "Utilizando 1 capa y pocas neuronas"
   ]
  },
  {
   "cell_type": "code",
   "execution_count": null,
   "metadata": {},
   "outputs": [],
   "source": []
  },
  {
   "cell_type": "markdown",
   "metadata": {},
   "source": [
    "Utilizando dos capas"
   ]
  },
  {
   "cell_type": "code",
   "execution_count": null,
   "metadata": {},
   "outputs": [],
   "source": []
  },
  {
   "cell_type": "markdown",
   "metadata": {},
   "source": [
    "Observamos que a mas capas, mejores resultados. Verificación utilizando muchas neuronas por capa"
   ]
  },
  {
   "cell_type": "code",
   "execution_count": null,
   "metadata": {},
   "outputs": [],
   "source": []
  },
  {
   "cell_type": "markdown",
   "metadata": {},
   "source": [
    "Resultados mejores. Probamos con aún más neuronas."
   ]
  },
  {
   "cell_type": "code",
   "execution_count": null,
   "metadata": {},
   "outputs": [],
   "source": [
    "\n"
   ]
  },
  {
   "cell_type": "markdown",
   "metadata": {},
   "source": [
    "Añadir más neuronas auemnta el tiempo de entrenamiento ligeramente (CPU only) sin dar mejores resultados"
   ]
  },
  {
   "cell_type": "code",
   "execution_count": null,
   "metadata": {},
   "outputs": [],
   "source": []
  },
  {
   "cell_type": "markdown",
   "metadata": {},
   "source": [
    "El objetivo ahora es conseguir un modelo lo bastante grande que haga overfit a los datos y reducirlo"
   ]
  },
  {
   "cell_type": "code",
   "execution_count": null,
   "metadata": {},
   "outputs": [],
   "source": []
  },
  {
   "cell_type": "markdown",
   "metadata": {},
   "source": [
    "Como la precisión no parece estancarse lo dejamos durante muchas mas epocas"
   ]
  },
  {
   "cell_type": "code",
   "execution_count": null,
   "metadata": {},
   "outputs": [],
   "source": []
  },
  {
   "cell_type": "markdown",
   "metadata": {},
   "source": [
    "Observamos el overfit del modelo"
   ]
  },
  {
   "cell_type": "code",
   "execution_count": null,
   "metadata": {},
   "outputs": [],
   "source": [
    "plt.plot(h_100x4x100.history['val_categorical_accuracy'])\n",
    "plt.plot(h_100x4x100.history['categorical_accuracy'])\n",
    "\n",
    "plt.title('model accuracy')\n",
    "plt.ylabel('accuracy')\n",
    "plt.xlabel('epoch')\n",
    "plt.legend(['val_accuracy','train_accuracy'], loc='upper left')\n",
    "plt.show()\n",
    "# \"Loss\""
   ]
  },
  {
   "cell_type": "markdown",
   "metadata": {},
   "source": [
    "Aplicamos estrategias de regularización."
   ]
  },
  {
   "cell_type": "code",
   "execution_count": null,
   "metadata": {},
   "outputs": [],
   "source": [
    "model = model = keras.Sequential([\n",
    "    keras.layers.Flatten(input_shape=(17,)),\n",
    "    keras.layers.Dense(100, activation='relu'),\n",
    "    keras.layers.Dropout(0.3),\n",
    "    keras.layers.Dense(100, activation='relu'),\n",
    "    keras.layers.Dropout(0.3),\n",
    "\n",
    "    keras.layers.Dense(100, activation='relu'),\n",
    "    keras.layers.Dropout(0.3),\n",
    "\n",
    "    keras.layers.Dense(100, activation='relu'),\n",
    "    keras.layers.Dropout(0.3),\n",
    "\n",
    "\n",
    "\n",
    "\n",
    "\n",
    "    keras.layers.Dense(4, activation='softmax')\n",
    "])\n",
    "model.compile(optimizer='adam',\n",
    "              loss='categorical_crossentropy',\n",
    "              metrics=['categorical_accuracy'])\n",
    "model.summary()\n",
    "h_100x4x100= model.fit(X_train,y_train,epochs=100,validation_data=(X_test,y_test))"
   ]
  },
  {
   "cell_type": "markdown",
   "metadata": {},
   "source": [
    "Tiene buana pinta"
   ]
  },
  {
   "cell_type": "code",
   "execution_count": null,
   "metadata": {},
   "outputs": [],
   "source": [
    "model = model = keras.Sequential([\n",
    "    keras.layers.Flatten(input_shape=(17,)),\n",
    "    keras.layers.Dense(100, activation='relu'),\n",
    "    keras.layers.Dropout(0.3),\n",
    "    keras.layers.Dense(100, activation='relu'),\n",
    "    keras.layers.Dropout(0.3),\n",
    "\n",
    "    keras.layers.Dense(100, activation='relu'),\n",
    "    keras.layers.Dropout(0.3),\n",
    "\n",
    "    keras.layers.Dense(100, activation='relu'),\n",
    "    keras.layers.Dropout(0.3),\n",
    "    keras.layers.Dense(100, activation='relu'),\n",
    "    keras.layers.Dropout(0.3),\n",
    "\n",
    "\n",
    "\n",
    "\n",
    "\n",
    "    keras.layers.Dense(4, activation='softmax')\n",
    "])\n",
    "model.compile(optimizer='adam',\n",
    "              loss='categorical_crossentropy',\n",
    "              metrics=['categorical_accuracy'])\n",
    "model.summary()\n",
    "h_100x4x100= model.fit(X_train,y_train,epochs=100,validation_data=(X_test,y_test))"
   ]
  },
  {
   "cell_type": "markdown",
   "metadata": {},
   "source": [
    "Añadir una capa mas no aporta nada"
   ]
  },
  {
   "cell_type": "code",
   "execution_count": null,
   "metadata": {},
   "outputs": [],
   "source": [
    "model = model = keras.Sequential([\n",
    "    keras.layers.Flatten(input_shape=(17,)),\n",
    "    \n",
    "    keras.layers.Dense(100, activation='relu'),\n",
    "    keras.layers.Dropout(0.25),\n",
    "    keras.layers.Dense(100, activation='relu'),\n",
    "    keras.layers.Dropout(0.25),\n",
    "\n",
    "    keras.layers.Dense(100, activation='relu'),\n",
    "    keras.layers.Dropout(0.25),\n",
    "\n",
    "    keras.layers.Dense(100, activation='relu'),\n",
    "    keras.layers.Dropout(0.25),\n",
    "    \n",
    "\n",
    "\n",
    "\n",
    "\n",
    "\n",
    "    keras.layers.Dense(4, activation='softmax')\n",
    "])\n",
    "model.compile(optimizer='adam',\n",
    "              loss='categorical_crossentropy',\n",
    "              metrics=['categorical_accuracy'])\n",
    "model.summary()\n",
    "h_100x4x100= model.fit(X_train,y_train,epochs=100,validation_data=(X_test,y_test))"
   ]
  },
  {
   "cell_type": "code",
   "execution_count": null,
   "metadata": {},
   "outputs": [],
   "source": [
    "plt.plot(h_128128.history['val_categorical_accuracy'])\n",
    "plt.plot(h_nocapas.history['val_categorical_accuracy'])\n",
    "plt.plot(h_512512.history['val_categorical_accuracy'])\n",
    "\n",
    "plt.title('model accuracy')\n",
    "plt.ylabel('accuracy')\n",
    "plt.xlabel('epoch')\n",
    "plt.legend(['h28128', 'nocapas','512512'], loc='upper left')\n",
    "plt.show()\n",
    "# \"Loss\"\n"
   ]
  },
  {
   "cell_type": "code",
   "execution_count": 20,
   "metadata": {},
   "outputs": [],
   "source": [
    "def build_model(n_hidden=1, n_neurons_ocultas=[30], learning_rate=3e-3, input_shape=(8,), \n",
    "                activation_o=\"relu\", optimizer=\"adam\", loss=\"categorical_crossentropy\", metrics=METRICS, \n",
    "                activation_s=\"soft_max\", n_neurons_salida=4):     \n",
    "    model = keras.models.Sequential()     \n",
    "    model.add(keras.layers.InputLayer(input_shape=input_shape))\n",
    "    if n_hidden != len(n_neurons_ocultas):\n",
    "        print(\"error, tamaño de la lista de n_neuronas no corresponde al umero de capas\")\n",
    "        return -1\n",
    "    for layer in range(n_hidden):         \n",
    "        model.add(keras.layers.Dense(n_neurons_ocultas[layer], activation=\"relu\"))     \n",
    "  \n",
    "    model.add(keras.layers.Dense(n_neurons_salida, activation=activation_s))\n",
    "    optimizer = keras.optimizers.SGD(learning_rate=learning_rate)     \n",
    "    model.compile(optimizer=optimizer,\n",
    "              loss=loss,\n",
    "              metrics=metrics)    \n",
    "    return model"
   ]
  },
  {
   "cell_type": "code",
   "execution_count": 29,
   "metadata": {},
   "outputs": [
    {
     "name": "stdout",
     "output_type": "stream",
     "text": [
      "Model: \"sequential_2\"\n",
      "_________________________________________________________________\n",
      " Layer (type)                Output Shape              Param #   \n",
      "=================================================================\n",
      " dense_6 (Dense)             (None, 30)                540       \n",
      "                                                                 \n",
      " dense_7 (Dense)             (None, 20)                620       \n",
      "                                                                 \n",
      " dense_8 (Dense)             (None, 4)                 84        \n",
      "                                                                 \n",
      "=================================================================\n",
      "Total params: 1,244\n",
      "Trainable params: 1,244\n",
      "Non-trainable params: 0\n",
      "_________________________________________________________________\n",
      "Epoch 1/100\n",
      "51/51 [==============================] - 2s 14ms/step - loss: 0.9000 - tp: 5812.0000 - fp: 1750.0000 - tn: 41780.0000 - fn: 8698.0000 - accuracy: 0.8200 - precision: 0.7686 - recall: 0.4006 - auc: 0.8725 - prc: 0.7106 - val_loss: 0.7576 - val_tp: 906.0000 - val_fp: 407.0000 - val_tn: 4432.0000 - val_fn: 707.0000 - val_accuracy: 0.8273 - val_precision: 0.6900 - val_recall: 0.5617 - val_auc: 0.8947 - val_prc: 0.7489\n",
      "Epoch 2/100\n",
      "51/51 [==============================] - 0s 2ms/step - loss: 0.6644 - tp: 8216.0000 - fp: 3167.0000 - tn: 35524.0000 - fn: 4681.0000 - accuracy: 0.8479 - precision: 0.7218 - recall: 0.6370 - auc: 0.9167 - prc: 0.7850 - val_loss: 0.5629 - val_tp: 1159.0000 - val_fp: 318.0000 - val_tn: 4521.0000 - val_fn: 454.0000 - val_accuracy: 0.8803 - val_precision: 0.7847 - val_recall: 0.7185 - val_auc: 0.9429 - val_prc: 0.8510\n",
      "Epoch 3/100\n",
      "51/51 [==============================] - 0s 2ms/step - loss: 0.5964 - tp: 9143.0000 - fp: 3107.0000 - tn: 35584.0000 - fn: 3754.0000 - accuracy: 0.8670 - precision: 0.7464 - recall: 0.7089 - auc: 0.9326 - prc: 0.8208 - val_loss: 0.5516 - val_tp: 1199.0000 - val_fp: 361.0000 - val_tn: 4478.0000 - val_fn: 414.0000 - val_accuracy: 0.8799 - val_precision: 0.7686 - val_recall: 0.7433 - val_auc: 0.9432 - val_prc: 0.8522\n",
      "Epoch 4/100\n",
      "51/51 [==============================] - 0s 2ms/step - loss: 0.5502 - tp: 9522.0000 - fp: 3041.0000 - tn: 35650.0000 - fn: 3375.0000 - accuracy: 0.8756 - precision: 0.7579 - recall: 0.7383 - auc: 0.9418 - prc: 0.8438 - val_loss: 0.6245 - val_tp: 1104.0000 - val_fp: 423.0000 - val_tn: 4416.0000 - val_fn: 509.0000 - val_accuracy: 0.8555 - val_precision: 0.7230 - val_recall: 0.6844 - val_auc: 0.9263 - val_prc: 0.8104\n",
      "Epoch 5/100\n",
      "51/51 [==============================] - 0s 2ms/step - loss: 0.5222 - tp: 9762.0000 - fp: 2844.0000 - tn: 35847.0000 - fn: 3135.0000 - accuracy: 0.8841 - precision: 0.7744 - recall: 0.7569 - auc: 0.9478 - prc: 0.8591 - val_loss: 0.5291 - val_tp: 1215.0000 - val_fp: 372.0000 - val_tn: 4467.0000 - val_fn: 398.0000 - val_accuracy: 0.8807 - val_precision: 0.7656 - val_recall: 0.7533 - val_auc: 0.9465 - val_prc: 0.8560\n",
      "Epoch 6/100\n",
      "51/51 [==============================] - 0s 2ms/step - loss: 0.5202 - tp: 9818.0000 - fp: 2884.0000 - tn: 35807.0000 - fn: 3079.0000 - accuracy: 0.8844 - precision: 0.7729 - recall: 0.7613 - auc: 0.9479 - prc: 0.8590 - val_loss: 0.5096 - val_tp: 1253.0000 - val_fp: 336.0000 - val_tn: 4503.0000 - val_fn: 360.0000 - val_accuracy: 0.8921 - val_precision: 0.7885 - val_recall: 0.7768 - val_auc: 0.9509 - val_prc: 0.8690\n",
      "Epoch 7/100\n",
      "51/51 [==============================] - 0s 2ms/step - loss: 0.5108 - tp: 9879.0000 - fp: 2823.0000 - tn: 35868.0000 - fn: 3018.0000 - accuracy: 0.8868 - precision: 0.7778 - recall: 0.7660 - auc: 0.9493 - prc: 0.8614 - val_loss: 0.5943 - val_tp: 1171.0000 - val_fp: 430.0000 - val_tn: 4409.0000 - val_fn: 442.0000 - val_accuracy: 0.8648 - val_precision: 0.7314 - val_recall: 0.7260 - val_auc: 0.9337 - val_prc: 0.8202\n",
      "Epoch 8/100\n",
      "51/51 [==============================] - 0s 2ms/step - loss: 0.4870 - tp: 10016.0000 - fp: 2733.0000 - tn: 35958.0000 - fn: 2881.0000 - accuracy: 0.8912 - precision: 0.7856 - recall: 0.7766 - auc: 0.9543 - prc: 0.8754 - val_loss: 0.4946 - val_tp: 1243.0000 - val_fp: 356.0000 - val_tn: 4483.0000 - val_fn: 370.0000 - val_accuracy: 0.8875 - val_precision: 0.7774 - val_recall: 0.7706 - val_auc: 0.9527 - val_prc: 0.8718\n",
      "Epoch 9/100\n",
      "51/51 [==============================] - 0s 2ms/step - loss: 0.4664 - tp: 10189.0000 - fp: 2575.0000 - tn: 36116.0000 - fn: 2708.0000 - accuracy: 0.8976 - precision: 0.7983 - recall: 0.7900 - auc: 0.9580 - prc: 0.8851 - val_loss: 0.4492 - val_tp: 1288.0000 - val_fp: 313.0000 - val_tn: 4526.0000 - val_fn: 325.0000 - val_accuracy: 0.9011 - val_precision: 0.8045 - val_recall: 0.7985 - val_auc: 0.9617 - val_prc: 0.8961\n",
      "Epoch 10/100\n",
      "51/51 [==============================] - 0s 2ms/step - loss: 0.4860 - tp: 10083.0000 - fp: 2689.0000 - tn: 36002.0000 - fn: 2814.0000 - accuracy: 0.8933 - precision: 0.7895 - recall: 0.7818 - auc: 0.9544 - prc: 0.8760 - val_loss: 0.4691 - val_tp: 1266.0000 - val_fp: 327.0000 - val_tn: 4512.0000 - val_fn: 347.0000 - val_accuracy: 0.8955 - val_precision: 0.7947 - val_recall: 0.7849 - val_auc: 0.9577 - val_prc: 0.8857\n",
      "Epoch 11/100\n",
      "51/51 [==============================] - 0s 2ms/step - loss: 0.4659 - tp: 10195.0000 - fp: 2581.0000 - tn: 36110.0000 - fn: 2702.0000 - accuracy: 0.8976 - precision: 0.7980 - recall: 0.7905 - auc: 0.9580 - prc: 0.8851 - val_loss: 0.4724 - val_tp: 1269.0000 - val_fp: 330.0000 - val_tn: 4509.0000 - val_fn: 344.0000 - val_accuracy: 0.8955 - val_precision: 0.7936 - val_recall: 0.7867 - val_auc: 0.9571 - val_prc: 0.8837\n",
      "Epoch 12/100\n",
      "51/51 [==============================] - 0s 2ms/step - loss: 0.4641 - tp: 10176.0000 - fp: 2570.0000 - tn: 36121.0000 - fn: 2721.0000 - accuracy: 0.8974 - precision: 0.7984 - recall: 0.7890 - auc: 0.9585 - prc: 0.8865 - val_loss: 0.4461 - val_tp: 1286.0000 - val_fp: 318.0000 - val_tn: 4521.0000 - val_fn: 327.0000 - val_accuracy: 0.9000 - val_precision: 0.8017 - val_recall: 0.7973 - val_auc: 0.9619 - val_prc: 0.8967\n",
      "Epoch 13/100\n",
      "51/51 [==============================] - 0s 2ms/step - loss: 0.4648 - tp: 10137.0000 - fp: 2651.0000 - tn: 36040.0000 - fn: 2760.0000 - accuracy: 0.8951 - precision: 0.7927 - recall: 0.7860 - auc: 0.9581 - prc: 0.8854 - val_loss: 0.6209 - val_tp: 1136.0000 - val_fp: 446.0000 - val_tn: 4393.0000 - val_fn: 477.0000 - val_accuracy: 0.8569 - val_precision: 0.7181 - val_recall: 0.7043 - val_auc: 0.9314 - val_prc: 0.8198\n",
      "Epoch 14/100\n",
      "51/51 [==============================] - 0s 2ms/step - loss: 0.4738 - tp: 10138.0000 - fp: 2628.0000 - tn: 36063.0000 - fn: 2759.0000 - accuracy: 0.8956 - precision: 0.7941 - recall: 0.7861 - auc: 0.9566 - prc: 0.8807 - val_loss: 0.4313 - val_tp: 1295.0000 - val_fp: 304.0000 - val_tn: 4535.0000 - val_fn: 318.0000 - val_accuracy: 0.9036 - val_precision: 0.8099 - val_recall: 0.8029 - val_auc: 0.9646 - val_prc: 0.9041\n",
      "Epoch 15/100\n",
      "51/51 [==============================] - 0s 2ms/step - loss: 0.4625 - tp: 10220.0000 - fp: 2575.0000 - tn: 36116.0000 - fn: 2677.0000 - accuracy: 0.8982 - precision: 0.7987 - recall: 0.7924 - auc: 0.9587 - prc: 0.8867 - val_loss: 0.4736 - val_tp: 1274.0000 - val_fp: 331.0000 - val_tn: 4508.0000 - val_fn: 339.0000 - val_accuracy: 0.8962 - val_precision: 0.7938 - val_recall: 0.7898 - val_auc: 0.9572 - val_prc: 0.8836\n",
      "Epoch 16/100\n",
      "51/51 [==============================] - 0s 3ms/step - loss: 0.4654 - tp: 10195.0000 - fp: 2582.0000 - tn: 36109.0000 - fn: 2702.0000 - accuracy: 0.8976 - precision: 0.7979 - recall: 0.7905 - auc: 0.9583 - prc: 0.8861 - val_loss: 0.4858 - val_tp: 1265.0000 - val_fp: 340.0000 - val_tn: 4499.0000 - val_fn: 348.0000 - val_accuracy: 0.8934 - val_precision: 0.7882 - val_recall: 0.7843 - val_auc: 0.9544 - val_prc: 0.8733\n",
      "Epoch 17/100\n",
      "51/51 [==============================] - 0s 2ms/step - loss: 0.4457 - tp: 10315.0000 - fp: 2475.0000 - tn: 36216.0000 - fn: 2582.0000 - accuracy: 0.9020 - precision: 0.8065 - recall: 0.7998 - auc: 0.9615 - prc: 0.8944 - val_loss: 0.4637 - val_tp: 1277.0000 - val_fp: 319.0000 - val_tn: 4520.0000 - val_fn: 336.0000 - val_accuracy: 0.8985 - val_precision: 0.8001 - val_recall: 0.7917 - val_auc: 0.9590 - val_prc: 0.8886\n",
      "Epoch 18/100\n"
     ]
    },
    {
     "name": "stdout",
     "output_type": "stream",
     "text": [
      "51/51 [==============================] - 0s 2ms/step - loss: 0.4510 - tp: 10282.0000 - fp: 2510.0000 - tn: 36181.0000 - fn: 2615.0000 - accuracy: 0.9007 - precision: 0.8038 - recall: 0.7972 - auc: 0.9606 - prc: 0.8921 - val_loss: 0.4872 - val_tp: 1263.0000 - val_fp: 339.0000 - val_tn: 4500.0000 - val_fn: 350.0000 - val_accuracy: 0.8932 - val_precision: 0.7884 - val_recall: 0.7830 - val_auc: 0.9544 - val_prc: 0.8743\n",
      "Epoch 19/100\n",
      "51/51 [==============================] - 0s 3ms/step - loss: 0.4493 - tp: 10309.0000 - fp: 2495.0000 - tn: 36196.0000 - fn: 2588.0000 - accuracy: 0.9015 - precision: 0.8051 - recall: 0.7993 - auc: 0.9610 - prc: 0.8929 - val_loss: 0.6805 - val_tp: 1088.0000 - val_fp: 499.0000 - val_tn: 4340.0000 - val_fn: 525.0000 - val_accuracy: 0.8413 - val_precision: 0.6856 - val_recall: 0.6745 - val_auc: 0.9230 - val_prc: 0.8014\n",
      "Epoch 20/100\n",
      "51/51 [==============================] - 0s 3ms/step - loss: 0.4562 - tp: 10226.0000 - fp: 2562.0000 - tn: 36129.0000 - fn: 2671.0000 - accuracy: 0.8986 - precision: 0.7997 - recall: 0.7929 - auc: 0.9595 - prc: 0.8890 - val_loss: 0.5231 - val_tp: 1225.0000 - val_fp: 385.0000 - val_tn: 4454.0000 - val_fn: 388.0000 - val_accuracy: 0.8802 - val_precision: 0.7609 - val_recall: 0.7595 - val_auc: 0.9477 - val_prc: 0.8564\n",
      "Epoch 21/100\n",
      "51/51 [==============================] - 0s 3ms/step - loss: 0.4538 - tp: 10269.0000 - fp: 2519.0000 - tn: 36172.0000 - fn: 2628.0000 - accuracy: 0.9002 - precision: 0.8030 - recall: 0.7962 - auc: 0.9602 - prc: 0.8906 - val_loss: 0.4330 - val_tp: 1296.0000 - val_fp: 309.0000 - val_tn: 4530.0000 - val_fn: 317.0000 - val_accuracy: 0.9030 - val_precision: 0.8075 - val_recall: 0.8035 - val_auc: 0.9640 - val_prc: 0.9026\n",
      "Epoch 22/100\n",
      "51/51 [==============================] - 0s 2ms/step - loss: 0.4537 - tp: 10289.0000 - fp: 2496.0000 - tn: 36195.0000 - fn: 2608.0000 - accuracy: 0.9011 - precision: 0.8048 - recall: 0.7978 - auc: 0.9603 - prc: 0.8912 - val_loss: 0.4874 - val_tp: 1253.0000 - val_fp: 346.0000 - val_tn: 4493.0000 - val_fn: 360.0000 - val_accuracy: 0.8906 - val_precision: 0.7836 - val_recall: 0.7768 - val_auc: 0.9536 - val_prc: 0.8724\n",
      "Epoch 23/100\n",
      "51/51 [==============================] - 0s 2ms/step - loss: 0.4558 - tp: 10230.0000 - fp: 2559.0000 - tn: 36132.0000 - fn: 2667.0000 - accuracy: 0.8987 - precision: 0.7999 - recall: 0.7932 - auc: 0.9596 - prc: 0.8896 - val_loss: 0.5506 - val_tp: 1210.0000 - val_fp: 397.0000 - val_tn: 4442.0000 - val_fn: 403.0000 - val_accuracy: 0.8760 - val_precision: 0.7530 - val_recall: 0.7502 - val_auc: 0.9449 - val_prc: 0.8513\n",
      "Epoch 24/100\n",
      "51/51 [==============================] - 0s 2ms/step - loss: 0.4492 - tp: 10284.0000 - fp: 2514.0000 - tn: 36177.0000 - fn: 2613.0000 - accuracy: 0.9006 - precision: 0.8036 - recall: 0.7974 - auc: 0.9608 - prc: 0.8921 - val_loss: 0.4632 - val_tp: 1281.0000 - val_fp: 317.0000 - val_tn: 4522.0000 - val_fn: 332.0000 - val_accuracy: 0.8994 - val_precision: 0.8016 - val_recall: 0.7942 - val_auc: 0.9588 - val_prc: 0.8879\n",
      "Epoch 25/100\n",
      "51/51 [==============================] - 0s 2ms/step - loss: 0.4392 - tp: 10375.0000 - fp: 2419.0000 - tn: 36272.0000 - fn: 2522.0000 - accuracy: 0.9042 - precision: 0.8109 - recall: 0.8045 - auc: 0.9627 - prc: 0.8974 - val_loss: 0.4465 - val_tp: 1282.0000 - val_fp: 315.0000 - val_tn: 4524.0000 - val_fn: 331.0000 - val_accuracy: 0.8999 - val_precision: 0.8028 - val_recall: 0.7948 - val_auc: 0.9616 - val_prc: 0.8953\n",
      "Epoch 26/100\n",
      "51/51 [==============================] - 0s 2ms/step - loss: 0.4414 - tp: 10352.0000 - fp: 2423.0000 - tn: 36268.0000 - fn: 2545.0000 - accuracy: 0.9037 - precision: 0.8103 - recall: 0.8027 - auc: 0.9623 - prc: 0.8963 - val_loss: 0.4551 - val_tp: 1283.0000 - val_fp: 312.0000 - val_tn: 4527.0000 - val_fn: 330.0000 - val_accuracy: 0.9005 - val_precision: 0.8044 - val_recall: 0.7954 - val_auc: 0.9599 - val_prc: 0.8906\n",
      "Epoch 27/100\n",
      "51/51 [==============================] - 0s 2ms/step - loss: 0.4374 - tp: 10390.0000 - fp: 2410.0000 - tn: 36281.0000 - fn: 2507.0000 - accuracy: 0.9047 - precision: 0.8117 - recall: 0.8056 - auc: 0.9630 - prc: 0.8981 - val_loss: 0.4368 - val_tp: 1289.0000 - val_fp: 295.0000 - val_tn: 4544.0000 - val_fn: 324.0000 - val_accuracy: 0.9041 - val_precision: 0.8138 - val_recall: 0.7991 - val_auc: 0.9632 - val_prc: 0.9000\n",
      "Epoch 28/100\n",
      "51/51 [==============================] - 0s 2ms/step - loss: 0.4427 - tp: 10326.0000 - fp: 2475.0000 - tn: 36216.0000 - fn: 2571.0000 - accuracy: 0.9022 - precision: 0.8067 - recall: 0.8007 - auc: 0.9620 - prc: 0.8953 - val_loss: 0.4322 - val_tp: 1300.0000 - val_fp: 297.0000 - val_tn: 4542.0000 - val_fn: 313.0000 - val_accuracy: 0.9055 - val_precision: 0.8140 - val_recall: 0.8060 - val_auc: 0.9640 - val_prc: 0.9020\n",
      "Epoch 29/100\n",
      "51/51 [==============================] - 0s 2ms/step - loss: 0.4434 - tp: 10347.0000 - fp: 2442.0000 - tn: 36249.0000 - fn: 2550.0000 - accuracy: 0.9032 - precision: 0.8091 - recall: 0.8023 - auc: 0.9620 - prc: 0.8954 - val_loss: 0.4188 - val_tp: 1305.0000 - val_fp: 287.0000 - val_tn: 4552.0000 - val_fn: 308.0000 - val_accuracy: 0.9078 - val_precision: 0.8197 - val_recall: 0.8091 - val_auc: 0.9663 - val_prc: 0.9090\n",
      "Epoch 30/100\n",
      "51/51 [==============================] - 0s 2ms/step - loss: 0.4354 - tp: 10419.0000 - fp: 2394.0000 - tn: 36297.0000 - fn: 2478.0000 - accuracy: 0.9056 - precision: 0.8132 - recall: 0.8079 - auc: 0.9632 - prc: 0.8988 - val_loss: 0.4344 - val_tp: 1299.0000 - val_fp: 305.0000 - val_tn: 4534.0000 - val_fn: 314.0000 - val_accuracy: 0.9041 - val_precision: 0.8099 - val_recall: 0.8053 - val_auc: 0.9636 - val_prc: 0.9007\n",
      "Epoch 31/100\n",
      "51/51 [==============================] - 0s 2ms/step - loss: 0.4391 - tp: 10371.0000 - fp: 2432.0000 - tn: 36259.0000 - fn: 2526.0000 - accuracy: 0.9039 - precision: 0.8100 - recall: 0.8041 - auc: 0.9626 - prc: 0.8970 - val_loss: 0.4246 - val_tp: 1296.0000 - val_fp: 298.0000 - val_tn: 4541.0000 - val_fn: 317.0000 - val_accuracy: 0.9047 - val_precision: 0.8130 - val_recall: 0.8035 - val_auc: 0.9656 - val_prc: 0.9066\n",
      "Epoch 32/100\n",
      "51/51 [==============================] - 0s 2ms/step - loss: 0.4362 - tp: 10391.0000 - fp: 2411.0000 - tn: 36280.0000 - fn: 2506.0000 - accuracy: 0.9047 - precision: 0.8117 - recall: 0.8057 - auc: 0.9630 - prc: 0.8980 - val_loss: 0.4875 - val_tp: 1257.0000 - val_fp: 350.0000 - val_tn: 4489.0000 - val_fn: 356.0000 - val_accuracy: 0.8906 - val_precision: 0.7822 - val_recall: 0.7793 - val_auc: 0.9545 - val_prc: 0.8755\n",
      "Epoch 33/100\n",
      "51/51 [==============================] - 0s 2ms/step - loss: 0.4297 - tp: 10394.0000 - fp: 2408.0000 - tn: 36283.0000 - fn: 2503.0000 - accuracy: 0.9048 - precision: 0.8119 - recall: 0.8059 - auc: 0.9641 - prc: 0.9011 - val_loss: 0.4257 - val_tp: 1308.0000 - val_fp: 283.0000 - val_tn: 4556.0000 - val_fn: 305.0000 - val_accuracy: 0.9089 - val_precision: 0.8221 - val_recall: 0.8109 - val_auc: 0.9652 - val_prc: 0.9047\n",
      "Epoch 34/100\n",
      "51/51 [==============================] - 0s 2ms/step - loss: 0.4291 - tp: 10434.0000 - fp: 2374.0000 - tn: 36317.0000 - fn: 2463.0000 - accuracy: 0.9062 - precision: 0.8146 - recall: 0.8090 - auc: 0.9644 - prc: 0.9019 - val_loss: 0.4346 - val_tp: 1296.0000 - val_fp: 297.0000 - val_tn: 4542.0000 - val_fn: 317.0000 - val_accuracy: 0.9048 - val_precision: 0.8136 - val_recall: 0.8035 - val_auc: 0.9636 - val_prc: 0.9013\n",
      "Epoch 35/100\n",
      "51/51 [==============================] - 0s 2ms/step - loss: 0.4482 - tp: 10323.0000 - fp: 2472.0000 - tn: 36219.0000 - fn: 2574.0000 - accuracy: 0.9022 - precision: 0.8068 - recall: 0.8004 - auc: 0.9611 - prc: 0.8929 - val_loss: 0.4331 - val_tp: 1288.0000 - val_fp: 308.0000 - val_tn: 4531.0000 - val_fn: 325.0000 - val_accuracy: 0.9019 - val_precision: 0.8070 - val_recall: 0.7985 - val_auc: 0.9634 - val_prc: 0.8997\n",
      "Epoch 36/100\n",
      "51/51 [==============================] - 0s 2ms/step - loss: 0.4276 - tp: 10446.0000 - fp: 2370.0000 - tn: 36321.0000 - fn: 2451.0000 - accuracy: 0.9065 - precision: 0.8151 - recall: 0.8100 - auc: 0.9646 - prc: 0.9026 - val_loss: 0.4244 - val_tp: 1301.0000 - val_fp: 298.0000 - val_tn: 4541.0000 - val_fn: 312.0000 - val_accuracy: 0.9055 - val_precision: 0.8136 - val_recall: 0.8066 - val_auc: 0.9652 - val_prc: 0.9050\n"
     ]
    },
    {
     "name": "stdout",
     "output_type": "stream",
     "text": [
      "Epoch 37/100\n",
      "51/51 [==============================] - 0s 2ms/step - loss: 0.4299 - tp: 10415.0000 - fp: 2395.0000 - tn: 36296.0000 - fn: 2482.0000 - accuracy: 0.9055 - precision: 0.8130 - recall: 0.8076 - auc: 0.9640 - prc: 0.9006 - val_loss: 0.4366 - val_tp: 1286.0000 - val_fp: 312.0000 - val_tn: 4527.0000 - val_fn: 327.0000 - val_accuracy: 0.9010 - val_precision: 0.8048 - val_recall: 0.7973 - val_auc: 0.9629 - val_prc: 0.8988\n",
      "Epoch 38/100\n",
      "51/51 [==============================] - 0s 2ms/step - loss: 0.4354 - tp: 10394.0000 - fp: 2432.0000 - tn: 36259.0000 - fn: 2503.0000 - accuracy: 0.9043 - precision: 0.8104 - recall: 0.8059 - auc: 0.9631 - prc: 0.8984 - val_loss: 0.4630 - val_tp: 1271.0000 - val_fp: 332.0000 - val_tn: 4507.0000 - val_fn: 342.0000 - val_accuracy: 0.8955 - val_precision: 0.7929 - val_recall: 0.7880 - val_auc: 0.9585 - val_prc: 0.8860\n",
      "Epoch 39/100\n",
      "51/51 [==============================] - 0s 2ms/step - loss: 0.4266 - tp: 10457.0000 - fp: 2354.0000 - tn: 36337.0000 - fn: 2440.0000 - accuracy: 0.9071 - precision: 0.8163 - recall: 0.8108 - auc: 0.9647 - prc: 0.9026 - val_loss: 0.4166 - val_tp: 1308.0000 - val_fp: 292.0000 - val_tn: 4547.0000 - val_fn: 305.0000 - val_accuracy: 0.9075 - val_precision: 0.8175 - val_recall: 0.8109 - val_auc: 0.9667 - val_prc: 0.9101\n",
      "Epoch 40/100\n",
      "51/51 [==============================] - 0s 2ms/step - loss: 0.4137 - tp: 10524.0000 - fp: 2286.0000 - tn: 36405.0000 - fn: 2373.0000 - accuracy: 0.9097 - precision: 0.8215 - recall: 0.8160 - auc: 0.9668 - prc: 0.9086 - val_loss: 0.4361 - val_tp: 1302.0000 - val_fp: 294.0000 - val_tn: 4545.0000 - val_fn: 311.0000 - val_accuracy: 0.9062 - val_precision: 0.8158 - val_recall: 0.8072 - val_auc: 0.9633 - val_prc: 0.9005\n",
      "Epoch 41/100\n",
      "51/51 [==============================] - 0s 2ms/step - loss: 0.4226 - tp: 10502.0000 - fp: 2327.0000 - tn: 36364.0000 - fn: 2395.0000 - accuracy: 0.9085 - precision: 0.8186 - recall: 0.8143 - auc: 0.9654 - prc: 0.9046 - val_loss: 0.4712 - val_tp: 1277.0000 - val_fp: 319.0000 - val_tn: 4520.0000 - val_fn: 336.0000 - val_accuracy: 0.8985 - val_precision: 0.8001 - val_recall: 0.7917 - val_auc: 0.9577 - val_prc: 0.8858\n",
      "Epoch 42/100\n",
      "51/51 [==============================] - 0s 2ms/step - loss: 0.4202 - tp: 10495.0000 - fp: 2317.0000 - tn: 36374.0000 - fn: 2402.0000 - accuracy: 0.9085 - precision: 0.8192 - recall: 0.8138 - auc: 0.9657 - prc: 0.9056 - val_loss: 0.4631 - val_tp: 1281.0000 - val_fp: 322.0000 - val_tn: 4517.0000 - val_fn: 332.0000 - val_accuracy: 0.8986 - val_precision: 0.7991 - val_recall: 0.7942 - val_auc: 0.9589 - val_prc: 0.8895\n",
      "Epoch 43/100\n",
      "51/51 [==============================] - 0s 2ms/step - loss: 0.4292 - tp: 10443.0000 - fp: 2365.0000 - tn: 36326.0000 - fn: 2454.0000 - accuracy: 0.9066 - precision: 0.8153 - recall: 0.8097 - auc: 0.9642 - prc: 0.9011 - val_loss: 0.4269 - val_tp: 1303.0000 - val_fp: 294.0000 - val_tn: 4545.0000 - val_fn: 310.0000 - val_accuracy: 0.9064 - val_precision: 0.8159 - val_recall: 0.8078 - val_auc: 0.9648 - val_prc: 0.9041\n",
      "Epoch 44/100\n",
      "51/51 [==============================] - 0s 2ms/step - loss: 0.4283 - tp: 10455.0000 - fp: 2340.0000 - tn: 36351.0000 - fn: 2442.0000 - accuracy: 0.9073 - precision: 0.8171 - recall: 0.8107 - auc: 0.9644 - prc: 0.9020 - val_loss: 0.7674 - val_tp: 1084.0000 - val_fp: 518.0000 - val_tn: 4321.0000 - val_fn: 529.0000 - val_accuracy: 0.8377 - val_precision: 0.6767 - val_recall: 0.6720 - val_auc: 0.9085 - val_prc: 0.7660\n",
      "Epoch 45/100\n",
      "51/51 [==============================] - 0s 2ms/step - loss: 0.4305 - tp: 10450.0000 - fp: 2346.0000 - tn: 36345.0000 - fn: 2447.0000 - accuracy: 0.9071 - precision: 0.8167 - recall: 0.8103 - auc: 0.9640 - prc: 0.9008 - val_loss: 0.4263 - val_tp: 1296.0000 - val_fp: 305.0000 - val_tn: 4534.0000 - val_fn: 317.0000 - val_accuracy: 0.9036 - val_precision: 0.8095 - val_recall: 0.8035 - val_auc: 0.9649 - val_prc: 0.9042\n",
      "Epoch 46/100\n",
      "51/51 [==============================] - 0s 2ms/step - loss: 0.4259 - tp: 10498.0000 - fp: 2314.0000 - tn: 36377.0000 - fn: 2399.0000 - accuracy: 0.9086 - precision: 0.8194 - recall: 0.8140 - auc: 0.9648 - prc: 0.9029 - val_loss: 0.4396 - val_tp: 1288.0000 - val_fp: 309.0000 - val_tn: 4530.0000 - val_fn: 325.0000 - val_accuracy: 0.9017 - val_precision: 0.8065 - val_recall: 0.7985 - val_auc: 0.9629 - val_prc: 0.8992\n",
      "Epoch 47/100\n",
      "51/51 [==============================] - 0s 2ms/step - loss: 0.4148 - tp: 10554.0000 - fp: 2270.0000 - tn: 36421.0000 - fn: 2343.0000 - accuracy: 0.9106 - precision: 0.8230 - recall: 0.8183 - auc: 0.9666 - prc: 0.9076 - val_loss: 0.5611 - val_tp: 1216.0000 - val_fp: 391.0000 - val_tn: 4448.0000 - val_fn: 397.0000 - val_accuracy: 0.8779 - val_precision: 0.7567 - val_recall: 0.7539 - val_auc: 0.9435 - val_prc: 0.8468\n",
      "Epoch 48/100\n",
      "51/51 [==============================] - 0s 2ms/step - loss: 0.4311 - tp: 10408.0000 - fp: 2404.0000 - tn: 36287.0000 - fn: 2489.0000 - accuracy: 0.9052 - precision: 0.8124 - recall: 0.8070 - auc: 0.9639 - prc: 0.9007 - val_loss: 0.5063 - val_tp: 1246.0000 - val_fp: 362.0000 - val_tn: 4477.0000 - val_fn: 367.0000 - val_accuracy: 0.8870 - val_precision: 0.7749 - val_recall: 0.7725 - val_auc: 0.9517 - val_prc: 0.8700\n",
      "Epoch 49/100\n",
      "51/51 [==============================] - 0s 2ms/step - loss: 0.4219 - tp: 10491.0000 - fp: 2320.0000 - tn: 36371.0000 - fn: 2406.0000 - accuracy: 0.9084 - precision: 0.8189 - recall: 0.8134 - auc: 0.9653 - prc: 0.9043 - val_loss: 0.4764 - val_tp: 1252.0000 - val_fp: 351.0000 - val_tn: 4488.0000 - val_fn: 361.0000 - val_accuracy: 0.8896 - val_precision: 0.7810 - val_recall: 0.7762 - val_auc: 0.9567 - val_prc: 0.8825\n",
      "Epoch 50/100\n",
      "51/51 [==============================] - 0s 2ms/step - loss: 0.4193 - tp: 10491.0000 - fp: 2319.0000 - tn: 36372.0000 - fn: 2406.0000 - accuracy: 0.9084 - precision: 0.8190 - recall: 0.8134 - auc: 0.9659 - prc: 0.9058 - val_loss: 0.4252 - val_tp: 1291.0000 - val_fp: 296.0000 - val_tn: 4543.0000 - val_fn: 322.0000 - val_accuracy: 0.9042 - val_precision: 0.8135 - val_recall: 0.8004 - val_auc: 0.9648 - val_prc: 0.9046\n",
      "Epoch 51/100\n",
      "51/51 [==============================] - 0s 2ms/step - loss: 0.4191 - tp: 10512.0000 - fp: 2307.0000 - tn: 36384.0000 - fn: 2385.0000 - accuracy: 0.9090 - precision: 0.8200 - recall: 0.8151 - auc: 0.9659 - prc: 0.9060 - val_loss: 0.4209 - val_tp: 1312.0000 - val_fp: 284.0000 - val_tn: 4555.0000 - val_fn: 301.0000 - val_accuracy: 0.9093 - val_precision: 0.8221 - val_recall: 0.8134 - val_auc: 0.9659 - val_prc: 0.9077\n",
      "Epoch 52/100\n",
      "51/51 [==============================] - 0s 2ms/step - loss: 0.4111 - tp: 10537.0000 - fp: 2276.0000 - tn: 36415.0000 - fn: 2360.0000 - accuracy: 0.9101 - precision: 0.8224 - recall: 0.8170 - auc: 0.9672 - prc: 0.9093 - val_loss: 0.4249 - val_tp: 1309.0000 - val_fp: 291.0000 - val_tn: 4548.0000 - val_fn: 304.0000 - val_accuracy: 0.9078 - val_precision: 0.8181 - val_recall: 0.8115 - val_auc: 0.9650 - val_prc: 0.9041\n",
      "Epoch 53/100\n",
      "51/51 [==============================] - 0s 2ms/step - loss: 0.4240 - tp: 10486.0000 - fp: 2328.0000 - tn: 36363.0000 - fn: 2411.0000 - accuracy: 0.9081 - precision: 0.8183 - recall: 0.8131 - auc: 0.9651 - prc: 0.9038 - val_loss: 0.4902 - val_tp: 1272.0000 - val_fp: 336.0000 - val_tn: 4503.0000 - val_fn: 341.0000 - val_accuracy: 0.8951 - val_precision: 0.7910 - val_recall: 0.7886 - val_auc: 0.9547 - val_prc: 0.8798\n",
      "Epoch 54/100\n",
      "51/51 [==============================] - 0s 2ms/step - loss: 0.4161 - tp: 10502.0000 - fp: 2321.0000 - tn: 36370.0000 - fn: 2395.0000 - accuracy: 0.9086 - precision: 0.8190 - recall: 0.8143 - auc: 0.9664 - prc: 0.9073 - val_loss: 0.4581 - val_tp: 1281.0000 - val_fp: 309.0000 - val_tn: 4530.0000 - val_fn: 332.0000 - val_accuracy: 0.9007 - val_precision: 0.8057 - val_recall: 0.7942 - val_auc: 0.9599 - val_prc: 0.8913\n",
      "Epoch 55/100\n",
      "51/51 [==============================] - 0s 2ms/step - loss: 0.4128 - tp: 10549.0000 - fp: 2246.0000 - tn: 36445.0000 - fn: 2348.0000 - accuracy: 0.9109 - precision: 0.8245 - recall: 0.8179 - auc: 0.9669 - prc: 0.9086 - val_loss: 0.4371 - val_tp: 1293.0000 - val_fp: 309.0000 - val_tn: 4530.0000 - val_fn: 320.0000 - val_accuracy: 0.9025 - val_precision: 0.8071 - val_recall: 0.8016 - val_auc: 0.9632 - val_prc: 0.8995\n"
     ]
    },
    {
     "name": "stdout",
     "output_type": "stream",
     "text": [
      "Epoch 56/100\n",
      "51/51 [==============================] - 0s 2ms/step - loss: 0.4237 - tp: 10467.0000 - fp: 2352.0000 - tn: 36339.0000 - fn: 2430.0000 - accuracy: 0.9073 - precision: 0.8165 - recall: 0.8116 - auc: 0.9651 - prc: 0.9037 - val_loss: 0.4511 - val_tp: 1283.0000 - val_fp: 310.0000 - val_tn: 4529.0000 - val_fn: 330.0000 - val_accuracy: 0.9008 - val_precision: 0.8054 - val_recall: 0.7954 - val_auc: 0.9615 - val_prc: 0.8954\n",
      "Epoch 57/100\n",
      "51/51 [==============================] - 0s 2ms/step - loss: 0.4135 - tp: 10534.0000 - fp: 2276.0000 - tn: 36415.0000 - fn: 2363.0000 - accuracy: 0.9101 - precision: 0.8223 - recall: 0.8168 - auc: 0.9668 - prc: 0.9084 - val_loss: 0.4221 - val_tp: 1321.0000 - val_fp: 281.0000 - val_tn: 4558.0000 - val_fn: 292.0000 - val_accuracy: 0.9112 - val_precision: 0.8246 - val_recall: 0.8190 - val_auc: 0.9657 - val_prc: 0.9059\n",
      "Epoch 58/100\n",
      "51/51 [==============================] - 0s 2ms/step - loss: 0.4134 - tp: 10549.0000 - fp: 2272.0000 - tn: 36419.0000 - fn: 2348.0000 - accuracy: 0.9104 - precision: 0.8228 - recall: 0.8179 - auc: 0.9667 - prc: 0.9079 - val_loss: 0.4159 - val_tp: 1313.0000 - val_fp: 291.0000 - val_tn: 4548.0000 - val_fn: 300.0000 - val_accuracy: 0.9084 - val_precision: 0.8186 - val_recall: 0.8140 - val_auc: 0.9667 - val_prc: 0.9093\n",
      "Epoch 59/100\n",
      "51/51 [==============================] - 0s 2ms/step - loss: 0.4221 - tp: 10508.0000 - fp: 2314.0000 - tn: 36377.0000 - fn: 2389.0000 - accuracy: 0.9088 - precision: 0.8195 - recall: 0.8148 - auc: 0.9654 - prc: 0.9045 - val_loss: 0.5057 - val_tp: 1262.0000 - val_fp: 338.0000 - val_tn: 4501.0000 - val_fn: 351.0000 - val_accuracy: 0.8932 - val_precision: 0.7887 - val_recall: 0.7824 - val_auc: 0.9533 - val_prc: 0.8776\n",
      "Epoch 60/100\n",
      "51/51 [==============================] - 0s 3ms/step - loss: 0.4215 - tp: 10490.0000 - fp: 2311.0000 - tn: 36380.0000 - fn: 2407.0000 - accuracy: 0.9085 - precision: 0.8195 - recall: 0.8134 - auc: 0.9655 - prc: 0.9053 - val_loss: 0.4363 - val_tp: 1315.0000 - val_fp: 286.0000 - val_tn: 4553.0000 - val_fn: 298.0000 - val_accuracy: 0.9095 - val_precision: 0.8214 - val_recall: 0.8153 - val_auc: 0.9637 - val_prc: 0.9020\n",
      "Epoch 61/100\n",
      "51/51 [==============================] - 0s 2ms/step - loss: 0.4075 - tp: 10553.0000 - fp: 2252.0000 - tn: 36439.0000 - fn: 2344.0000 - accuracy: 0.9109 - precision: 0.8241 - recall: 0.8183 - auc: 0.9677 - prc: 0.9109 - val_loss: 0.4714 - val_tp: 1287.0000 - val_fp: 316.0000 - val_tn: 4523.0000 - val_fn: 326.0000 - val_accuracy: 0.9005 - val_precision: 0.8029 - val_recall: 0.7979 - val_auc: 0.9585 - val_prc: 0.8889\n",
      "Epoch 62/100\n",
      "51/51 [==============================] - 0s 2ms/step - loss: 0.4073 - tp: 10593.0000 - fp: 2229.0000 - tn: 36462.0000 - fn: 2304.0000 - accuracy: 0.9121 - precision: 0.8262 - recall: 0.8214 - auc: 0.9678 - prc: 0.9114 - val_loss: 0.4401 - val_tp: 1290.0000 - val_fp: 309.0000 - val_tn: 4530.0000 - val_fn: 323.0000 - val_accuracy: 0.9020 - val_precision: 0.8068 - val_recall: 0.7998 - val_auc: 0.9622 - val_prc: 0.8967\n",
      "Epoch 63/100\n",
      "51/51 [==============================] - 0s 3ms/step - loss: 0.4192 - tp: 10503.0000 - fp: 2312.0000 - tn: 36379.0000 - fn: 2394.0000 - accuracy: 0.9088 - precision: 0.8196 - recall: 0.8144 - auc: 0.9659 - prc: 0.9057 - val_loss: 0.4709 - val_tp: 1274.0000 - val_fp: 322.0000 - val_tn: 4517.0000 - val_fn: 339.0000 - val_accuracy: 0.8976 - val_precision: 0.7982 - val_recall: 0.7898 - val_auc: 0.9580 - val_prc: 0.8868\n",
      "Epoch 64/100\n",
      "51/51 [==============================] - 0s 2ms/step - loss: 0.4087 - tp: 10573.0000 - fp: 2242.0000 - tn: 36449.0000 - fn: 2324.0000 - accuracy: 0.9115 - precision: 0.8250 - recall: 0.8198 - auc: 0.9677 - prc: 0.9105 - val_loss: 0.5213 - val_tp: 1244.0000 - val_fp: 358.0000 - val_tn: 4481.0000 - val_fn: 369.0000 - val_accuracy: 0.8873 - val_precision: 0.7765 - val_recall: 0.7712 - val_auc: 0.9504 - val_prc: 0.8641\n",
      "Epoch 65/100\n",
      "51/51 [==============================] - 0s 2ms/step - loss: 0.4071 - tp: 10566.0000 - fp: 2249.0000 - tn: 36442.0000 - fn: 2331.0000 - accuracy: 0.9112 - precision: 0.8245 - recall: 0.8193 - auc: 0.9677 - prc: 0.9111 - val_loss: 0.5316 - val_tp: 1236.0000 - val_fp: 369.0000 - val_tn: 4470.0000 - val_fn: 377.0000 - val_accuracy: 0.8844 - val_precision: 0.7701 - val_recall: 0.7663 - val_auc: 0.9476 - val_prc: 0.8541\n",
      "Epoch 66/100\n",
      "51/51 [==============================] - 0s 3ms/step - loss: 0.4152 - tp: 10506.0000 - fp: 2313.0000 - tn: 36378.0000 - fn: 2391.0000 - accuracy: 0.9088 - precision: 0.8196 - recall: 0.8146 - auc: 0.9665 - prc: 0.9075 - val_loss: 0.4912 - val_tp: 1256.0000 - val_fp: 340.0000 - val_tn: 4499.0000 - val_fn: 357.0000 - val_accuracy: 0.8920 - val_precision: 0.7870 - val_recall: 0.7787 - val_auc: 0.9542 - val_prc: 0.8758\n",
      "Epoch 67/100\n",
      "51/51 [==============================] - 0s 2ms/step - loss: 0.4071 - tp: 10581.0000 - fp: 2236.0000 - tn: 36455.0000 - fn: 2316.0000 - accuracy: 0.9118 - precision: 0.8255 - recall: 0.8204 - auc: 0.9678 - prc: 0.9112 - val_loss: 0.4346 - val_tp: 1310.0000 - val_fp: 296.0000 - val_tn: 4543.0000 - val_fn: 303.0000 - val_accuracy: 0.9072 - val_precision: 0.8157 - val_recall: 0.8122 - val_auc: 0.9634 - val_prc: 0.8999\n",
      "Epoch 68/100\n",
      "51/51 [==============================] - 0s 2ms/step - loss: 0.4067 - tp: 10584.0000 - fp: 2230.0000 - tn: 36461.0000 - fn: 2313.0000 - accuracy: 0.9119 - precision: 0.8260 - recall: 0.8207 - auc: 0.9679 - prc: 0.9113 - val_loss: 0.4731 - val_tp: 1280.0000 - val_fp: 320.0000 - val_tn: 4519.0000 - val_fn: 333.0000 - val_accuracy: 0.8988 - val_precision: 0.8000 - val_recall: 0.7936 - val_auc: 0.9586 - val_prc: 0.8873\n",
      "Epoch 69/100\n",
      "51/51 [==============================] - 0s 2ms/step - loss: 0.4077 - tp: 10585.0000 - fp: 2237.0000 - tn: 36454.0000 - fn: 2312.0000 - accuracy: 0.9118 - precision: 0.8255 - recall: 0.8207 - auc: 0.9675 - prc: 0.9103 - val_loss: 0.4642 - val_tp: 1267.0000 - val_fp: 333.0000 - val_tn: 4506.0000 - val_fn: 346.0000 - val_accuracy: 0.8948 - val_precision: 0.7919 - val_recall: 0.7855 - val_auc: 0.9593 - val_prc: 0.8895\n",
      "Epoch 70/100\n",
      "51/51 [==============================] - 0s 2ms/step - loss: 0.4057 - tp: 10579.0000 - fp: 2246.0000 - tn: 36445.0000 - fn: 2318.0000 - accuracy: 0.9115 - precision: 0.8249 - recall: 0.8203 - auc: 0.9679 - prc: 0.9115 - val_loss: 0.4428 - val_tp: 1316.0000 - val_fp: 285.0000 - val_tn: 4554.0000 - val_fn: 297.0000 - val_accuracy: 0.9098 - val_precision: 0.8220 - val_recall: 0.8159 - val_auc: 0.9624 - val_prc: 0.8991\n",
      "Epoch 71/100\n",
      "51/51 [==============================] - 0s 2ms/step - loss: 0.4012 - tp: 10583.0000 - fp: 2222.0000 - tn: 36469.0000 - fn: 2314.0000 - accuracy: 0.9121 - precision: 0.8265 - recall: 0.8206 - auc: 0.9688 - prc: 0.9139 - val_loss: 0.4603 - val_tp: 1277.0000 - val_fp: 330.0000 - val_tn: 4509.0000 - val_fn: 336.0000 - val_accuracy: 0.8968 - val_precision: 0.7946 - val_recall: 0.7917 - val_auc: 0.9595 - val_prc: 0.8898\n",
      "Epoch 72/100\n",
      "51/51 [==============================] - 0s 3ms/step - loss: 0.4042 - tp: 10597.0000 - fp: 2211.0000 - tn: 36480.0000 - fn: 2300.0000 - accuracy: 0.9126 - precision: 0.8274 - recall: 0.8217 - auc: 0.9684 - prc: 0.9128 - val_loss: 0.4495 - val_tp: 1295.0000 - val_fp: 311.0000 - val_tn: 4528.0000 - val_fn: 318.0000 - val_accuracy: 0.9025 - val_precision: 0.8064 - val_recall: 0.8029 - val_auc: 0.9609 - val_prc: 0.8927\n",
      "Epoch 73/100\n",
      "51/51 [==============================] - 0s 2ms/step - loss: 0.4033 - tp: 10579.0000 - fp: 2248.0000 - tn: 36443.0000 - fn: 2318.0000 - accuracy: 0.9115 - precision: 0.8247 - recall: 0.8203 - auc: 0.9684 - prc: 0.9125 - val_loss: 0.4166 - val_tp: 1315.0000 - val_fp: 287.0000 - val_tn: 4552.0000 - val_fn: 298.0000 - val_accuracy: 0.9093 - val_precision: 0.8208 - val_recall: 0.8153 - val_auc: 0.9666 - val_prc: 0.9094\n",
      "Epoch 74/100\n",
      "51/51 [==============================] - 0s 2ms/step - loss: 0.4172 - tp: 10534.0000 - fp: 2283.0000 - tn: 36408.0000 - fn: 2363.0000 - accuracy: 0.9099 - precision: 0.8219 - recall: 0.8168 - auc: 0.9661 - prc: 0.9064 - val_loss: 0.4214 - val_tp: 1318.0000 - val_fp: 282.0000 - val_tn: 4557.0000 - val_fn: 295.0000 - val_accuracy: 0.9106 - val_precision: 0.8238 - val_recall: 0.8171 - val_auc: 0.9657 - val_prc: 0.9062\n"
     ]
    },
    {
     "name": "stdout",
     "output_type": "stream",
     "text": [
      "Epoch 75/100\n",
      "51/51 [==============================] - 0s 2ms/step - loss: 0.4045 - tp: 10592.0000 - fp: 2244.0000 - tn: 36447.0000 - fn: 2305.0000 - accuracy: 0.9118 - precision: 0.8252 - recall: 0.8213 - auc: 0.9682 - prc: 0.9125 - val_loss: 0.4401 - val_tp: 1292.0000 - val_fp: 308.0000 - val_tn: 4531.0000 - val_fn: 321.0000 - val_accuracy: 0.9025 - val_precision: 0.8075 - val_recall: 0.8010 - val_auc: 0.9630 - val_prc: 0.8990\n",
      "Epoch 76/100\n",
      "51/51 [==============================] - 0s 2ms/step - loss: 0.3998 - tp: 10619.0000 - fp: 2204.0000 - tn: 36487.0000 - fn: 2278.0000 - accuracy: 0.9131 - precision: 0.8281 - recall: 0.8234 - auc: 0.9689 - prc: 0.9140 - val_loss: 0.4165 - val_tp: 1326.0000 - val_fp: 281.0000 - val_tn: 4558.0000 - val_fn: 287.0000 - val_accuracy: 0.9120 - val_precision: 0.8251 - val_recall: 0.8221 - val_auc: 0.9668 - val_prc: 0.9100\n",
      "Epoch 77/100\n",
      "51/51 [==============================] - 0s 2ms/step - loss: 0.4033 - tp: 10614.0000 - fp: 2221.0000 - tn: 36470.0000 - fn: 2283.0000 - accuracy: 0.9127 - precision: 0.8270 - recall: 0.8230 - auc: 0.9684 - prc: 0.9126 - val_loss: 0.4726 - val_tp: 1275.0000 - val_fp: 332.0000 - val_tn: 4507.0000 - val_fn: 338.0000 - val_accuracy: 0.8962 - val_precision: 0.7934 - val_recall: 0.7905 - val_auc: 0.9575 - val_prc: 0.8849\n",
      "Epoch 78/100\n",
      "51/51 [==============================] - 0s 2ms/step - loss: 0.4077 - tp: 10597.0000 - fp: 2225.0000 - tn: 36466.0000 - fn: 2300.0000 - accuracy: 0.9123 - precision: 0.8265 - recall: 0.8217 - auc: 0.9677 - prc: 0.9108 - val_loss: 0.4484 - val_tp: 1296.0000 - val_fp: 308.0000 - val_tn: 4531.0000 - val_fn: 317.0000 - val_accuracy: 0.9031 - val_precision: 0.8080 - val_recall: 0.8035 - val_auc: 0.9615 - val_prc: 0.8969\n",
      "Epoch 79/100\n",
      "51/51 [==============================] - 0s 3ms/step - loss: 0.4029 - tp: 10621.0000 - fp: 2204.0000 - tn: 36487.0000 - fn: 2276.0000 - accuracy: 0.9132 - precision: 0.8281 - recall: 0.8235 - auc: 0.9684 - prc: 0.9130 - val_loss: 0.4597 - val_tp: 1290.0000 - val_fp: 319.0000 - val_tn: 4520.0000 - val_fn: 323.0000 - val_accuracy: 0.9005 - val_precision: 0.8017 - val_recall: 0.7998 - val_auc: 0.9589 - val_prc: 0.8859\n",
      "Epoch 80/100\n",
      "51/51 [==============================] - 0s 2ms/step - loss: 0.4086 - tp: 10575.0000 - fp: 2259.0000 - tn: 36432.0000 - fn: 2322.0000 - accuracy: 0.9112 - precision: 0.8240 - recall: 0.8200 - auc: 0.9675 - prc: 0.9101 - val_loss: 0.4379 - val_tp: 1311.0000 - val_fp: 291.0000 - val_tn: 4548.0000 - val_fn: 302.0000 - val_accuracy: 0.9081 - val_precision: 0.8184 - val_recall: 0.8128 - val_auc: 0.9636 - val_prc: 0.9014\n",
      "Epoch 81/100\n",
      "51/51 [==============================] - 0s 2ms/step - loss: 0.4060 - tp: 10618.0000 - fp: 2190.0000 - tn: 36501.0000 - fn: 2279.0000 - accuracy: 0.9134 - precision: 0.8290 - recall: 0.8233 - auc: 0.9680 - prc: 0.9118 - val_loss: 0.4290 - val_tp: 1312.0000 - val_fp: 294.0000 - val_tn: 4545.0000 - val_fn: 301.0000 - val_accuracy: 0.9078 - val_precision: 0.8169 - val_recall: 0.8134 - val_auc: 0.9647 - val_prc: 0.9037\n",
      "Epoch 82/100\n",
      "51/51 [==============================] - 0s 2ms/step - loss: 0.4019 - tp: 10611.0000 - fp: 2220.0000 - tn: 36471.0000 - fn: 2286.0000 - accuracy: 0.9127 - precision: 0.8270 - recall: 0.8227 - auc: 0.9686 - prc: 0.9132 - val_loss: 0.4279 - val_tp: 1306.0000 - val_fp: 286.0000 - val_tn: 4553.0000 - val_fn: 307.0000 - val_accuracy: 0.9081 - val_precision: 0.8204 - val_recall: 0.8097 - val_auc: 0.9648 - val_prc: 0.9037\n",
      "Epoch 83/100\n",
      "51/51 [==============================] - 0s 3ms/step - loss: 0.4037 - tp: 10588.0000 - fp: 2243.0000 - tn: 36448.0000 - fn: 2309.0000 - accuracy: 0.9118 - precision: 0.8252 - recall: 0.8210 - auc: 0.9683 - prc: 0.9125 - val_loss: 0.4188 - val_tp: 1317.0000 - val_fp: 285.0000 - val_tn: 4554.0000 - val_fn: 296.0000 - val_accuracy: 0.9100 - val_precision: 0.8221 - val_recall: 0.8165 - val_auc: 0.9665 - val_prc: 0.9084\n",
      "Epoch 84/100\n",
      "51/51 [==============================] - 0s 2ms/step - loss: 0.3987 - tp: 10637.0000 - fp: 2175.0000 - tn: 36516.0000 - fn: 2260.0000 - accuracy: 0.9140 - precision: 0.8302 - recall: 0.8248 - auc: 0.9691 - prc: 0.9145 - val_loss: 0.4366 - val_tp: 1294.0000 - val_fp: 312.0000 - val_tn: 4527.0000 - val_fn: 319.0000 - val_accuracy: 0.9022 - val_precision: 0.8057 - val_recall: 0.8022 - val_auc: 0.9633 - val_prc: 0.8996\n",
      "Epoch 85/100\n",
      "51/51 [==============================] - 0s 2ms/step - loss: 0.4057 - tp: 10607.0000 - fp: 2211.0000 - tn: 36480.0000 - fn: 2290.0000 - accuracy: 0.9128 - precision: 0.8275 - recall: 0.8224 - auc: 0.9680 - prc: 0.9116 - val_loss: 0.4225 - val_tp: 1313.0000 - val_fp: 292.0000 - val_tn: 4547.0000 - val_fn: 300.0000 - val_accuracy: 0.9082 - val_precision: 0.8181 - val_recall: 0.8140 - val_auc: 0.9656 - val_prc: 0.9064\n",
      "Epoch 86/100\n",
      "51/51 [==============================] - 0s 2ms/step - loss: 0.3953 - tp: 10656.0000 - fp: 2184.0000 - tn: 36507.0000 - fn: 2241.0000 - accuracy: 0.9142 - precision: 0.8299 - recall: 0.8262 - auc: 0.9697 - prc: 0.9162 - val_loss: 0.5510 - val_tp: 1226.0000 - val_fp: 377.0000 - val_tn: 4462.0000 - val_fn: 387.0000 - val_accuracy: 0.8816 - val_precision: 0.7648 - val_recall: 0.7601 - val_auc: 0.9469 - val_prc: 0.8587\n",
      "Epoch 87/100\n",
      "51/51 [==============================] - 0s 2ms/step - loss: 0.4030 - tp: 10606.0000 - fp: 2216.0000 - tn: 36475.0000 - fn: 2291.0000 - accuracy: 0.9126 - precision: 0.8272 - recall: 0.8224 - auc: 0.9684 - prc: 0.9126 - val_loss: 0.4178 - val_tp: 1315.0000 - val_fp: 285.0000 - val_tn: 4554.0000 - val_fn: 298.0000 - val_accuracy: 0.9096 - val_precision: 0.8219 - val_recall: 0.8153 - val_auc: 0.9662 - val_prc: 0.9085\n",
      "Epoch 88/100\n",
      "51/51 [==============================] - 0s 2ms/step - loss: 0.4056 - tp: 10586.0000 - fp: 2237.0000 - tn: 36454.0000 - fn: 2311.0000 - accuracy: 0.9118 - precision: 0.8255 - recall: 0.8208 - auc: 0.9679 - prc: 0.9112 - val_loss: 0.4286 - val_tp: 1300.0000 - val_fp: 301.0000 - val_tn: 4538.0000 - val_fn: 313.0000 - val_accuracy: 0.9048 - val_precision: 0.8120 - val_recall: 0.8060 - val_auc: 0.9649 - val_prc: 0.9040\n",
      "Epoch 89/100\n",
      "51/51 [==============================] - 0s 2ms/step - loss: 0.3979 - tp: 10606.0000 - fp: 2234.0000 - tn: 36457.0000 - fn: 2291.0000 - accuracy: 0.9123 - precision: 0.8260 - recall: 0.8224 - auc: 0.9692 - prc: 0.9151 - val_loss: 0.4422 - val_tp: 1298.0000 - val_fp: 308.0000 - val_tn: 4531.0000 - val_fn: 315.0000 - val_accuracy: 0.9034 - val_precision: 0.8082 - val_recall: 0.8047 - val_auc: 0.9620 - val_prc: 0.8956\n",
      "Epoch 90/100\n",
      "51/51 [==============================] - 0s 2ms/step - loss: 0.4046 - tp: 10583.0000 - fp: 2232.0000 - tn: 36459.0000 - fn: 2314.0000 - accuracy: 0.9119 - precision: 0.8258 - recall: 0.8206 - auc: 0.9681 - prc: 0.9118 - val_loss: 0.4239 - val_tp: 1294.0000 - val_fp: 300.0000 - val_tn: 4539.0000 - val_fn: 319.0000 - val_accuracy: 0.9041 - val_precision: 0.8118 - val_recall: 0.8022 - val_auc: 0.9653 - val_prc: 0.9057\n",
      "Epoch 91/100\n",
      "51/51 [==============================] - 0s 2ms/step - loss: 0.3992 - tp: 10615.0000 - fp: 2206.0000 - tn: 36485.0000 - fn: 2282.0000 - accuracy: 0.9130 - precision: 0.8279 - recall: 0.8231 - auc: 0.9689 - prc: 0.9144 - val_loss: 0.4543 - val_tp: 1291.0000 - val_fp: 312.0000 - val_tn: 4527.0000 - val_fn: 322.0000 - val_accuracy: 0.9017 - val_precision: 0.8054 - val_recall: 0.8004 - val_auc: 0.9604 - val_prc: 0.8918\n",
      "Epoch 92/100\n",
      "51/51 [==============================] - 0s 2ms/step - loss: 0.3971 - tp: 10639.0000 - fp: 2174.0000 - tn: 36517.0000 - fn: 2258.0000 - accuracy: 0.9141 - precision: 0.8303 - recall: 0.8249 - auc: 0.9693 - prc: 0.9154 - val_loss: 0.4324 - val_tp: 1309.0000 - val_fp: 293.0000 - val_tn: 4546.0000 - val_fn: 304.0000 - val_accuracy: 0.9075 - val_precision: 0.8171 - val_recall: 0.8115 - val_auc: 0.9643 - val_prc: 0.9032\n",
      "Epoch 93/100\n",
      "51/51 [==============================] - 0s 2ms/step - loss: 0.3951 - tp: 10655.0000 - fp: 2168.0000 - tn: 36523.0000 - fn: 2242.0000 - accuracy: 0.9145 - precision: 0.8309 - recall: 0.8262 - auc: 0.9696 - prc: 0.9163 - val_loss: 0.4265 - val_tp: 1320.0000 - val_fp: 284.0000 - val_tn: 4555.0000 - val_fn: 293.0000 - val_accuracy: 0.9106 - val_precision: 0.8229 - val_recall: 0.8184 - val_auc: 0.9648 - val_prc: 0.9036\n"
     ]
    },
    {
     "name": "stdout",
     "output_type": "stream",
     "text": [
      "Epoch 94/100\n",
      "51/51 [==============================] - 0s 2ms/step - loss: 0.4031 - tp: 10594.0000 - fp: 2235.0000 - tn: 36456.0000 - fn: 2303.0000 - accuracy: 0.9120 - precision: 0.8258 - recall: 0.8214 - auc: 0.9683 - prc: 0.9127 - val_loss: 0.4199 - val_tp: 1316.0000 - val_fp: 286.0000 - val_tn: 4553.0000 - val_fn: 297.0000 - val_accuracy: 0.9096 - val_precision: 0.8215 - val_recall: 0.8159 - val_auc: 0.9659 - val_prc: 0.9071\n",
      "Epoch 95/100\n",
      "51/51 [==============================] - 0s 2ms/step - loss: 0.3995 - tp: 10614.0000 - fp: 2201.0000 - tn: 36490.0000 - fn: 2283.0000 - accuracy: 0.9131 - precision: 0.8282 - recall: 0.8230 - auc: 0.9690 - prc: 0.9143 - val_loss: 0.5126 - val_tp: 1257.0000 - val_fp: 336.0000 - val_tn: 4503.0000 - val_fn: 356.0000 - val_accuracy: 0.8927 - val_precision: 0.7891 - val_recall: 0.7793 - val_auc: 0.9529 - val_prc: 0.8751\n",
      "Epoch 96/100\n",
      "51/51 [==============================] - 0s 2ms/step - loss: 0.3971 - tp: 10646.0000 - fp: 2193.0000 - tn: 36498.0000 - fn: 2251.0000 - accuracy: 0.9139 - precision: 0.8292 - recall: 0.8255 - auc: 0.9693 - prc: 0.9152 - val_loss: 0.4287 - val_tp: 1305.0000 - val_fp: 302.0000 - val_tn: 4537.0000 - val_fn: 308.0000 - val_accuracy: 0.9055 - val_precision: 0.8121 - val_recall: 0.8091 - val_auc: 0.9645 - val_prc: 0.9025\n",
      "Epoch 97/100\n",
      "51/51 [==============================] - 0s 2ms/step - loss: 0.3940 - tp: 10635.0000 - fp: 2187.0000 - tn: 36504.0000 - fn: 2262.0000 - accuracy: 0.9138 - precision: 0.8294 - recall: 0.8246 - auc: 0.9698 - prc: 0.9164 - val_loss: 0.5233 - val_tp: 1247.0000 - val_fp: 363.0000 - val_tn: 4476.0000 - val_fn: 366.0000 - val_accuracy: 0.8870 - val_precision: 0.7745 - val_recall: 0.7731 - val_auc: 0.9504 - val_prc: 0.8635\n",
      "Epoch 98/100\n",
      "51/51 [==============================] - 0s 2ms/step - loss: 0.3957 - tp: 10655.0000 - fp: 2176.0000 - tn: 36515.0000 - fn: 2242.0000 - accuracy: 0.9144 - precision: 0.8304 - recall: 0.8262 - auc: 0.9695 - prc: 0.9160 - val_loss: 0.4177 - val_tp: 1307.0000 - val_fp: 290.0000 - val_tn: 4549.0000 - val_fn: 306.0000 - val_accuracy: 0.9076 - val_precision: 0.8184 - val_recall: 0.8103 - val_auc: 0.9661 - val_prc: 0.9075\n",
      "Epoch 99/100\n",
      "51/51 [==============================] - 0s 2ms/step - loss: 0.3979 - tp: 10608.0000 - fp: 2229.0000 - tn: 36462.0000 - fn: 2289.0000 - accuracy: 0.9124 - precision: 0.8264 - recall: 0.8225 - auc: 0.9692 - prc: 0.9148 - val_loss: 0.4225 - val_tp: 1321.0000 - val_fp: 286.0000 - val_tn: 4553.0000 - val_fn: 292.0000 - val_accuracy: 0.9104 - val_precision: 0.8220 - val_recall: 0.8190 - val_auc: 0.9659 - val_prc: 0.9063\n",
      "Epoch 100/100\n",
      "51/51 [==============================] - 0s 2ms/step - loss: 0.3966 - tp: 10648.0000 - fp: 2189.0000 - tn: 36502.0000 - fn: 2249.0000 - accuracy: 0.9140 - precision: 0.8295 - recall: 0.8256 - auc: 0.9693 - prc: 0.9149 - val_loss: 0.4909 - val_tp: 1282.0000 - val_fp: 321.0000 - val_tn: 4518.0000 - val_fn: 331.0000 - val_accuracy: 0.8989 - val_precision: 0.7998 - val_recall: 0.7948 - val_auc: 0.9558 - val_prc: 0.8826\n",
      "51/51 [==============================] - 0s 940us/step\n",
      "7/7 [==============================] - 0s 2ms/step\n",
      "loss :  0.4909203350543976\n",
      "tp :  1282.0\n",
      "fp :  321.0\n",
      "tn :  4518.0\n",
      "fn :  331.0\n",
      "accuracy :  0.8989460468292236\n",
      "precision :  0.7997504472732544\n",
      "recall :  0.7947922945022583\n",
      "auc :  0.9558188915252686\n",
      "prc :  0.8825627565383911\n",
      "\n"
     ]
    },
    {
     "data": {
      "image/png": "[encoded data removed]",
      "text/plain": [
       "<Figure size 432x288 with 4 Axes>"
      ]
     },
     "metadata": {
      "needs_background": "light"
     },
     "output_type": "display_data"
    },
    {
     "data": {
      "image/png": "[encoded data removed]",
      "text/plain": [
       "<Figure size 360x360 with 2 Axes>"
      ]
     },
     "metadata": {
      "needs_background": "light"
     },
     "output_type": "display_data"
    }
   ],
   "source": [
    "model = build_model(2, [30,20], 0.5, (17,), \"relu\", \"adam\", \"categorical_crossentropy\", METRICS, \"softmax\", 4)\n",
    "\n",
    "\n",
    "model.summary()\n",
    "h_100x4x100= model.fit(X_train,y_train,epochs=100,validation_data=(X_test,y_test), batch_size=256)\n",
    "\n",
    "\n",
    "\n",
    "\n",
    "train_predictions_baseline = model.predict(X_train, batch_size=256)\n",
    "test_predictions_baseline = model.predict(X_test, batch_size=256)\n",
    "\n",
    "\n",
    "plot_metrics(h_100x4x100)\n",
    "\n",
    "baseline_results = model.evaluate(X_test, y_test,\n",
    "                                  batch_size=256, verbose=0)\n",
    "for name, value in zip(model.metrics_names, baseline_results):\n",
    "  print(name, ': ', value)\n",
    "print()\n",
    "\n",
    "plot_cm(np.argmax(y_test.to_numpy(),axis=1), test_predictions_baseline.argmax(axis=1))"
   ]
  },
  {
   "cell_type": "markdown",
   "metadata": {},
   "source": [
    "IGNORAR NLP CON TORCH"
   ]
  },
  {
   "cell_type": "code",
   "execution_count": null,
   "metadata": {},
   "outputs": [],
   "source": []
  },
  {
   "cell_type": "code",
   "execution_count": null,
   "metadata": {},
   "outputs": [],
   "source": []
  },
  {
   "cell_type": "code",
   "execution_count": null,
   "metadata": {},
   "outputs": [],
   "source": []
  },
  {
   "cell_type": "markdown",
   "metadata": {},
   "source": []
  },
  {
   "cell_type": "code",
   "execution_count": null,
   "metadata": {},
   "outputs": [],
   "source": []
  },
  {
   "cell_type": "code",
   "execution_count": null,
   "metadata": {},
   "outputs": [],
   "source": [
    "cadenas"
   ]
  },
  {
   "cell_type": "code",
   "execution_count": null,
   "metadata": {},
   "outputs": [],
   "source": [
    "datos = []\n",
    "for x,y in zip(cadenas,cadenas_target):\n",
    "\n",
    "\n",
    "    misdatos  = {}\n",
    "    misdatos['label'] = y\n",
    "    misdatos['text'] = x\n",
    "    datos.append(misdatos)\n"
   ]
  },
  {
   "cell_type": "code",
   "execution_count": null,
   "metadata": {},
   "outputs": [],
   "source": [
    "df = pd.DataFrame(data=np.reshape(cadenas,(-1,1)),columns=['text'])"
   ]
  },
  {
   "cell_type": "code",
   "execution_count": null,
   "metadata": {},
   "outputs": [],
   "source": [
    "df['label'] = np.reshape(cadenas_target,(-1,1))"
   ]
  },
  {
   "cell_type": "code",
   "execution_count": null,
   "metadata": {},
   "outputs": [],
   "source": [
    "from datasets import Dataset\n",
    "ds = Dataset.from_pandas(df)\n",
    "ds = ds.with_format('torch')\n",
    "from transformers import AutoTokenizer\n",
    "\n",
    "tokenizer = AutoTokenizer.from_pretrained(\"distilbert-base-uncased\")"
   ]
  },
  {
   "cell_type": "code",
   "execution_count": null,
   "metadata": {},
   "outputs": [],
   "source": []
  },
  {
   "cell_type": "code",
   "execution_count": null,
   "metadata": {},
   "outputs": [],
   "source": [
    "def preprocess_function(examples):\n",
    "    return tokenizer(examples['text'], truncation=True)"
   ]
  },
  {
   "cell_type": "code",
   "execution_count": null,
   "metadata": {},
   "outputs": [],
   "source": [
    "ds = ds.map(preprocess_function, batched=True)\n"
   ]
  },
  {
   "cell_type": "code",
   "execution_count": null,
   "metadata": {},
   "outputs": [],
   "source": [
    "from transformers import DataCollatorWithPadding\n",
    "data_collator = DataCollatorWithPadding(tokenizer=tokenizer)\n"
   ]
  },
  {
   "cell_type": "code",
   "execution_count": null,
   "metadata": {},
   "outputs": [],
   "source": []
  },
  {
   "cell_type": "code",
   "execution_count": null,
   "metadata": {},
   "outputs": [],
   "source": [
    "from transformers import AutoModelForSequenceClassification, TrainingArguments, Trainer\n",
    "\n",
    "model = AutoModelForSequenceClassification.from_pretrained(\"distilbert-base-uncased\", num_labels=4)"
   ]
  },
  {
   "cell_type": "code",
   "execution_count": null,
   "metadata": {},
   "outputs": [],
   "source": [
    "from datasets import load_metric\n",
    "metric = load_metric('accuracy')\n",
    "\n",
    "def compute_metrics(eval_pred):\n",
    "    predictions, labels = eval_pred\n",
    "    predictions = np.argmax(predictions, axis=1)\n",
    "    return metric.compute(predictions=predictions, references=labels)"
   ]
  },
  {
   "cell_type": "code",
   "execution_count": null,
   "metadata": {},
   "outputs": [],
   "source": [
    "ds = ds.train_test_split(0.3)"
   ]
  },
  {
   "cell_type": "code",
   "execution_count": null,
   "metadata": {},
   "outputs": [],
   "source": [
    "training_args = TrainingArguments(\n",
    "    output_dir=\"./results\",\n",
    "    learning_rate=2e-5,\n",
    "    per_device_train_batch_size=16,\n",
    "    per_device_eval_batch_size=16,\n",
    "    num_train_epochs=5,\n",
    "    weight_decay=0.01,\n",
    "    evaluation_strategy='epoch'\n",
    ")\n",
    "\n",
    "trainer = Trainer(\n",
    "    model=model,\n",
    "    args=training_args,\n",
    "    train_dataset=ds['train'],\n",
    "    eval_dataset=ds[\"test\"],\n",
    "    tokenizer=tokenizer,\n",
    "    compute_metrics=compute_metrics,\n",
    "    data_collator=data_collator,\n",
    ")\n",
    "\n",
    "trainer.train()"
   ]
  }
 ],
 "metadata": {
  "kernelspec": {
   "display_name": "Python 3 (ipykernel)",
   "language": "python",
   "name": "python3"
  },
  "language_info": {
   "codemirror_mode": {
    "name": "ipython",
    "version": 3
   },
   "file_extension": ".py",
   "mimetype": "text/x-python",
   "name": "python",
   "nbconvert_exporter": "python",
   "pygments_lexer": "ipython3",
   "version": "3.9.13"
  },
  "vscode": {
   "interpreter": {
    "hash": "8863d0c6094564aaeb41a5a3a6a2d4ce9faecc1a6add5ccddbb72eef631d0103"
   }
  }
 },
 "nbformat": 4,
 "nbformat_minor": 2
}
